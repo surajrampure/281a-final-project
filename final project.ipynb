{
 "cells": [
  {
   "cell_type": "code",
   "execution_count": 1,
   "metadata": {
    "ExecuteTime": {
     "end_time": "2020-12-16T10:46:12.574670Z",
     "start_time": "2020-12-16T10:46:12.062782Z"
    }
   },
   "outputs": [],
   "source": [
    "import pandas as pd\n",
    "import numpy as np\n",
    "import sklearn as sk\n",
    "\n",
    "import matplotlib.pyplot as plt\n",
    "import seaborn as sns\n",
    "from matplotlib.colors import ListedColormap\n",
    "import plotly.express as px\n",
    "import plotly.graph_objs as go\n",
    "\n",
    "import torch\n",
    "import torch.nn as nn"
   ]
  },
  {
   "cell_type": "code",
   "execution_count": 6,
   "metadata": {},
   "outputs": [],
   "source": [
    "lm.LinearRegression?"
   ]
  },
  {
   "cell_type": "code",
   "execution_count": 2,
   "metadata": {
    "ExecuteTime": {
     "end_time": "2020-12-16T10:45:50.298360Z",
     "start_time": "2020-12-16T10:45:50.252418Z"
    },
    "scrolled": true
   },
   "outputs": [],
   "source": [
    "gender = pd.read_csv(\"gender.csv\")\n",
    "gender = gender.drop(['Unnamed: 0', 'School'], axis = 1)\n",
    "\n",
    "eth = pd.read_csv(\"race.csv\")\n",
    "eth = eth.drop(['Unnamed: 0', 'School'], axis = 1).rename(columns = {'Uad Uc Ethn 6 Cat': 'Ethnicity'})"
   ]
  },
  {
   "cell_type": "code",
   "execution_count": 3,
   "metadata": {
    "ExecuteTime": {
     "end_time": "2020-12-16T10:45:50.333793Z",
     "start_time": "2020-12-16T10:45:50.301263Z"
    }
   },
   "outputs": [
    {
     "data": {
      "text/html": [
       "<div>\n",
       "<style scoped>\n",
       "    .dataframe tbody tr th:only-of-type {\n",
       "        vertical-align: middle;\n",
       "    }\n",
       "\n",
       "    .dataframe tbody tr th {\n",
       "        vertical-align: top;\n",
       "    }\n",
       "\n",
       "    .dataframe thead th {\n",
       "        text-align: right;\n",
       "    }\n",
       "</style>\n",
       "<table border=\"1\" class=\"dataframe\">\n",
       "  <thead>\n",
       "    <tr style=\"text-align: right;\">\n",
       "      <th></th>\n",
       "      <th>Calculation1</th>\n",
       "      <th>City</th>\n",
       "      <th>County/State/ Territory</th>\n",
       "      <th>Count</th>\n",
       "      <th>Gender</th>\n",
       "      <th>Pivot Field Values</th>\n",
       "    </tr>\n",
       "  </thead>\n",
       "  <tbody>\n",
       "    <tr>\n",
       "      <th>0</th>\n",
       "      <td>21ST CENTURY EXPERIMENTAL SCH694223</td>\n",
       "      <td>NaN</td>\n",
       "      <td>NaN</td>\n",
       "      <td>App</td>\n",
       "      <td>Male</td>\n",
       "      <td>5</td>\n",
       "    </tr>\n",
       "    <tr>\n",
       "      <th>1</th>\n",
       "      <td>21ST CENTURY EXPERIMENTAL SCH694223</td>\n",
       "      <td>NaN</td>\n",
       "      <td>NaN</td>\n",
       "      <td>App</td>\n",
       "      <td>Female</td>\n",
       "      <td>6</td>\n",
       "    </tr>\n",
       "    <tr>\n",
       "      <th>2</th>\n",
       "      <td>21ST CENTURY EXPERIMENTAL SCH694223</td>\n",
       "      <td>NaN</td>\n",
       "      <td>NaN</td>\n",
       "      <td>App</td>\n",
       "      <td>All</td>\n",
       "      <td>11</td>\n",
       "    </tr>\n",
       "    <tr>\n",
       "      <th>3</th>\n",
       "      <td>A &amp; M CONSOLIDATED HIGH SCHOOL441400</td>\n",
       "      <td>College Station</td>\n",
       "      <td>TX</td>\n",
       "      <td>App</td>\n",
       "      <td>Male</td>\n",
       "      <td>6</td>\n",
       "    </tr>\n",
       "    <tr>\n",
       "      <th>4</th>\n",
       "      <td>A &amp; M CONSOLIDATED HIGH SCHOOL441400</td>\n",
       "      <td>College Station</td>\n",
       "      <td>TX</td>\n",
       "      <td>Adm</td>\n",
       "      <td>Female</td>\n",
       "      <td>4</td>\n",
       "    </tr>\n",
       "    <tr>\n",
       "      <th>...</th>\n",
       "      <td>...</td>\n",
       "      <td>...</td>\n",
       "      <td>...</td>\n",
       "      <td>...</td>\n",
       "      <td>...</td>\n",
       "      <td>...</td>\n",
       "    </tr>\n",
       "    <tr>\n",
       "      <th>8312</th>\n",
       "      <td>ZHIXIN HIGH SCHOOL694022</td>\n",
       "      <td>NaN</td>\n",
       "      <td>NaN</td>\n",
       "      <td>App</td>\n",
       "      <td>Male</td>\n",
       "      <td>7</td>\n",
       "    </tr>\n",
       "    <tr>\n",
       "      <th>8313</th>\n",
       "      <td>ZHIXIN HIGH SCHOOL694022</td>\n",
       "      <td>NaN</td>\n",
       "      <td>NaN</td>\n",
       "      <td>App</td>\n",
       "      <td>Female</td>\n",
       "      <td>7</td>\n",
       "    </tr>\n",
       "    <tr>\n",
       "      <th>8314</th>\n",
       "      <td>ZHIXIN HIGH SCHOOL694022</td>\n",
       "      <td>NaN</td>\n",
       "      <td>NaN</td>\n",
       "      <td>App</td>\n",
       "      <td>All</td>\n",
       "      <td>14</td>\n",
       "    </tr>\n",
       "    <tr>\n",
       "      <th>8315</th>\n",
       "      <td>ZIBO EXPERIMENTAL HIGH SCHOOL694601</td>\n",
       "      <td>NaN</td>\n",
       "      <td>NaN</td>\n",
       "      <td>App</td>\n",
       "      <td>All</td>\n",
       "      <td>6</td>\n",
       "    </tr>\n",
       "    <tr>\n",
       "      <th>8316</th>\n",
       "      <td>ZURICH INTERNATIONAL SCHOOL796330</td>\n",
       "      <td>NaN</td>\n",
       "      <td>NaN</td>\n",
       "      <td>App</td>\n",
       "      <td>All</td>\n",
       "      <td>6</td>\n",
       "    </tr>\n",
       "  </tbody>\n",
       "</table>\n",
       "<p>8317 rows × 6 columns</p>\n",
       "</div>"
      ],
      "text/plain": [
       "                              Calculation1             City  \\\n",
       "0      21ST CENTURY EXPERIMENTAL SCH694223              NaN   \n",
       "1      21ST CENTURY EXPERIMENTAL SCH694223              NaN   \n",
       "2      21ST CENTURY EXPERIMENTAL SCH694223              NaN   \n",
       "3     A & M CONSOLIDATED HIGH SCHOOL441400  College Station   \n",
       "4     A & M CONSOLIDATED HIGH SCHOOL441400  College Station   \n",
       "...                                    ...              ...   \n",
       "8312              ZHIXIN HIGH SCHOOL694022              NaN   \n",
       "8313              ZHIXIN HIGH SCHOOL694022              NaN   \n",
       "8314              ZHIXIN HIGH SCHOOL694022              NaN   \n",
       "8315   ZIBO EXPERIMENTAL HIGH SCHOOL694601              NaN   \n",
       "8316     ZURICH INTERNATIONAL SCHOOL796330              NaN   \n",
       "\n",
       "     County/State/ Territory Count  Gender  Pivot Field Values  \n",
       "0                        NaN   App    Male                   5  \n",
       "1                        NaN   App  Female                   6  \n",
       "2                        NaN   App     All                  11  \n",
       "3                         TX   App    Male                   6  \n",
       "4                         TX   Adm  Female                   4  \n",
       "...                      ...   ...     ...                 ...  \n",
       "8312                     NaN   App    Male                   7  \n",
       "8313                     NaN   App  Female                   7  \n",
       "8314                     NaN   App     All                  14  \n",
       "8315                     NaN   App     All                   6  \n",
       "8316                     NaN   App     All                   6  \n",
       "\n",
       "[8317 rows x 6 columns]"
      ]
     },
     "execution_count": 3,
     "metadata": {},
     "output_type": "execute_result"
    }
   ],
   "source": [
    "gender"
   ]
  },
  {
   "cell_type": "code",
   "execution_count": 37,
   "metadata": {},
   "outputs": [
    {
     "name": "stdout",
     "output_type": "stream",
     "text": [
      "\\begin{tabular}{llllr}\n",
      "\\toprule\n",
      "                                 Name &       Location & Count &  Gender &  Value \\\\\n",
      "\\midrule\n",
      "   SHANGHAI SMIC PRIVATE SCHOOL694240 &            NaN &   App &    Male &     18 \\\\\n",
      "           HOLLYWOOD HIGH SCHOOL51615 &    Los Angeles &   App &  Female &     29 \\\\\n",
      "  INTERNATIONAL HIGH SCHOOL FAIS52943 &  San Francisco &   App &  Female &     27 \\\\\n",
      "            PIONEER HIGH SCHOOL230088 &             MI &   Adm &  Female &      5 \\\\\n",
      " OAKRIDGE INT SCH NEWTON CAMPUS671040 &            NaN &   Adm &     All &      3 \\\\\n",
      "\\bottomrule\n",
      "\\end{tabular}\n",
      "\n"
     ]
    }
   ],
   "source": [
    "print(gender[['Calculation1', 'County/State/ Territory', 'Count', 'Gender', 'Pivot Field Values']] \\\n",
    ".rename(columns = {'Pivot Field Values': 'Value', \n",
    "                   'County/State/ Territory': 'Location',\n",
    "                   'Calculation1': 'Name'}) \\\n",
    ".sample(5, random_state=10060000) \\\n",
    ".to_latex(index=False))"
   ]
  },
  {
   "cell_type": "code",
   "execution_count": 33,
   "metadata": {},
   "outputs": [
    {
     "name": "stdout",
     "output_type": "stream",
     "text": [
      "\\begin{tabular}{llllr}\n",
      "\\toprule\n",
      "                             Name &       Location & Count &  Gender &  Value \\\\\n",
      "\\midrule\n",
      " ABRAHAM LINCOLN HIGH SCHOOL52910 &  San Francisco &   Adm &    Male &      3 \\\\\n",
      " ABRAHAM LINCOLN HIGH SCHOOL52910 &  San Francisco &   App &    Male &     52 \\\\\n",
      " ABRAHAM LINCOLN HIGH SCHOOL52910 &  San Francisco &   Enr &  Female &      6 \\\\\n",
      " ABRAHAM LINCOLN HIGH SCHOOL52910 &  San Francisco &   Adm &  Female &      6 \\\\\n",
      " ABRAHAM LINCOLN HIGH SCHOOL52910 &  San Francisco &   App &  Female &     57 \\\\\n",
      " ABRAHAM LINCOLN HIGH SCHOOL52910 &  San Francisco &   Enr &     All &      7 \\\\\n",
      " ABRAHAM LINCOLN HIGH SCHOOL52910 &  San Francisco &   Adm &     All &      9 \\\\\n",
      " ABRAHAM LINCOLN HIGH SCHOOL52910 &  San Francisco &   App &     All &    109 \\\\\n",
      "\\bottomrule\n",
      "\\end{tabular}\n",
      "\n"
     ]
    }
   ],
   "source": [
    "print(gender[['Calculation1', 'County/State/ Territory', 'Count', 'Gender', 'Pivot Field Values']] \\\n",
    ".rename(columns = {'Pivot Field Values': 'Value', \n",
    "                   'County/State/ Territory': 'Location',\n",
    "                   'Calculation1': 'Name'}) \\\n",
    ".iloc[11:19, :] \\\n",
    ".to_latex(index=False))"
   ]
  },
  {
   "cell_type": "code",
   "execution_count": 4,
   "metadata": {
    "ExecuteTime": {
     "end_time": "2020-12-16T10:45:50.345957Z",
     "start_time": "2020-12-16T10:45:50.336597Z"
    }
   },
   "outputs": [
    {
     "name": "stdout",
     "output_type": "stream",
     "text": [
      "\\begin{tabular}{llllllr}\n",
      "\\toprule\n",
      "{} &                          Calculation1 &             City & County/State/ Territory & Count &  Gender &  Pivot Field Values \\\\\n",
      "\\midrule\n",
      "0 &   21ST CENTURY EXPERIMENTAL SCH694223 &              NaN &                     NaN &   App &    Male &                   5 \\\\\n",
      "1 &   21ST CENTURY EXPERIMENTAL SCH694223 &              NaN &                     NaN &   App &  Female &                   6 \\\\\n",
      "2 &   21ST CENTURY EXPERIMENTAL SCH694223 &              NaN &                     NaN &   App &     All &                  11 \\\\\n",
      "3 &  A \\& M CONSOLIDATED HIGH SCHOOL441400 &  College Station &                      TX &   App &    Male &                   6 \\\\\n",
      "4 &  A \\& M CONSOLIDATED HIGH SCHOOL441400 &  College Station &                      TX &   Adm &  Female &                   4 \\\\\n",
      "\\bottomrule\n",
      "\\end{tabular}\n",
      "\n"
     ]
    }
   ],
   "source": [
    "print(gender.head().to_latex())"
   ]
  },
  {
   "cell_type": "code",
   "execution_count": 7,
   "metadata": {},
   "outputs": [
    {
     "name": "stdout",
     "output_type": "stream",
     "text": [
      "\\begin{tabular}{llllllr}\n",
      "\\toprule\n",
      "{} &                          Calculation1 &             City & County/State/ Territory & Count & Ethnicity &  Pivot Field Values \\\\\n",
      "\\midrule\n",
      "0 &   21ST CENTURY EXPERIMENTAL SCH694223 &              NaN &                     NaN &   App &       All &                  11 \\\\\n",
      "1 &  A \\& M CONSOLIDATED HIGH SCHOOL441400 &  College Station &                      TX &   Adm &     Asian &                   4 \\\\\n",
      "2 &  A \\& M CONSOLIDATED HIGH SCHOOL441400 &  College Station &                      TX &   App &     Asian &                   8 \\\\\n",
      "3 &  A \\& M CONSOLIDATED HIGH SCHOOL441400 &  College Station &                      TX &   Adm &       All &                   6 \\\\\n",
      "4 &  A \\& M CONSOLIDATED HIGH SCHOOL441400 &  College Station &                      TX &   App &       All &                  11 \\\\\n",
      "\\bottomrule\n",
      "\\end{tabular}\n",
      "\n"
     ]
    }
   ],
   "source": [
    "print(eth.head().to_latex())"
   ]
  },
  {
   "cell_type": "code",
   "execution_count": 38,
   "metadata": {
    "ExecuteTime": {
     "end_time": "2020-12-16T10:45:50.350914Z",
     "start_time": "2020-12-16T10:45:50.348287Z"
    }
   },
   "outputs": [],
   "source": [
    "# features: proportion of applicants that were male\n",
    "# proportion admitted male\n",
    "\n",
    "# target: in state or not AND in state, out of state, international"
   ]
  },
  {
   "cell_type": "code",
   "execution_count": 39,
   "metadata": {
    "ExecuteTime": {
     "end_time": "2020-12-16T10:45:50.357061Z",
     "start_time": "2020-12-16T10:45:50.353614Z"
    }
   },
   "outputs": [],
   "source": [
    "# we need schools with both numbers for # of students applied and # of students admitted\n",
    "# so we need to do some wranging to get that"
   ]
  },
  {
   "cell_type": "code",
   "execution_count": 40,
   "metadata": {
    "ExecuteTime": {
     "end_time": "2020-12-16T10:45:51.339617Z",
     "start_time": "2020-12-16T10:45:50.359282Z"
    }
   },
   "outputs": [],
   "source": [
    "gender_filtered = gender.groupby('Calculation1').filter(lambda df: len(df.loc[df['Count'] == 'Adm', 'Count']) > 0)"
   ]
  },
  {
   "cell_type": "code",
   "execution_count": 41,
   "metadata": {
    "ExecuteTime": {
     "end_time": "2020-12-16T10:45:51.369577Z",
     "start_time": "2020-12-16T10:45:51.342764Z"
    }
   },
   "outputs": [
    {
     "data": {
      "text/html": [
       "<div>\n",
       "<style scoped>\n",
       "    .dataframe tbody tr th:only-of-type {\n",
       "        vertical-align: middle;\n",
       "    }\n",
       "\n",
       "    .dataframe tbody tr th {\n",
       "        vertical-align: top;\n",
       "    }\n",
       "\n",
       "    .dataframe thead th {\n",
       "        text-align: right;\n",
       "    }\n",
       "</style>\n",
       "<table border=\"1\" class=\"dataframe\">\n",
       "  <thead>\n",
       "    <tr style=\"text-align: right;\">\n",
       "      <th></th>\n",
       "      <th>Calculation1</th>\n",
       "      <th>City</th>\n",
       "      <th>County/State/ Territory</th>\n",
       "      <th>Count</th>\n",
       "      <th>Gender</th>\n",
       "      <th>Pivot Field Values</th>\n",
       "    </tr>\n",
       "  </thead>\n",
       "  <tbody>\n",
       "    <tr>\n",
       "      <th>3</th>\n",
       "      <td>A &amp; M CONSOLIDATED HIGH SCHOOL441400</td>\n",
       "      <td>College Station</td>\n",
       "      <td>TX</td>\n",
       "      <td>App</td>\n",
       "      <td>Male</td>\n",
       "      <td>6</td>\n",
       "    </tr>\n",
       "    <tr>\n",
       "      <th>4</th>\n",
       "      <td>A &amp; M CONSOLIDATED HIGH SCHOOL441400</td>\n",
       "      <td>College Station</td>\n",
       "      <td>TX</td>\n",
       "      <td>Adm</td>\n",
       "      <td>Female</td>\n",
       "      <td>4</td>\n",
       "    </tr>\n",
       "    <tr>\n",
       "      <th>5</th>\n",
       "      <td>A &amp; M CONSOLIDATED HIGH SCHOOL441400</td>\n",
       "      <td>College Station</td>\n",
       "      <td>TX</td>\n",
       "      <td>Adm</td>\n",
       "      <td>All</td>\n",
       "      <td>6</td>\n",
       "    </tr>\n",
       "    <tr>\n",
       "      <th>6</th>\n",
       "      <td>A &amp; M CONSOLIDATED HIGH SCHOOL441400</td>\n",
       "      <td>College Station</td>\n",
       "      <td>TX</td>\n",
       "      <td>App</td>\n",
       "      <td>All</td>\n",
       "      <td>11</td>\n",
       "    </tr>\n",
       "    <tr>\n",
       "      <th>7</th>\n",
       "      <td>A B MILLER HIGH SCHOOL50944</td>\n",
       "      <td>Fontana</td>\n",
       "      <td>San Bernardino</td>\n",
       "      <td>Adm</td>\n",
       "      <td>Male</td>\n",
       "      <td>3</td>\n",
       "    </tr>\n",
       "    <tr>\n",
       "      <th>...</th>\n",
       "      <td>...</td>\n",
       "      <td>...</td>\n",
       "      <td>...</td>\n",
       "      <td>...</td>\n",
       "      <td>...</td>\n",
       "      <td>...</td>\n",
       "    </tr>\n",
       "    <tr>\n",
       "      <th>8305</th>\n",
       "      <td>YUCAIPA SENIOR HIGH SCHOOL53820</td>\n",
       "      <td>Yucaipa</td>\n",
       "      <td>San Bernardino</td>\n",
       "      <td>App</td>\n",
       "      <td>All</td>\n",
       "      <td>19</td>\n",
       "    </tr>\n",
       "    <tr>\n",
       "      <th>8306</th>\n",
       "      <td>ZHENGZHOU FOREIGN LANGUAGE SCH694361</td>\n",
       "      <td>NaN</td>\n",
       "      <td>NaN</td>\n",
       "      <td>App</td>\n",
       "      <td>Male</td>\n",
       "      <td>39</td>\n",
       "    </tr>\n",
       "    <tr>\n",
       "      <th>8307</th>\n",
       "      <td>ZHENGZHOU FOREIGN LANGUAGE SCH694361</td>\n",
       "      <td>NaN</td>\n",
       "      <td>NaN</td>\n",
       "      <td>App</td>\n",
       "      <td>Female</td>\n",
       "      <td>31</td>\n",
       "    </tr>\n",
       "    <tr>\n",
       "      <th>8308</th>\n",
       "      <td>ZHENGZHOU FOREIGN LANGUAGE SCH694361</td>\n",
       "      <td>NaN</td>\n",
       "      <td>NaN</td>\n",
       "      <td>Adm</td>\n",
       "      <td>All</td>\n",
       "      <td>3</td>\n",
       "    </tr>\n",
       "    <tr>\n",
       "      <th>8309</th>\n",
       "      <td>ZHENGZHOU FOREIGN LANGUAGE SCH694361</td>\n",
       "      <td>NaN</td>\n",
       "      <td>NaN</td>\n",
       "      <td>App</td>\n",
       "      <td>All</td>\n",
       "      <td>70</td>\n",
       "    </tr>\n",
       "  </tbody>\n",
       "</table>\n",
       "<p>7043 rows × 6 columns</p>\n",
       "</div>"
      ],
      "text/plain": [
       "                              Calculation1             City  \\\n",
       "3     A & M CONSOLIDATED HIGH SCHOOL441400  College Station   \n",
       "4     A & M CONSOLIDATED HIGH SCHOOL441400  College Station   \n",
       "5     A & M CONSOLIDATED HIGH SCHOOL441400  College Station   \n",
       "6     A & M CONSOLIDATED HIGH SCHOOL441400  College Station   \n",
       "7              A B MILLER HIGH SCHOOL50944          Fontana   \n",
       "...                                    ...              ...   \n",
       "8305       YUCAIPA SENIOR HIGH SCHOOL53820          Yucaipa   \n",
       "8306  ZHENGZHOU FOREIGN LANGUAGE SCH694361              NaN   \n",
       "8307  ZHENGZHOU FOREIGN LANGUAGE SCH694361              NaN   \n",
       "8308  ZHENGZHOU FOREIGN LANGUAGE SCH694361              NaN   \n",
       "8309  ZHENGZHOU FOREIGN LANGUAGE SCH694361              NaN   \n",
       "\n",
       "     County/State/ Territory Count  Gender  Pivot Field Values  \n",
       "3                         TX   App    Male                   6  \n",
       "4                         TX   Adm  Female                   4  \n",
       "5                         TX   Adm     All                   6  \n",
       "6                         TX   App     All                  11  \n",
       "7             San Bernardino   Adm    Male                   3  \n",
       "...                      ...   ...     ...                 ...  \n",
       "8305          San Bernardino   App     All                  19  \n",
       "8306                     NaN   App    Male                  39  \n",
       "8307                     NaN   App  Female                  31  \n",
       "8308                     NaN   Adm     All                   3  \n",
       "8309                     NaN   App     All                  70  \n",
       "\n",
       "[7043 rows x 6 columns]"
      ]
     },
     "execution_count": 41,
     "metadata": {},
     "output_type": "execute_result"
    }
   ],
   "source": [
    "gender_filtered"
   ]
  },
  {
   "cell_type": "code",
   "execution_count": 42,
   "metadata": {
    "ExecuteTime": {
     "end_time": "2020-12-16T10:45:51.376597Z",
     "start_time": "2020-12-16T10:45:51.373976Z"
    }
   },
   "outputs": [],
   "source": [
    "# not all schools have numbers for all categories – we need to interpolate them for consistency"
   ]
  },
  {
   "cell_type": "code",
   "execution_count": 43,
   "metadata": {
    "ExecuteTime": {
     "end_time": "2020-12-16T10:45:51.384549Z",
     "start_time": "2020-12-16T10:45:51.379390Z"
    }
   },
   "outputs": [],
   "source": [
    "all_count, male_count, female_count = 0, 0, 0"
   ]
  },
  {
   "cell_type": "code",
   "execution_count": 44,
   "metadata": {
    "ExecuteTime": {
     "end_time": "2020-12-16T10:45:52.057508Z",
     "start_time": "2020-12-16T10:45:51.387231Z"
    }
   },
   "outputs": [],
   "source": [
    "for name, df in gender_filtered.groupby('Calculation1'):\n",
    "    app = df.loc[df['Count'] == 'App', 'Gender']\n",
    "    app = sorted(app.tolist())\n",
    "    \n",
    "    if app == ['All']:\n",
    "        # No gender data\n",
    "        pass\n",
    "    \n",
    "    if app == sorted(['All', 'Female', 'Male']):\n",
    "#         print('has all')\n",
    "        all_count += 1\n",
    "\n",
    "    if app == ['All', 'Male']:\n",
    "#         print(name)\n",
    "        male_count += 1\n",
    "    \n",
    "    if app == ['All', 'Female']:\n",
    "        female_count += 1\n",
    "    \n",
    "#     print(df)"
   ]
  },
  {
   "cell_type": "code",
   "execution_count": 45,
   "metadata": {
    "ExecuteTime": {
     "end_time": "2020-12-16T10:45:52.061430Z",
     "start_time": "2020-12-16T10:45:52.059119Z"
    }
   },
   "outputs": [],
   "source": [
    "# jk – the majority of schools do have all of that data, let's just work with them"
   ]
  },
  {
   "cell_type": "code",
   "execution_count": 46,
   "metadata": {
    "ExecuteTime": {
     "end_time": "2020-12-16T10:45:53.031559Z",
     "start_time": "2020-12-16T10:45:52.063365Z"
    }
   },
   "outputs": [],
   "source": [
    "gender_filtered = gender_filtered.groupby('Calculation1').filter(\n",
    "    lambda df: (sorted(df.loc[df['Count'] == 'App', 'Gender'].tolist()) == ['All', 'Female', 'Male']) &\n",
    "               (sorted(df.loc[df['Count'] == 'Adm', 'Gender'].tolist()) == ['All', 'Female', 'Male'])\n",
    "\n",
    ")"
   ]
  },
  {
   "cell_type": "code",
   "execution_count": 47,
   "metadata": {
    "ExecuteTime": {
     "end_time": "2020-12-16T10:45:53.056987Z",
     "start_time": "2020-12-16T10:45:53.033921Z"
    }
   },
   "outputs": [
    {
     "data": {
      "text/html": [
       "<div>\n",
       "<style scoped>\n",
       "    .dataframe tbody tr th:only-of-type {\n",
       "        vertical-align: middle;\n",
       "    }\n",
       "\n",
       "    .dataframe tbody tr th {\n",
       "        vertical-align: top;\n",
       "    }\n",
       "\n",
       "    .dataframe thead th {\n",
       "        text-align: right;\n",
       "    }\n",
       "</style>\n",
       "<table border=\"1\" class=\"dataframe\">\n",
       "  <thead>\n",
       "    <tr style=\"text-align: right;\">\n",
       "      <th></th>\n",
       "      <th>Calculation1</th>\n",
       "      <th>City</th>\n",
       "      <th>County/State/ Territory</th>\n",
       "      <th>Count</th>\n",
       "      <th>Gender</th>\n",
       "      <th>Pivot Field Values</th>\n",
       "    </tr>\n",
       "  </thead>\n",
       "  <tbody>\n",
       "    <tr>\n",
       "      <th>11</th>\n",
       "      <td>ABRAHAM LINCOLN HIGH SCHOOL52910</td>\n",
       "      <td>San Francisco</td>\n",
       "      <td>San Francisco</td>\n",
       "      <td>Adm</td>\n",
       "      <td>Male</td>\n",
       "      <td>3</td>\n",
       "    </tr>\n",
       "    <tr>\n",
       "      <th>12</th>\n",
       "      <td>ABRAHAM LINCOLN HIGH SCHOOL52910</td>\n",
       "      <td>San Francisco</td>\n",
       "      <td>San Francisco</td>\n",
       "      <td>App</td>\n",
       "      <td>Male</td>\n",
       "      <td>52</td>\n",
       "    </tr>\n",
       "    <tr>\n",
       "      <th>13</th>\n",
       "      <td>ABRAHAM LINCOLN HIGH SCHOOL52910</td>\n",
       "      <td>San Francisco</td>\n",
       "      <td>San Francisco</td>\n",
       "      <td>Enr</td>\n",
       "      <td>Female</td>\n",
       "      <td>6</td>\n",
       "    </tr>\n",
       "    <tr>\n",
       "      <th>14</th>\n",
       "      <td>ABRAHAM LINCOLN HIGH SCHOOL52910</td>\n",
       "      <td>San Francisco</td>\n",
       "      <td>San Francisco</td>\n",
       "      <td>Adm</td>\n",
       "      <td>Female</td>\n",
       "      <td>6</td>\n",
       "    </tr>\n",
       "    <tr>\n",
       "      <th>15</th>\n",
       "      <td>ABRAHAM LINCOLN HIGH SCHOOL52910</td>\n",
       "      <td>San Francisco</td>\n",
       "      <td>San Francisco</td>\n",
       "      <td>App</td>\n",
       "      <td>Female</td>\n",
       "      <td>57</td>\n",
       "    </tr>\n",
       "    <tr>\n",
       "      <th>...</th>\n",
       "      <td>...</td>\n",
       "      <td>...</td>\n",
       "      <td>...</td>\n",
       "      <td>...</td>\n",
       "      <td>...</td>\n",
       "      <td>...</td>\n",
       "    </tr>\n",
       "    <tr>\n",
       "      <th>8267</th>\n",
       "      <td>YONGSAN INTL SCHOOL SEOUL682230</td>\n",
       "      <td>NaN</td>\n",
       "      <td>NaN</td>\n",
       "      <td>Adm</td>\n",
       "      <td>Female</td>\n",
       "      <td>7</td>\n",
       "    </tr>\n",
       "    <tr>\n",
       "      <th>8268</th>\n",
       "      <td>YONGSAN INTL SCHOOL SEOUL682230</td>\n",
       "      <td>NaN</td>\n",
       "      <td>NaN</td>\n",
       "      <td>App</td>\n",
       "      <td>Female</td>\n",
       "      <td>22</td>\n",
       "    </tr>\n",
       "    <tr>\n",
       "      <th>8269</th>\n",
       "      <td>YONGSAN INTL SCHOOL SEOUL682230</td>\n",
       "      <td>NaN</td>\n",
       "      <td>NaN</td>\n",
       "      <td>Enr</td>\n",
       "      <td>All</td>\n",
       "      <td>4</td>\n",
       "    </tr>\n",
       "    <tr>\n",
       "      <th>8270</th>\n",
       "      <td>YONGSAN INTL SCHOOL SEOUL682230</td>\n",
       "      <td>NaN</td>\n",
       "      <td>NaN</td>\n",
       "      <td>Adm</td>\n",
       "      <td>All</td>\n",
       "      <td>11</td>\n",
       "    </tr>\n",
       "    <tr>\n",
       "      <th>8271</th>\n",
       "      <td>YONGSAN INTL SCHOOL SEOUL682230</td>\n",
       "      <td>NaN</td>\n",
       "      <td>NaN</td>\n",
       "      <td>App</td>\n",
       "      <td>All</td>\n",
       "      <td>35</td>\n",
       "    </tr>\n",
       "  </tbody>\n",
       "</table>\n",
       "<p>3208 rows × 6 columns</p>\n",
       "</div>"
      ],
      "text/plain": [
       "                          Calculation1           City County/State/ Territory  \\\n",
       "11    ABRAHAM LINCOLN HIGH SCHOOL52910  San Francisco           San Francisco   \n",
       "12    ABRAHAM LINCOLN HIGH SCHOOL52910  San Francisco           San Francisco   \n",
       "13    ABRAHAM LINCOLN HIGH SCHOOL52910  San Francisco           San Francisco   \n",
       "14    ABRAHAM LINCOLN HIGH SCHOOL52910  San Francisco           San Francisco   \n",
       "15    ABRAHAM LINCOLN HIGH SCHOOL52910  San Francisco           San Francisco   \n",
       "...                                ...            ...                     ...   \n",
       "8267   YONGSAN INTL SCHOOL SEOUL682230            NaN                     NaN   \n",
       "8268   YONGSAN INTL SCHOOL SEOUL682230            NaN                     NaN   \n",
       "8269   YONGSAN INTL SCHOOL SEOUL682230            NaN                     NaN   \n",
       "8270   YONGSAN INTL SCHOOL SEOUL682230            NaN                     NaN   \n",
       "8271   YONGSAN INTL SCHOOL SEOUL682230            NaN                     NaN   \n",
       "\n",
       "     Count  Gender  Pivot Field Values  \n",
       "11     Adm    Male                   3  \n",
       "12     App    Male                  52  \n",
       "13     Enr  Female                   6  \n",
       "14     Adm  Female                   6  \n",
       "15     App  Female                  57  \n",
       "...    ...     ...                 ...  \n",
       "8267   Adm  Female                   7  \n",
       "8268   App  Female                  22  \n",
       "8269   Enr     All                   4  \n",
       "8270   Adm     All                  11  \n",
       "8271   App     All                  35  \n",
       "\n",
       "[3208 rows x 6 columns]"
      ]
     },
     "execution_count": 47,
     "metadata": {},
     "output_type": "execute_result"
    }
   ],
   "source": [
    "gender_filtered"
   ]
  },
  {
   "cell_type": "code",
   "execution_count": 48,
   "metadata": {
    "ExecuteTime": {
     "end_time": "2020-12-16T10:45:53.075450Z",
     "start_time": "2020-12-16T10:45:53.059080Z"
    }
   },
   "outputs": [],
   "source": [
    "df = pd.pivot_table(gender_filtered,\n",
    "               index = 'Calculation1', \n",
    "               values = 'Pivot Field Values', \n",
    "               columns = ['Count', 'Gender'])[['App', 'Adm']]"
   ]
  },
  {
   "cell_type": "code",
   "execution_count": 49,
   "metadata": {
    "ExecuteTime": {
     "end_time": "2020-12-16T10:45:53.103989Z",
     "start_time": "2020-12-16T10:45:53.077183Z"
    }
   },
   "outputs": [
    {
     "data": {
      "text/html": [
       "<div>\n",
       "<style scoped>\n",
       "    .dataframe tbody tr th:only-of-type {\n",
       "        vertical-align: middle;\n",
       "    }\n",
       "\n",
       "    .dataframe tbody tr th {\n",
       "        vertical-align: top;\n",
       "    }\n",
       "\n",
       "    .dataframe thead tr th {\n",
       "        text-align: left;\n",
       "    }\n",
       "\n",
       "    .dataframe thead tr:last-of-type th {\n",
       "        text-align: right;\n",
       "    }\n",
       "</style>\n",
       "<table border=\"1\" class=\"dataframe\">\n",
       "  <thead>\n",
       "    <tr>\n",
       "      <th>Count</th>\n",
       "      <th colspan=\"3\" halign=\"left\">App</th>\n",
       "      <th colspan=\"3\" halign=\"left\">Adm</th>\n",
       "    </tr>\n",
       "    <tr>\n",
       "      <th>Gender</th>\n",
       "      <th>All</th>\n",
       "      <th>Female</th>\n",
       "      <th>Male</th>\n",
       "      <th>All</th>\n",
       "      <th>Female</th>\n",
       "      <th>Male</th>\n",
       "    </tr>\n",
       "    <tr>\n",
       "      <th>Calculation1</th>\n",
       "      <th></th>\n",
       "      <th></th>\n",
       "      <th></th>\n",
       "      <th></th>\n",
       "      <th></th>\n",
       "      <th></th>\n",
       "    </tr>\n",
       "  </thead>\n",
       "  <tbody>\n",
       "    <tr>\n",
       "      <th>ABRAHAM LINCOLN HIGH SCHOOL52910</th>\n",
       "      <td>109.0</td>\n",
       "      <td>57.0</td>\n",
       "      <td>52.0</td>\n",
       "      <td>9.0</td>\n",
       "      <td>6.0</td>\n",
       "      <td>3.0</td>\n",
       "    </tr>\n",
       "    <tr>\n",
       "      <th>ACADEMY OF THE CANYONS53262</th>\n",
       "      <td>34.0</td>\n",
       "      <td>20.0</td>\n",
       "      <td>14.0</td>\n",
       "      <td>9.0</td>\n",
       "      <td>5.0</td>\n",
       "      <td>4.0</td>\n",
       "    </tr>\n",
       "    <tr>\n",
       "      <th>ACALANES HIGH SCHOOL51315</th>\n",
       "      <td>80.0</td>\n",
       "      <td>44.0</td>\n",
       "      <td>36.0</td>\n",
       "      <td>10.0</td>\n",
       "      <td>5.0</td>\n",
       "      <td>5.0</td>\n",
       "    </tr>\n",
       "    <tr>\n",
       "      <th>ADLAI E STEVENSON HIGH SCHOOL143550</th>\n",
       "      <td>76.0</td>\n",
       "      <td>29.0</td>\n",
       "      <td>47.0</td>\n",
       "      <td>11.0</td>\n",
       "      <td>3.0</td>\n",
       "      <td>8.0</td>\n",
       "    </tr>\n",
       "    <tr>\n",
       "      <th>ADOLFO CAMARILLO HIGH SCHOOL50438</th>\n",
       "      <td>47.0</td>\n",
       "      <td>21.0</td>\n",
       "      <td>26.0</td>\n",
       "      <td>8.0</td>\n",
       "      <td>4.0</td>\n",
       "      <td>4.0</td>\n",
       "    </tr>\n",
       "    <tr>\n",
       "      <th>...</th>\n",
       "      <td>...</td>\n",
       "      <td>...</td>\n",
       "      <td>...</td>\n",
       "      <td>...</td>\n",
       "      <td>...</td>\n",
       "      <td>...</td>\n",
       "    </tr>\n",
       "    <tr>\n",
       "      <th>WOODBRIDGE HIGH SCHOOL51274</th>\n",
       "      <td>164.0</td>\n",
       "      <td>76.0</td>\n",
       "      <td>87.0</td>\n",
       "      <td>32.0</td>\n",
       "      <td>18.0</td>\n",
       "      <td>14.0</td>\n",
       "    </tr>\n",
       "    <tr>\n",
       "      <th>WOODROW WILSON HIGH SCHOOL51505</th>\n",
       "      <td>69.0</td>\n",
       "      <td>37.0</td>\n",
       "      <td>32.0</td>\n",
       "      <td>9.0</td>\n",
       "      <td>6.0</td>\n",
       "      <td>3.0</td>\n",
       "    </tr>\n",
       "    <tr>\n",
       "      <th>XIAN GAO XIN NO 1 HIGH SCHOOL694297</th>\n",
       "      <td>45.0</td>\n",
       "      <td>24.0</td>\n",
       "      <td>21.0</td>\n",
       "      <td>9.0</td>\n",
       "      <td>6.0</td>\n",
       "      <td>3.0</td>\n",
       "    </tr>\n",
       "    <tr>\n",
       "      <th>YERBA BUENA HIGH SCHOOL53113</th>\n",
       "      <td>50.0</td>\n",
       "      <td>32.0</td>\n",
       "      <td>18.0</td>\n",
       "      <td>11.0</td>\n",
       "      <td>6.0</td>\n",
       "      <td>5.0</td>\n",
       "    </tr>\n",
       "    <tr>\n",
       "      <th>YONGSAN INTL SCHOOL SEOUL682230</th>\n",
       "      <td>35.0</td>\n",
       "      <td>22.0</td>\n",
       "      <td>13.0</td>\n",
       "      <td>11.0</td>\n",
       "      <td>7.0</td>\n",
       "      <td>4.0</td>\n",
       "    </tr>\n",
       "  </tbody>\n",
       "</table>\n",
       "<p>396 rows × 6 columns</p>\n",
       "</div>"
      ],
      "text/plain": [
       "Count                                  App                Adm             \n",
       "Gender                                 All Female  Male   All Female  Male\n",
       "Calculation1                                                              \n",
       "ABRAHAM LINCOLN HIGH SCHOOL52910     109.0   57.0  52.0   9.0    6.0   3.0\n",
       "ACADEMY OF THE CANYONS53262           34.0   20.0  14.0   9.0    5.0   4.0\n",
       "ACALANES HIGH SCHOOL51315             80.0   44.0  36.0  10.0    5.0   5.0\n",
       "ADLAI E STEVENSON HIGH SCHOOL143550   76.0   29.0  47.0  11.0    3.0   8.0\n",
       "ADOLFO CAMARILLO HIGH SCHOOL50438     47.0   21.0  26.0   8.0    4.0   4.0\n",
       "...                                    ...    ...   ...   ...    ...   ...\n",
       "WOODBRIDGE HIGH SCHOOL51274          164.0   76.0  87.0  32.0   18.0  14.0\n",
       "WOODROW WILSON HIGH SCHOOL51505       69.0   37.0  32.0   9.0    6.0   3.0\n",
       "XIAN GAO XIN NO 1 HIGH SCHOOL694297   45.0   24.0  21.0   9.0    6.0   3.0\n",
       "YERBA BUENA HIGH SCHOOL53113          50.0   32.0  18.0  11.0    6.0   5.0\n",
       "YONGSAN INTL SCHOOL SEOUL682230       35.0   22.0  13.0  11.0    7.0   4.0\n",
       "\n",
       "[396 rows x 6 columns]"
      ]
     },
     "execution_count": 49,
     "metadata": {},
     "output_type": "execute_result"
    }
   ],
   "source": [
    "df"
   ]
  },
  {
   "cell_type": "code",
   "execution_count": 50,
   "metadata": {
    "ExecuteTime": {
     "end_time": "2020-12-16T10:45:53.173796Z",
     "start_time": "2020-12-16T10:45:53.106088Z"
    }
   },
   "outputs": [],
   "source": [
    "df['AppMaleProportion'] = df[('App', 'Male')] / df[('App', 'All')]\n",
    "df['AdmMaleProportion'] = df[('Adm', 'Male')] / df[('Adm', 'All')]"
   ]
  },
  {
   "cell_type": "code",
   "execution_count": 51,
   "metadata": {
    "ExecuteTime": {
     "end_time": "2020-12-16T10:45:53.180904Z",
     "start_time": "2020-12-16T10:45:53.176522Z"
    }
   },
   "outputs": [],
   "source": [
    "# https://stackoverflow.com/questions/14507794/pandas-how-to-flatten-a-hierarchical-index-in-columns\n",
    "df.columns = [''.join(col).strip() for col in df.columns.values]"
   ]
  },
  {
   "cell_type": "code",
   "execution_count": 52,
   "metadata": {
    "ExecuteTime": {
     "end_time": "2020-12-16T10:45:53.222944Z",
     "start_time": "2020-12-16T10:45:53.184016Z"
    }
   },
   "outputs": [
    {
     "data": {
      "text/html": [
       "<div>\n",
       "<style scoped>\n",
       "    .dataframe tbody tr th:only-of-type {\n",
       "        vertical-align: middle;\n",
       "    }\n",
       "\n",
       "    .dataframe tbody tr th {\n",
       "        vertical-align: top;\n",
       "    }\n",
       "\n",
       "    .dataframe thead th {\n",
       "        text-align: right;\n",
       "    }\n",
       "</style>\n",
       "<table border=\"1\" class=\"dataframe\">\n",
       "  <thead>\n",
       "    <tr style=\"text-align: right;\">\n",
       "      <th></th>\n",
       "      <th>AppAll</th>\n",
       "      <th>AppFemale</th>\n",
       "      <th>AppMale</th>\n",
       "      <th>AdmAll</th>\n",
       "      <th>AdmFemale</th>\n",
       "      <th>AdmMale</th>\n",
       "      <th>AppMaleProportion</th>\n",
       "      <th>AdmMaleProportion</th>\n",
       "    </tr>\n",
       "    <tr>\n",
       "      <th>Calculation1</th>\n",
       "      <th></th>\n",
       "      <th></th>\n",
       "      <th></th>\n",
       "      <th></th>\n",
       "      <th></th>\n",
       "      <th></th>\n",
       "      <th></th>\n",
       "      <th></th>\n",
       "    </tr>\n",
       "  </thead>\n",
       "  <tbody>\n",
       "    <tr>\n",
       "      <th>ABRAHAM LINCOLN HIGH SCHOOL52910</th>\n",
       "      <td>109.0</td>\n",
       "      <td>57.0</td>\n",
       "      <td>52.0</td>\n",
       "      <td>9.0</td>\n",
       "      <td>6.0</td>\n",
       "      <td>3.0</td>\n",
       "      <td>0.477064</td>\n",
       "      <td>0.333333</td>\n",
       "    </tr>\n",
       "    <tr>\n",
       "      <th>ACADEMY OF THE CANYONS53262</th>\n",
       "      <td>34.0</td>\n",
       "      <td>20.0</td>\n",
       "      <td>14.0</td>\n",
       "      <td>9.0</td>\n",
       "      <td>5.0</td>\n",
       "      <td>4.0</td>\n",
       "      <td>0.411765</td>\n",
       "      <td>0.444444</td>\n",
       "    </tr>\n",
       "    <tr>\n",
       "      <th>ACALANES HIGH SCHOOL51315</th>\n",
       "      <td>80.0</td>\n",
       "      <td>44.0</td>\n",
       "      <td>36.0</td>\n",
       "      <td>10.0</td>\n",
       "      <td>5.0</td>\n",
       "      <td>5.0</td>\n",
       "      <td>0.450000</td>\n",
       "      <td>0.500000</td>\n",
       "    </tr>\n",
       "    <tr>\n",
       "      <th>ADLAI E STEVENSON HIGH SCHOOL143550</th>\n",
       "      <td>76.0</td>\n",
       "      <td>29.0</td>\n",
       "      <td>47.0</td>\n",
       "      <td>11.0</td>\n",
       "      <td>3.0</td>\n",
       "      <td>8.0</td>\n",
       "      <td>0.618421</td>\n",
       "      <td>0.727273</td>\n",
       "    </tr>\n",
       "    <tr>\n",
       "      <th>ADOLFO CAMARILLO HIGH SCHOOL50438</th>\n",
       "      <td>47.0</td>\n",
       "      <td>21.0</td>\n",
       "      <td>26.0</td>\n",
       "      <td>8.0</td>\n",
       "      <td>4.0</td>\n",
       "      <td>4.0</td>\n",
       "      <td>0.553191</td>\n",
       "      <td>0.500000</td>\n",
       "    </tr>\n",
       "    <tr>\n",
       "      <th>...</th>\n",
       "      <td>...</td>\n",
       "      <td>...</td>\n",
       "      <td>...</td>\n",
       "      <td>...</td>\n",
       "      <td>...</td>\n",
       "      <td>...</td>\n",
       "      <td>...</td>\n",
       "      <td>...</td>\n",
       "    </tr>\n",
       "    <tr>\n",
       "      <th>WOODBRIDGE HIGH SCHOOL51274</th>\n",
       "      <td>164.0</td>\n",
       "      <td>76.0</td>\n",
       "      <td>87.0</td>\n",
       "      <td>32.0</td>\n",
       "      <td>18.0</td>\n",
       "      <td>14.0</td>\n",
       "      <td>0.530488</td>\n",
       "      <td>0.437500</td>\n",
       "    </tr>\n",
       "    <tr>\n",
       "      <th>WOODROW WILSON HIGH SCHOOL51505</th>\n",
       "      <td>69.0</td>\n",
       "      <td>37.0</td>\n",
       "      <td>32.0</td>\n",
       "      <td>9.0</td>\n",
       "      <td>6.0</td>\n",
       "      <td>3.0</td>\n",
       "      <td>0.463768</td>\n",
       "      <td>0.333333</td>\n",
       "    </tr>\n",
       "    <tr>\n",
       "      <th>XIAN GAO XIN NO 1 HIGH SCHOOL694297</th>\n",
       "      <td>45.0</td>\n",
       "      <td>24.0</td>\n",
       "      <td>21.0</td>\n",
       "      <td>9.0</td>\n",
       "      <td>6.0</td>\n",
       "      <td>3.0</td>\n",
       "      <td>0.466667</td>\n",
       "      <td>0.333333</td>\n",
       "    </tr>\n",
       "    <tr>\n",
       "      <th>YERBA BUENA HIGH SCHOOL53113</th>\n",
       "      <td>50.0</td>\n",
       "      <td>32.0</td>\n",
       "      <td>18.0</td>\n",
       "      <td>11.0</td>\n",
       "      <td>6.0</td>\n",
       "      <td>5.0</td>\n",
       "      <td>0.360000</td>\n",
       "      <td>0.454545</td>\n",
       "    </tr>\n",
       "    <tr>\n",
       "      <th>YONGSAN INTL SCHOOL SEOUL682230</th>\n",
       "      <td>35.0</td>\n",
       "      <td>22.0</td>\n",
       "      <td>13.0</td>\n",
       "      <td>11.0</td>\n",
       "      <td>7.0</td>\n",
       "      <td>4.0</td>\n",
       "      <td>0.371429</td>\n",
       "      <td>0.363636</td>\n",
       "    </tr>\n",
       "  </tbody>\n",
       "</table>\n",
       "<p>396 rows × 8 columns</p>\n",
       "</div>"
      ],
      "text/plain": [
       "                                     AppAll  AppFemale  AppMale  AdmAll  \\\n",
       "Calculation1                                                              \n",
       "ABRAHAM LINCOLN HIGH SCHOOL52910      109.0       57.0     52.0     9.0   \n",
       "ACADEMY OF THE CANYONS53262            34.0       20.0     14.0     9.0   \n",
       "ACALANES HIGH SCHOOL51315              80.0       44.0     36.0    10.0   \n",
       "ADLAI E STEVENSON HIGH SCHOOL143550    76.0       29.0     47.0    11.0   \n",
       "ADOLFO CAMARILLO HIGH SCHOOL50438      47.0       21.0     26.0     8.0   \n",
       "...                                     ...        ...      ...     ...   \n",
       "WOODBRIDGE HIGH SCHOOL51274           164.0       76.0     87.0    32.0   \n",
       "WOODROW WILSON HIGH SCHOOL51505        69.0       37.0     32.0     9.0   \n",
       "XIAN GAO XIN NO 1 HIGH SCHOOL694297    45.0       24.0     21.0     9.0   \n",
       "YERBA BUENA HIGH SCHOOL53113           50.0       32.0     18.0    11.0   \n",
       "YONGSAN INTL SCHOOL SEOUL682230        35.0       22.0     13.0    11.0   \n",
       "\n",
       "                                     AdmFemale  AdmMale  AppMaleProportion  \\\n",
       "Calculation1                                                                 \n",
       "ABRAHAM LINCOLN HIGH SCHOOL52910           6.0      3.0           0.477064   \n",
       "ACADEMY OF THE CANYONS53262                5.0      4.0           0.411765   \n",
       "ACALANES HIGH SCHOOL51315                  5.0      5.0           0.450000   \n",
       "ADLAI E STEVENSON HIGH SCHOOL143550        3.0      8.0           0.618421   \n",
       "ADOLFO CAMARILLO HIGH SCHOOL50438          4.0      4.0           0.553191   \n",
       "...                                        ...      ...                ...   \n",
       "WOODBRIDGE HIGH SCHOOL51274               18.0     14.0           0.530488   \n",
       "WOODROW WILSON HIGH SCHOOL51505            6.0      3.0           0.463768   \n",
       "XIAN GAO XIN NO 1 HIGH SCHOOL694297        6.0      3.0           0.466667   \n",
       "YERBA BUENA HIGH SCHOOL53113               6.0      5.0           0.360000   \n",
       "YONGSAN INTL SCHOOL SEOUL682230            7.0      4.0           0.371429   \n",
       "\n",
       "                                     AdmMaleProportion  \n",
       "Calculation1                                            \n",
       "ABRAHAM LINCOLN HIGH SCHOOL52910              0.333333  \n",
       "ACADEMY OF THE CANYONS53262                   0.444444  \n",
       "ACALANES HIGH SCHOOL51315                     0.500000  \n",
       "ADLAI E STEVENSON HIGH SCHOOL143550           0.727273  \n",
       "ADOLFO CAMARILLO HIGH SCHOOL50438             0.500000  \n",
       "...                                                ...  \n",
       "WOODBRIDGE HIGH SCHOOL51274                   0.437500  \n",
       "WOODROW WILSON HIGH SCHOOL51505               0.333333  \n",
       "XIAN GAO XIN NO 1 HIGH SCHOOL694297           0.333333  \n",
       "YERBA BUENA HIGH SCHOOL53113                  0.454545  \n",
       "YONGSAN INTL SCHOOL SEOUL682230               0.363636  \n",
       "\n",
       "[396 rows x 8 columns]"
      ]
     },
     "execution_count": 52,
     "metadata": {},
     "output_type": "execute_result"
    }
   ],
   "source": [
    "df"
   ]
  },
  {
   "cell_type": "code",
   "execution_count": 53,
   "metadata": {
    "ExecuteTime": {
     "end_time": "2020-12-16T10:45:53.227606Z",
     "start_time": "2020-12-16T10:45:53.225342Z"
    }
   },
   "outputs": [],
   "source": [
    "# getting whether or not the school is in state"
   ]
  },
  {
   "cell_type": "code",
   "execution_count": 54,
   "metadata": {
    "ExecuteTime": {
     "end_time": "2020-12-16T10:45:53.484228Z",
     "start_time": "2020-12-16T10:45:53.229555Z"
    }
   },
   "outputs": [],
   "source": [
    "# international\n",
    "gender_filtered.loc[gender_filtered['County/State/ Territory'].isnull(), 'Location'] = 'INT'\n",
    "gender_filtered.loc[gender_filtered['County/State/ Territory'].str.len() == 2, 'Location'] = 'OOS'\n",
    "gender_filtered.loc[gender_filtered['County/State/ Territory'].str.len() > 2, 'Location'] = 'INS'"
   ]
  },
  {
   "cell_type": "code",
   "execution_count": 55,
   "metadata": {
    "ExecuteTime": {
     "end_time": "2020-12-16T10:45:53.511117Z",
     "start_time": "2020-12-16T10:45:53.486705Z"
    },
    "scrolled": true
   },
   "outputs": [],
   "source": [
    "df = df.merge(gender_filtered[['Calculation1', 'Location']].groupby('Calculation1').agg(lambda x: x.iloc[0])\n",
    "         , on = 'Calculation1')"
   ]
  },
  {
   "cell_type": "code",
   "execution_count": 56,
   "metadata": {
    "ExecuteTime": {
     "end_time": "2020-12-16T10:45:53.556684Z",
     "start_time": "2020-12-16T10:45:53.519303Z"
    }
   },
   "outputs": [
    {
     "data": {
      "text/html": [
       "<div>\n",
       "<style scoped>\n",
       "    .dataframe tbody tr th:only-of-type {\n",
       "        vertical-align: middle;\n",
       "    }\n",
       "\n",
       "    .dataframe tbody tr th {\n",
       "        vertical-align: top;\n",
       "    }\n",
       "\n",
       "    .dataframe thead th {\n",
       "        text-align: right;\n",
       "    }\n",
       "</style>\n",
       "<table border=\"1\" class=\"dataframe\">\n",
       "  <thead>\n",
       "    <tr style=\"text-align: right;\">\n",
       "      <th></th>\n",
       "      <th>AppAll</th>\n",
       "      <th>AppFemale</th>\n",
       "      <th>AppMale</th>\n",
       "      <th>AdmAll</th>\n",
       "      <th>AdmFemale</th>\n",
       "      <th>AdmMale</th>\n",
       "      <th>AppMaleProportion</th>\n",
       "      <th>AdmMaleProportion</th>\n",
       "      <th>Location</th>\n",
       "    </tr>\n",
       "    <tr>\n",
       "      <th>Calculation1</th>\n",
       "      <th></th>\n",
       "      <th></th>\n",
       "      <th></th>\n",
       "      <th></th>\n",
       "      <th></th>\n",
       "      <th></th>\n",
       "      <th></th>\n",
       "      <th></th>\n",
       "      <th></th>\n",
       "    </tr>\n",
       "  </thead>\n",
       "  <tbody>\n",
       "    <tr>\n",
       "      <th>ABRAHAM LINCOLN HIGH SCHOOL52910</th>\n",
       "      <td>109.0</td>\n",
       "      <td>57.0</td>\n",
       "      <td>52.0</td>\n",
       "      <td>9.0</td>\n",
       "      <td>6.0</td>\n",
       "      <td>3.0</td>\n",
       "      <td>0.477064</td>\n",
       "      <td>0.333333</td>\n",
       "      <td>INS</td>\n",
       "    </tr>\n",
       "    <tr>\n",
       "      <th>ACADEMY OF THE CANYONS53262</th>\n",
       "      <td>34.0</td>\n",
       "      <td>20.0</td>\n",
       "      <td>14.0</td>\n",
       "      <td>9.0</td>\n",
       "      <td>5.0</td>\n",
       "      <td>4.0</td>\n",
       "      <td>0.411765</td>\n",
       "      <td>0.444444</td>\n",
       "      <td>INS</td>\n",
       "    </tr>\n",
       "    <tr>\n",
       "      <th>ACALANES HIGH SCHOOL51315</th>\n",
       "      <td>80.0</td>\n",
       "      <td>44.0</td>\n",
       "      <td>36.0</td>\n",
       "      <td>10.0</td>\n",
       "      <td>5.0</td>\n",
       "      <td>5.0</td>\n",
       "      <td>0.450000</td>\n",
       "      <td>0.500000</td>\n",
       "      <td>INS</td>\n",
       "    </tr>\n",
       "    <tr>\n",
       "      <th>ADLAI E STEVENSON HIGH SCHOOL143550</th>\n",
       "      <td>76.0</td>\n",
       "      <td>29.0</td>\n",
       "      <td>47.0</td>\n",
       "      <td>11.0</td>\n",
       "      <td>3.0</td>\n",
       "      <td>8.0</td>\n",
       "      <td>0.618421</td>\n",
       "      <td>0.727273</td>\n",
       "      <td>OOS</td>\n",
       "    </tr>\n",
       "    <tr>\n",
       "      <th>ADOLFO CAMARILLO HIGH SCHOOL50438</th>\n",
       "      <td>47.0</td>\n",
       "      <td>21.0</td>\n",
       "      <td>26.0</td>\n",
       "      <td>8.0</td>\n",
       "      <td>4.0</td>\n",
       "      <td>4.0</td>\n",
       "      <td>0.553191</td>\n",
       "      <td>0.500000</td>\n",
       "      <td>INS</td>\n",
       "    </tr>\n",
       "    <tr>\n",
       "      <th>...</th>\n",
       "      <td>...</td>\n",
       "      <td>...</td>\n",
       "      <td>...</td>\n",
       "      <td>...</td>\n",
       "      <td>...</td>\n",
       "      <td>...</td>\n",
       "      <td>...</td>\n",
       "      <td>...</td>\n",
       "      <td>...</td>\n",
       "    </tr>\n",
       "    <tr>\n",
       "      <th>WOODBRIDGE HIGH SCHOOL51274</th>\n",
       "      <td>164.0</td>\n",
       "      <td>76.0</td>\n",
       "      <td>87.0</td>\n",
       "      <td>32.0</td>\n",
       "      <td>18.0</td>\n",
       "      <td>14.0</td>\n",
       "      <td>0.530488</td>\n",
       "      <td>0.437500</td>\n",
       "      <td>INS</td>\n",
       "    </tr>\n",
       "    <tr>\n",
       "      <th>WOODROW WILSON HIGH SCHOOL51505</th>\n",
       "      <td>69.0</td>\n",
       "      <td>37.0</td>\n",
       "      <td>32.0</td>\n",
       "      <td>9.0</td>\n",
       "      <td>6.0</td>\n",
       "      <td>3.0</td>\n",
       "      <td>0.463768</td>\n",
       "      <td>0.333333</td>\n",
       "      <td>INS</td>\n",
       "    </tr>\n",
       "    <tr>\n",
       "      <th>XIAN GAO XIN NO 1 HIGH SCHOOL694297</th>\n",
       "      <td>45.0</td>\n",
       "      <td>24.0</td>\n",
       "      <td>21.0</td>\n",
       "      <td>9.0</td>\n",
       "      <td>6.0</td>\n",
       "      <td>3.0</td>\n",
       "      <td>0.466667</td>\n",
       "      <td>0.333333</td>\n",
       "      <td>INT</td>\n",
       "    </tr>\n",
       "    <tr>\n",
       "      <th>YERBA BUENA HIGH SCHOOL53113</th>\n",
       "      <td>50.0</td>\n",
       "      <td>32.0</td>\n",
       "      <td>18.0</td>\n",
       "      <td>11.0</td>\n",
       "      <td>6.0</td>\n",
       "      <td>5.0</td>\n",
       "      <td>0.360000</td>\n",
       "      <td>0.454545</td>\n",
       "      <td>INS</td>\n",
       "    </tr>\n",
       "    <tr>\n",
       "      <th>YONGSAN INTL SCHOOL SEOUL682230</th>\n",
       "      <td>35.0</td>\n",
       "      <td>22.0</td>\n",
       "      <td>13.0</td>\n",
       "      <td>11.0</td>\n",
       "      <td>7.0</td>\n",
       "      <td>4.0</td>\n",
       "      <td>0.371429</td>\n",
       "      <td>0.363636</td>\n",
       "      <td>INT</td>\n",
       "    </tr>\n",
       "  </tbody>\n",
       "</table>\n",
       "<p>396 rows × 9 columns</p>\n",
       "</div>"
      ],
      "text/plain": [
       "                                     AppAll  AppFemale  AppMale  AdmAll  \\\n",
       "Calculation1                                                              \n",
       "ABRAHAM LINCOLN HIGH SCHOOL52910      109.0       57.0     52.0     9.0   \n",
       "ACADEMY OF THE CANYONS53262            34.0       20.0     14.0     9.0   \n",
       "ACALANES HIGH SCHOOL51315              80.0       44.0     36.0    10.0   \n",
       "ADLAI E STEVENSON HIGH SCHOOL143550    76.0       29.0     47.0    11.0   \n",
       "ADOLFO CAMARILLO HIGH SCHOOL50438      47.0       21.0     26.0     8.0   \n",
       "...                                     ...        ...      ...     ...   \n",
       "WOODBRIDGE HIGH SCHOOL51274           164.0       76.0     87.0    32.0   \n",
       "WOODROW WILSON HIGH SCHOOL51505        69.0       37.0     32.0     9.0   \n",
       "XIAN GAO XIN NO 1 HIGH SCHOOL694297    45.0       24.0     21.0     9.0   \n",
       "YERBA BUENA HIGH SCHOOL53113           50.0       32.0     18.0    11.0   \n",
       "YONGSAN INTL SCHOOL SEOUL682230        35.0       22.0     13.0    11.0   \n",
       "\n",
       "                                     AdmFemale  AdmMale  AppMaleProportion  \\\n",
       "Calculation1                                                                 \n",
       "ABRAHAM LINCOLN HIGH SCHOOL52910           6.0      3.0           0.477064   \n",
       "ACADEMY OF THE CANYONS53262                5.0      4.0           0.411765   \n",
       "ACALANES HIGH SCHOOL51315                  5.0      5.0           0.450000   \n",
       "ADLAI E STEVENSON HIGH SCHOOL143550        3.0      8.0           0.618421   \n",
       "ADOLFO CAMARILLO HIGH SCHOOL50438          4.0      4.0           0.553191   \n",
       "...                                        ...      ...                ...   \n",
       "WOODBRIDGE HIGH SCHOOL51274               18.0     14.0           0.530488   \n",
       "WOODROW WILSON HIGH SCHOOL51505            6.0      3.0           0.463768   \n",
       "XIAN GAO XIN NO 1 HIGH SCHOOL694297        6.0      3.0           0.466667   \n",
       "YERBA BUENA HIGH SCHOOL53113               6.0      5.0           0.360000   \n",
       "YONGSAN INTL SCHOOL SEOUL682230            7.0      4.0           0.371429   \n",
       "\n",
       "                                     AdmMaleProportion Location  \n",
       "Calculation1                                                     \n",
       "ABRAHAM LINCOLN HIGH SCHOOL52910              0.333333      INS  \n",
       "ACADEMY OF THE CANYONS53262                   0.444444      INS  \n",
       "ACALANES HIGH SCHOOL51315                     0.500000      INS  \n",
       "ADLAI E STEVENSON HIGH SCHOOL143550           0.727273      OOS  \n",
       "ADOLFO CAMARILLO HIGH SCHOOL50438             0.500000      INS  \n",
       "...                                                ...      ...  \n",
       "WOODBRIDGE HIGH SCHOOL51274                   0.437500      INS  \n",
       "WOODROW WILSON HIGH SCHOOL51505               0.333333      INS  \n",
       "XIAN GAO XIN NO 1 HIGH SCHOOL694297           0.333333      INT  \n",
       "YERBA BUENA HIGH SCHOOL53113                  0.454545      INS  \n",
       "YONGSAN INTL SCHOOL SEOUL682230               0.363636      INT  \n",
       "\n",
       "[396 rows x 9 columns]"
      ]
     },
     "execution_count": 56,
     "metadata": {},
     "output_type": "execute_result"
    }
   ],
   "source": [
    "df"
   ]
  },
  {
   "cell_type": "code",
   "execution_count": 57,
   "metadata": {
    "ExecuteTime": {
     "end_time": "2020-12-16T10:45:53.570258Z",
     "start_time": "2020-12-16T10:45:53.567867Z"
    }
   },
   "outputs": [],
   "source": [
    "# now we need to repeat the above filtering for ethnicity, join the two, and then start classifying stuff\n",
    "# for simplicity, we just need the 'white' proportion"
   ]
  },
  {
   "cell_type": "code",
   "execution_count": 58,
   "metadata": {
    "ExecuteTime": {
     "end_time": "2020-12-16T10:45:53.601641Z",
     "start_time": "2020-12-16T10:45:53.573183Z"
    }
   },
   "outputs": [
    {
     "data": {
      "text/html": [
       "<div>\n",
       "<style scoped>\n",
       "    .dataframe tbody tr th:only-of-type {\n",
       "        vertical-align: middle;\n",
       "    }\n",
       "\n",
       "    .dataframe tbody tr th {\n",
       "        vertical-align: top;\n",
       "    }\n",
       "\n",
       "    .dataframe thead th {\n",
       "        text-align: right;\n",
       "    }\n",
       "</style>\n",
       "<table border=\"1\" class=\"dataframe\">\n",
       "  <thead>\n",
       "    <tr style=\"text-align: right;\">\n",
       "      <th></th>\n",
       "      <th>Calculation1</th>\n",
       "      <th>City</th>\n",
       "      <th>County/State/ Territory</th>\n",
       "      <th>Count</th>\n",
       "      <th>Ethnicity</th>\n",
       "      <th>Pivot Field Values</th>\n",
       "    </tr>\n",
       "  </thead>\n",
       "  <tbody>\n",
       "    <tr>\n",
       "      <th>0</th>\n",
       "      <td>21ST CENTURY EXPERIMENTAL SCH694223</td>\n",
       "      <td>NaN</td>\n",
       "      <td>NaN</td>\n",
       "      <td>App</td>\n",
       "      <td>All</td>\n",
       "      <td>11</td>\n",
       "    </tr>\n",
       "    <tr>\n",
       "      <th>1</th>\n",
       "      <td>A &amp; M CONSOLIDATED HIGH SCHOOL441400</td>\n",
       "      <td>College Station</td>\n",
       "      <td>TX</td>\n",
       "      <td>Adm</td>\n",
       "      <td>Asian</td>\n",
       "      <td>4</td>\n",
       "    </tr>\n",
       "    <tr>\n",
       "      <th>2</th>\n",
       "      <td>A &amp; M CONSOLIDATED HIGH SCHOOL441400</td>\n",
       "      <td>College Station</td>\n",
       "      <td>TX</td>\n",
       "      <td>App</td>\n",
       "      <td>Asian</td>\n",
       "      <td>8</td>\n",
       "    </tr>\n",
       "    <tr>\n",
       "      <th>3</th>\n",
       "      <td>A &amp; M CONSOLIDATED HIGH SCHOOL441400</td>\n",
       "      <td>College Station</td>\n",
       "      <td>TX</td>\n",
       "      <td>Adm</td>\n",
       "      <td>All</td>\n",
       "      <td>6</td>\n",
       "    </tr>\n",
       "    <tr>\n",
       "      <th>4</th>\n",
       "      <td>A &amp; M CONSOLIDATED HIGH SCHOOL441400</td>\n",
       "      <td>College Station</td>\n",
       "      <td>TX</td>\n",
       "      <td>App</td>\n",
       "      <td>All</td>\n",
       "      <td>11</td>\n",
       "    </tr>\n",
       "    <tr>\n",
       "      <th>...</th>\n",
       "      <td>...</td>\n",
       "      <td>...</td>\n",
       "      <td>...</td>\n",
       "      <td>...</td>\n",
       "      <td>...</td>\n",
       "      <td>...</td>\n",
       "    </tr>\n",
       "    <tr>\n",
       "      <th>7756</th>\n",
       "      <td>ZHENGZHOU FOREIGN LANGUAGE SCH694361</td>\n",
       "      <td>NaN</td>\n",
       "      <td>NaN</td>\n",
       "      <td>App</td>\n",
       "      <td>All</td>\n",
       "      <td>70</td>\n",
       "    </tr>\n",
       "    <tr>\n",
       "      <th>7757</th>\n",
       "      <td>ZHENHAI HIGH SCH OF ZHEJIANG694294</td>\n",
       "      <td>NaN</td>\n",
       "      <td>NaN</td>\n",
       "      <td>App</td>\n",
       "      <td>All</td>\n",
       "      <td>18</td>\n",
       "    </tr>\n",
       "    <tr>\n",
       "      <th>7758</th>\n",
       "      <td>ZHIXIN HIGH SCHOOL694022</td>\n",
       "      <td>NaN</td>\n",
       "      <td>NaN</td>\n",
       "      <td>App</td>\n",
       "      <td>All</td>\n",
       "      <td>14</td>\n",
       "    </tr>\n",
       "    <tr>\n",
       "      <th>7759</th>\n",
       "      <td>ZIBO EXPERIMENTAL HIGH SCHOOL694601</td>\n",
       "      <td>NaN</td>\n",
       "      <td>NaN</td>\n",
       "      <td>App</td>\n",
       "      <td>All</td>\n",
       "      <td>6</td>\n",
       "    </tr>\n",
       "    <tr>\n",
       "      <th>7760</th>\n",
       "      <td>ZURICH INTERNATIONAL SCHOOL796330</td>\n",
       "      <td>NaN</td>\n",
       "      <td>NaN</td>\n",
       "      <td>App</td>\n",
       "      <td>All</td>\n",
       "      <td>6</td>\n",
       "    </tr>\n",
       "  </tbody>\n",
       "</table>\n",
       "<p>7761 rows × 6 columns</p>\n",
       "</div>"
      ],
      "text/plain": [
       "                              Calculation1             City  \\\n",
       "0      21ST CENTURY EXPERIMENTAL SCH694223              NaN   \n",
       "1     A & M CONSOLIDATED HIGH SCHOOL441400  College Station   \n",
       "2     A & M CONSOLIDATED HIGH SCHOOL441400  College Station   \n",
       "3     A & M CONSOLIDATED HIGH SCHOOL441400  College Station   \n",
       "4     A & M CONSOLIDATED HIGH SCHOOL441400  College Station   \n",
       "...                                    ...              ...   \n",
       "7756  ZHENGZHOU FOREIGN LANGUAGE SCH694361              NaN   \n",
       "7757    ZHENHAI HIGH SCH OF ZHEJIANG694294              NaN   \n",
       "7758              ZHIXIN HIGH SCHOOL694022              NaN   \n",
       "7759   ZIBO EXPERIMENTAL HIGH SCHOOL694601              NaN   \n",
       "7760     ZURICH INTERNATIONAL SCHOOL796330              NaN   \n",
       "\n",
       "     County/State/ Territory Count Ethnicity  Pivot Field Values  \n",
       "0                        NaN   App       All                  11  \n",
       "1                         TX   Adm     Asian                   4  \n",
       "2                         TX   App     Asian                   8  \n",
       "3                         TX   Adm       All                   6  \n",
       "4                         TX   App       All                  11  \n",
       "...                      ...   ...       ...                 ...  \n",
       "7756                     NaN   App       All                  70  \n",
       "7757                     NaN   App       All                  18  \n",
       "7758                     NaN   App       All                  14  \n",
       "7759                     NaN   App       All                   6  \n",
       "7760                     NaN   App       All                   6  \n",
       "\n",
       "[7761 rows x 6 columns]"
      ]
     },
     "execution_count": 58,
     "metadata": {},
     "output_type": "execute_result"
    }
   ],
   "source": [
    "eth"
   ]
  },
  {
   "cell_type": "code",
   "execution_count": 59,
   "metadata": {
    "ExecuteTime": {
     "end_time": "2020-12-16T10:45:56.234819Z",
     "start_time": "2020-12-16T10:45:53.604404Z"
    }
   },
   "outputs": [],
   "source": [
    "eth_filtered = eth.groupby('Calculation1').filter(lambda df: len(df.loc[df['Count'] == 'Adm', 'Count']) > 0)\n",
    "eth_filtered = eth_filtered.groupby('Calculation1').filter(\n",
    "    lambda df: ('White' in df.loc[df['Count'] == 'App', 'Ethnicity'].tolist()) &\n",
    "               ('All' in df.loc[df['Count'] == 'App', 'Ethnicity'].tolist()) &\n",
    "               ('White' in df.loc[df['Count'] == 'Adm', 'Ethnicity'].tolist()) &\n",
    "               ('All' in df.loc[df['Count'] == 'Adm', 'Ethnicity'].tolist())\n",
    ")\n",
    "\n",
    "eth_filtered.loc[eth_filtered['County/State/ Territory'].isnull(), 'Location'] = 'INT'\n",
    "eth_filtered.loc[eth_filtered['County/State/ Territory'].str.len() == 2, 'Location'] = 'OOS'\n",
    "eth_filtered.loc[eth_filtered['County/State/ Territory'].str.len() > 2, 'Location'] = 'INS'\n",
    "\n",
    "df_eth = pd.pivot_table(eth_filtered,\n",
    "               index = 'Calculation1', \n",
    "               values = 'Pivot Field Values', \n",
    "               columns = ['Count', 'Ethnicity'])[['App', 'Adm']]\n",
    "\n",
    "df_eth['AppWhiteProportion'] = df_eth[('App', 'White')] / df_eth[('App', 'All')]\n",
    "df_eth['AdmWhiteProportion'] = df_eth[('Adm', 'White')] / df_eth[('Adm', 'All')]\n",
    "\n",
    "df_eth.columns = [''.join(col).strip() for col in df_eth.columns.values]\n",
    "\n",
    "df_eth = df_eth[['AppWhiteProportion', 'AdmWhiteProportion']]\n",
    "\n",
    "df_eth = df_eth.merge(eth_filtered[['Calculation1', 'Location']].groupby('Calculation1').agg(lambda x: x.iloc[0])\n",
    "         , on = 'Calculation1')"
   ]
  },
  {
   "cell_type": "code",
   "execution_count": 60,
   "metadata": {
    "ExecuteTime": {
     "end_time": "2020-12-16T10:45:56.239482Z",
     "start_time": "2020-12-16T10:45:56.237049Z"
    }
   },
   "outputs": [],
   "source": [
    "# turns out no schools both reported white/all proportions AND male/female/all proportions, so these analyses need to be done separately"
   ]
  },
  {
   "cell_type": "code",
   "execution_count": 61,
   "metadata": {
    "ExecuteTime": {
     "end_time": "2020-12-16T10:45:56.278252Z",
     "start_time": "2020-12-16T10:45:56.241635Z"
    }
   },
   "outputs": [
    {
     "data": {
      "text/html": [
       "<div>\n",
       "<style scoped>\n",
       "    .dataframe tbody tr th:only-of-type {\n",
       "        vertical-align: middle;\n",
       "    }\n",
       "\n",
       "    .dataframe tbody tr th {\n",
       "        vertical-align: top;\n",
       "    }\n",
       "\n",
       "    .dataframe thead th {\n",
       "        text-align: right;\n",
       "    }\n",
       "</style>\n",
       "<table border=\"1\" class=\"dataframe\">\n",
       "  <thead>\n",
       "    <tr style=\"text-align: right;\">\n",
       "      <th></th>\n",
       "      <th>AppAll</th>\n",
       "      <th>AppFemale</th>\n",
       "      <th>AppMale</th>\n",
       "      <th>AdmAll</th>\n",
       "      <th>AdmFemale</th>\n",
       "      <th>AdmMale</th>\n",
       "      <th>AppMaleProportion</th>\n",
       "      <th>AdmMaleProportion</th>\n",
       "      <th>Location</th>\n",
       "    </tr>\n",
       "    <tr>\n",
       "      <th>Calculation1</th>\n",
       "      <th></th>\n",
       "      <th></th>\n",
       "      <th></th>\n",
       "      <th></th>\n",
       "      <th></th>\n",
       "      <th></th>\n",
       "      <th></th>\n",
       "      <th></th>\n",
       "      <th></th>\n",
       "    </tr>\n",
       "  </thead>\n",
       "  <tbody>\n",
       "    <tr>\n",
       "      <th>ABRAHAM LINCOLN HIGH SCHOOL52910</th>\n",
       "      <td>109.0</td>\n",
       "      <td>57.0</td>\n",
       "      <td>52.0</td>\n",
       "      <td>9.0</td>\n",
       "      <td>6.0</td>\n",
       "      <td>3.0</td>\n",
       "      <td>0.477064</td>\n",
       "      <td>0.333333</td>\n",
       "      <td>INS</td>\n",
       "    </tr>\n",
       "    <tr>\n",
       "      <th>ACADEMY OF THE CANYONS53262</th>\n",
       "      <td>34.0</td>\n",
       "      <td>20.0</td>\n",
       "      <td>14.0</td>\n",
       "      <td>9.0</td>\n",
       "      <td>5.0</td>\n",
       "      <td>4.0</td>\n",
       "      <td>0.411765</td>\n",
       "      <td>0.444444</td>\n",
       "      <td>INS</td>\n",
       "    </tr>\n",
       "    <tr>\n",
       "      <th>ACALANES HIGH SCHOOL51315</th>\n",
       "      <td>80.0</td>\n",
       "      <td>44.0</td>\n",
       "      <td>36.0</td>\n",
       "      <td>10.0</td>\n",
       "      <td>5.0</td>\n",
       "      <td>5.0</td>\n",
       "      <td>0.450000</td>\n",
       "      <td>0.500000</td>\n",
       "      <td>INS</td>\n",
       "    </tr>\n",
       "    <tr>\n",
       "      <th>ADLAI E STEVENSON HIGH SCHOOL143550</th>\n",
       "      <td>76.0</td>\n",
       "      <td>29.0</td>\n",
       "      <td>47.0</td>\n",
       "      <td>11.0</td>\n",
       "      <td>3.0</td>\n",
       "      <td>8.0</td>\n",
       "      <td>0.618421</td>\n",
       "      <td>0.727273</td>\n",
       "      <td>OOS</td>\n",
       "    </tr>\n",
       "    <tr>\n",
       "      <th>ADOLFO CAMARILLO HIGH SCHOOL50438</th>\n",
       "      <td>47.0</td>\n",
       "      <td>21.0</td>\n",
       "      <td>26.0</td>\n",
       "      <td>8.0</td>\n",
       "      <td>4.0</td>\n",
       "      <td>4.0</td>\n",
       "      <td>0.553191</td>\n",
       "      <td>0.500000</td>\n",
       "      <td>INS</td>\n",
       "    </tr>\n",
       "    <tr>\n",
       "      <th>...</th>\n",
       "      <td>...</td>\n",
       "      <td>...</td>\n",
       "      <td>...</td>\n",
       "      <td>...</td>\n",
       "      <td>...</td>\n",
       "      <td>...</td>\n",
       "      <td>...</td>\n",
       "      <td>...</td>\n",
       "      <td>...</td>\n",
       "    </tr>\n",
       "    <tr>\n",
       "      <th>WOODBRIDGE HIGH SCHOOL51274</th>\n",
       "      <td>164.0</td>\n",
       "      <td>76.0</td>\n",
       "      <td>87.0</td>\n",
       "      <td>32.0</td>\n",
       "      <td>18.0</td>\n",
       "      <td>14.0</td>\n",
       "      <td>0.530488</td>\n",
       "      <td>0.437500</td>\n",
       "      <td>INS</td>\n",
       "    </tr>\n",
       "    <tr>\n",
       "      <th>WOODROW WILSON HIGH SCHOOL51505</th>\n",
       "      <td>69.0</td>\n",
       "      <td>37.0</td>\n",
       "      <td>32.0</td>\n",
       "      <td>9.0</td>\n",
       "      <td>6.0</td>\n",
       "      <td>3.0</td>\n",
       "      <td>0.463768</td>\n",
       "      <td>0.333333</td>\n",
       "      <td>INS</td>\n",
       "    </tr>\n",
       "    <tr>\n",
       "      <th>XIAN GAO XIN NO 1 HIGH SCHOOL694297</th>\n",
       "      <td>45.0</td>\n",
       "      <td>24.0</td>\n",
       "      <td>21.0</td>\n",
       "      <td>9.0</td>\n",
       "      <td>6.0</td>\n",
       "      <td>3.0</td>\n",
       "      <td>0.466667</td>\n",
       "      <td>0.333333</td>\n",
       "      <td>INT</td>\n",
       "    </tr>\n",
       "    <tr>\n",
       "      <th>YERBA BUENA HIGH SCHOOL53113</th>\n",
       "      <td>50.0</td>\n",
       "      <td>32.0</td>\n",
       "      <td>18.0</td>\n",
       "      <td>11.0</td>\n",
       "      <td>6.0</td>\n",
       "      <td>5.0</td>\n",
       "      <td>0.360000</td>\n",
       "      <td>0.454545</td>\n",
       "      <td>INS</td>\n",
       "    </tr>\n",
       "    <tr>\n",
       "      <th>YONGSAN INTL SCHOOL SEOUL682230</th>\n",
       "      <td>35.0</td>\n",
       "      <td>22.0</td>\n",
       "      <td>13.0</td>\n",
       "      <td>11.0</td>\n",
       "      <td>7.0</td>\n",
       "      <td>4.0</td>\n",
       "      <td>0.371429</td>\n",
       "      <td>0.363636</td>\n",
       "      <td>INT</td>\n",
       "    </tr>\n",
       "  </tbody>\n",
       "</table>\n",
       "<p>396 rows × 9 columns</p>\n",
       "</div>"
      ],
      "text/plain": [
       "                                     AppAll  AppFemale  AppMale  AdmAll  \\\n",
       "Calculation1                                                              \n",
       "ABRAHAM LINCOLN HIGH SCHOOL52910      109.0       57.0     52.0     9.0   \n",
       "ACADEMY OF THE CANYONS53262            34.0       20.0     14.0     9.0   \n",
       "ACALANES HIGH SCHOOL51315              80.0       44.0     36.0    10.0   \n",
       "ADLAI E STEVENSON HIGH SCHOOL143550    76.0       29.0     47.0    11.0   \n",
       "ADOLFO CAMARILLO HIGH SCHOOL50438      47.0       21.0     26.0     8.0   \n",
       "...                                     ...        ...      ...     ...   \n",
       "WOODBRIDGE HIGH SCHOOL51274           164.0       76.0     87.0    32.0   \n",
       "WOODROW WILSON HIGH SCHOOL51505        69.0       37.0     32.0     9.0   \n",
       "XIAN GAO XIN NO 1 HIGH SCHOOL694297    45.0       24.0     21.0     9.0   \n",
       "YERBA BUENA HIGH SCHOOL53113           50.0       32.0     18.0    11.0   \n",
       "YONGSAN INTL SCHOOL SEOUL682230        35.0       22.0     13.0    11.0   \n",
       "\n",
       "                                     AdmFemale  AdmMale  AppMaleProportion  \\\n",
       "Calculation1                                                                 \n",
       "ABRAHAM LINCOLN HIGH SCHOOL52910           6.0      3.0           0.477064   \n",
       "ACADEMY OF THE CANYONS53262                5.0      4.0           0.411765   \n",
       "ACALANES HIGH SCHOOL51315                  5.0      5.0           0.450000   \n",
       "ADLAI E STEVENSON HIGH SCHOOL143550        3.0      8.0           0.618421   \n",
       "ADOLFO CAMARILLO HIGH SCHOOL50438          4.0      4.0           0.553191   \n",
       "...                                        ...      ...                ...   \n",
       "WOODBRIDGE HIGH SCHOOL51274               18.0     14.0           0.530488   \n",
       "WOODROW WILSON HIGH SCHOOL51505            6.0      3.0           0.463768   \n",
       "XIAN GAO XIN NO 1 HIGH SCHOOL694297        6.0      3.0           0.466667   \n",
       "YERBA BUENA HIGH SCHOOL53113               6.0      5.0           0.360000   \n",
       "YONGSAN INTL SCHOOL SEOUL682230            7.0      4.0           0.371429   \n",
       "\n",
       "                                     AdmMaleProportion Location  \n",
       "Calculation1                                                     \n",
       "ABRAHAM LINCOLN HIGH SCHOOL52910              0.333333      INS  \n",
       "ACADEMY OF THE CANYONS53262                   0.444444      INS  \n",
       "ACALANES HIGH SCHOOL51315                     0.500000      INS  \n",
       "ADLAI E STEVENSON HIGH SCHOOL143550           0.727273      OOS  \n",
       "ADOLFO CAMARILLO HIGH SCHOOL50438             0.500000      INS  \n",
       "...                                                ...      ...  \n",
       "WOODBRIDGE HIGH SCHOOL51274                   0.437500      INS  \n",
       "WOODROW WILSON HIGH SCHOOL51505               0.333333      INS  \n",
       "XIAN GAO XIN NO 1 HIGH SCHOOL694297           0.333333      INT  \n",
       "YERBA BUENA HIGH SCHOOL53113                  0.454545      INS  \n",
       "YONGSAN INTL SCHOOL SEOUL682230               0.363636      INT  \n",
       "\n",
       "[396 rows x 9 columns]"
      ]
     },
     "execution_count": 61,
     "metadata": {},
     "output_type": "execute_result"
    }
   ],
   "source": [
    "df"
   ]
  },
  {
   "cell_type": "markdown",
   "metadata": {},
   "source": [
    "### actual machine learning"
   ]
  },
  {
   "cell_type": "code",
   "execution_count": 62,
   "metadata": {
    "ExecuteTime": {
     "end_time": "2020-12-16T10:45:56.442465Z",
     "start_time": "2020-12-16T10:45:56.280565Z"
    }
   },
   "outputs": [],
   "source": [
    "from sklearn.model_selection import train_test_split\n",
    "from sklearn.linear_model import LogisticRegression\n",
    "from sklearn.tree import DecisionTreeClassifier\n",
    "from sklearn.ensemble import RandomForestClassifier"
   ]
  },
  {
   "cell_type": "code",
   "execution_count": 63,
   "metadata": {
    "ExecuteTime": {
     "end_time": "2020-12-16T10:45:56.457411Z",
     "start_time": "2020-12-16T10:45:56.444257Z"
    }
   },
   "outputs": [
    {
     "data": {
      "text/html": [
       "<div>\n",
       "<style scoped>\n",
       "    .dataframe tbody tr th:only-of-type {\n",
       "        vertical-align: middle;\n",
       "    }\n",
       "\n",
       "    .dataframe tbody tr th {\n",
       "        vertical-align: top;\n",
       "    }\n",
       "\n",
       "    .dataframe thead th {\n",
       "        text-align: right;\n",
       "    }\n",
       "</style>\n",
       "<table border=\"1\" class=\"dataframe\">\n",
       "  <thead>\n",
       "    <tr style=\"text-align: right;\">\n",
       "      <th></th>\n",
       "      <th>AppAll</th>\n",
       "      <th>AppFemale</th>\n",
       "      <th>AppMale</th>\n",
       "      <th>AdmAll</th>\n",
       "      <th>AdmFemale</th>\n",
       "      <th>AdmMale</th>\n",
       "      <th>AppMaleProportion</th>\n",
       "      <th>AdmMaleProportion</th>\n",
       "      <th>Location</th>\n",
       "    </tr>\n",
       "    <tr>\n",
       "      <th>Calculation1</th>\n",
       "      <th></th>\n",
       "      <th></th>\n",
       "      <th></th>\n",
       "      <th></th>\n",
       "      <th></th>\n",
       "      <th></th>\n",
       "      <th></th>\n",
       "      <th></th>\n",
       "      <th></th>\n",
       "    </tr>\n",
       "  </thead>\n",
       "  <tbody>\n",
       "    <tr>\n",
       "      <th>ABRAHAM LINCOLN HIGH SCHOOL52910</th>\n",
       "      <td>109.0</td>\n",
       "      <td>57.0</td>\n",
       "      <td>52.0</td>\n",
       "      <td>9.0</td>\n",
       "      <td>6.0</td>\n",
       "      <td>3.0</td>\n",
       "      <td>0.477064</td>\n",
       "      <td>0.333333</td>\n",
       "      <td>INS</td>\n",
       "    </tr>\n",
       "    <tr>\n",
       "      <th>ACADEMY OF THE CANYONS53262</th>\n",
       "      <td>34.0</td>\n",
       "      <td>20.0</td>\n",
       "      <td>14.0</td>\n",
       "      <td>9.0</td>\n",
       "      <td>5.0</td>\n",
       "      <td>4.0</td>\n",
       "      <td>0.411765</td>\n",
       "      <td>0.444444</td>\n",
       "      <td>INS</td>\n",
       "    </tr>\n",
       "    <tr>\n",
       "      <th>ACALANES HIGH SCHOOL51315</th>\n",
       "      <td>80.0</td>\n",
       "      <td>44.0</td>\n",
       "      <td>36.0</td>\n",
       "      <td>10.0</td>\n",
       "      <td>5.0</td>\n",
       "      <td>5.0</td>\n",
       "      <td>0.450000</td>\n",
       "      <td>0.500000</td>\n",
       "      <td>INS</td>\n",
       "    </tr>\n",
       "    <tr>\n",
       "      <th>ADLAI E STEVENSON HIGH SCHOOL143550</th>\n",
       "      <td>76.0</td>\n",
       "      <td>29.0</td>\n",
       "      <td>47.0</td>\n",
       "      <td>11.0</td>\n",
       "      <td>3.0</td>\n",
       "      <td>8.0</td>\n",
       "      <td>0.618421</td>\n",
       "      <td>0.727273</td>\n",
       "      <td>OOS</td>\n",
       "    </tr>\n",
       "    <tr>\n",
       "      <th>ADOLFO CAMARILLO HIGH SCHOOL50438</th>\n",
       "      <td>47.0</td>\n",
       "      <td>21.0</td>\n",
       "      <td>26.0</td>\n",
       "      <td>8.0</td>\n",
       "      <td>4.0</td>\n",
       "      <td>4.0</td>\n",
       "      <td>0.553191</td>\n",
       "      <td>0.500000</td>\n",
       "      <td>INS</td>\n",
       "    </tr>\n",
       "  </tbody>\n",
       "</table>\n",
       "</div>"
      ],
      "text/plain": [
       "                                     AppAll  AppFemale  AppMale  AdmAll  \\\n",
       "Calculation1                                                              \n",
       "ABRAHAM LINCOLN HIGH SCHOOL52910      109.0       57.0     52.0     9.0   \n",
       "ACADEMY OF THE CANYONS53262            34.0       20.0     14.0     9.0   \n",
       "ACALANES HIGH SCHOOL51315              80.0       44.0     36.0    10.0   \n",
       "ADLAI E STEVENSON HIGH SCHOOL143550    76.0       29.0     47.0    11.0   \n",
       "ADOLFO CAMARILLO HIGH SCHOOL50438      47.0       21.0     26.0     8.0   \n",
       "\n",
       "                                     AdmFemale  AdmMale  AppMaleProportion  \\\n",
       "Calculation1                                                                 \n",
       "ABRAHAM LINCOLN HIGH SCHOOL52910           6.0      3.0           0.477064   \n",
       "ACADEMY OF THE CANYONS53262                5.0      4.0           0.411765   \n",
       "ACALANES HIGH SCHOOL51315                  5.0      5.0           0.450000   \n",
       "ADLAI E STEVENSON HIGH SCHOOL143550        3.0      8.0           0.618421   \n",
       "ADOLFO CAMARILLO HIGH SCHOOL50438          4.0      4.0           0.553191   \n",
       "\n",
       "                                     AdmMaleProportion Location  \n",
       "Calculation1                                                     \n",
       "ABRAHAM LINCOLN HIGH SCHOOL52910              0.333333      INS  \n",
       "ACADEMY OF THE CANYONS53262                   0.444444      INS  \n",
       "ACALANES HIGH SCHOOL51315                     0.500000      INS  \n",
       "ADLAI E STEVENSON HIGH SCHOOL143550           0.727273      OOS  \n",
       "ADOLFO CAMARILLO HIGH SCHOOL50438             0.500000      INS  "
      ]
     },
     "execution_count": 63,
     "metadata": {},
     "output_type": "execute_result"
    }
   ],
   "source": [
    "df.head()"
   ]
  },
  {
   "cell_type": "code",
   "execution_count": 64,
   "metadata": {
    "ExecuteTime": {
     "end_time": "2020-12-16T10:45:56.462269Z",
     "start_time": "2020-12-16T10:45:56.458995Z"
    }
   },
   "outputs": [],
   "source": [
    "df['binary target'] = 1 * (df['Location'] == 'INS')"
   ]
  },
  {
   "cell_type": "code",
   "execution_count": 65,
   "metadata": {
    "ExecuteTime": {
     "end_time": "2020-12-16T10:45:56.469355Z",
     "start_time": "2020-12-16T10:45:56.463969Z"
    }
   },
   "outputs": [
    {
     "data": {
      "text/plain": [
       "INS    318\n",
       "OOS     49\n",
       "INT     29\n",
       "Name: Location, dtype: int64"
      ]
     },
     "execution_count": 65,
     "metadata": {},
     "output_type": "execute_result"
    }
   ],
   "source": [
    "df['Location'].value_counts()"
   ]
  },
  {
   "cell_type": "code",
   "execution_count": 66,
   "metadata": {
    "ExecuteTime": {
     "end_time": "2020-12-16T10:45:56.475821Z",
     "start_time": "2020-12-16T10:45:56.471030Z"
    }
   },
   "outputs": [
    {
     "data": {
      "text/plain": [
       "1    318\n",
       "0     78\n",
       "Name: binary target, dtype: int64"
      ]
     },
     "execution_count": 66,
     "metadata": {},
     "output_type": "execute_result"
    }
   ],
   "source": [
    "df['binary target'].value_counts()"
   ]
  },
  {
   "cell_type": "code",
   "execution_count": 67,
   "metadata": {
    "ExecuteTime": {
     "end_time": "2020-12-16T10:45:56.483285Z",
     "start_time": "2020-12-16T10:45:56.477424Z"
    }
   },
   "outputs": [],
   "source": [
    "train_binary, test_binary = train_test_split(df, test_size = 0.2, random_state = 42)"
   ]
  },
  {
   "cell_type": "code",
   "execution_count": 68,
   "metadata": {
    "ExecuteTime": {
     "end_time": "2020-12-16T10:45:56.488153Z",
     "start_time": "2020-12-16T10:45:56.485169Z"
    }
   },
   "outputs": [],
   "source": [
    "binary_models = {\n",
    "    'lr': LogisticRegression(),\n",
    "    'lrb': LogisticRegression(class_weight = \"balanced\"),\n",
    "    'dt': DecisionTreeClassifier(),\n",
    "    'rf': RandomForestClassifier()\n",
    "}"
   ]
  },
  {
   "cell_type": "code",
   "execution_count": 135,
   "metadata": {
    "ExecuteTime": {
     "end_time": "2020-12-16T10:45:57.645179Z",
     "start_time": "2020-12-16T10:45:56.490526Z"
    }
   },
   "outputs": [
    {
     "name": "stdout",
     "output_type": "stream",
     "text": [
      "lr 0.8037974683544303 0.8\n",
      "[1]\n",
      "lrb 0.6170886075949367 0.6625\n",
      "[0 1]\n",
      "dt 0.9936708860759493 0.675\n",
      "[0 1]\n",
      "rf 0.9936708860759493 0.725\n",
      "[0 1]\n"
     ]
    },
    {
     "data": {
      "image/png": "[encoded data removed]",
      "text/plain": [
       "<Figure size 432x288 with 1 Axes>"
      ]
     },
     "metadata": {
      "needs_background": "light"
     },
     "output_type": "display_data"
    }
   ],
   "source": [
    "for m in binary_models:\n",
    "    binary_models[m].fit(train_binary[['AppMaleProportion', 'AdmMaleProportion']], train_binary['binary target'])\n",
    "    train_acc = binary_models[m].score(train_binary[['AppMaleProportion', 'AdmMaleProportion']], train_binary['binary target'])\n",
    "    test_acc = binary_models[m].score(test_binary[['AppMaleProportion', 'AdmMaleProportion']], test_binary['binary target'])\n",
    "    print(m, train_acc, test_acc)\n",
    "    \n",
    "    sns_cmap = ListedColormap(np.array(sns.color_palette())[0:2, :])\n",
    "\n",
    "    xx, yy = np.meshgrid(np.arange(0, 1, 0.01), np.arange(0, 1, 0.01))\n",
    "    Z_string = binary_models[m].predict(np.c_[xx.ravel(), yy.ravel()])\n",
    "    categories, Z_int = np.unique(Z_string, return_inverse = True)\n",
    "    Z_int = Z_int.reshape(xx.shape)\n",
    "    print(categories)\n",
    "    plt.contourf(xx, yy, Z_int, cmap = sns_cmap)\n",
    "    sns.scatterplot(data = train_binary, x = 'AppMaleProportion', y = 'AdmMaleProportion', hue = 'binary target', cmap = sns_cmap)\n",
    "#     plt.title('Logistic Regression on nba_train');\n",
    "#     break\n",
    "#     plt.show()\n",
    "    "
   ]
  },
  {
   "cell_type": "code",
   "execution_count": 70,
   "metadata": {
    "ExecuteTime": {
     "end_time": "2020-12-16T10:45:57.658229Z",
     "start_time": "2020-12-16T10:45:57.648169Z"
    }
   },
   "outputs": [
    {
     "data": {
      "text/plain": [
       "array([1, 0, 1, 1, 1, 1, 0, 0, 1, 1, 1, 1, 1, 1, 1, 1, 1, 1, 1, 1, 1, 1,\n",
       "       1, 1, 1, 1, 1, 1, 1, 1, 1, 1, 0, 1, 1, 1, 1, 1, 1, 1, 1, 0, 0, 1,\n",
       "       1, 1, 1, 1, 1, 1, 1, 0, 1, 0, 1, 1, 0, 1, 1, 0, 1, 1, 0, 1, 1, 1,\n",
       "       1, 1, 1, 0, 0, 1, 1, 0, 1, 1, 0, 0, 1, 1, 1, 1, 1, 1, 1, 1, 0, 0,\n",
       "       1, 1, 1, 1, 1, 1, 1, 1, 1, 1, 1, 1, 0, 1, 1, 1, 1, 0, 1, 1, 0, 1,\n",
       "       1, 1, 1, 1, 1, 1, 1, 1, 1, 1, 1, 1, 0, 1, 1, 1, 1, 0, 1, 0, 1, 1,\n",
       "       1, 1, 1, 1, 0, 1, 1, 1, 0, 1, 1, 0, 1, 1, 0, 1, 1, 0, 1, 0, 0, 1,\n",
       "       0, 1, 0, 1, 1, 1, 1, 0, 1, 1, 1, 1, 1, 0, 1, 1, 1, 1, 0, 1, 1, 1,\n",
       "       1, 0, 0, 1, 1, 1, 1, 1, 0, 1, 1, 1, 1, 1, 1, 1, 1, 1, 1, 1, 0, 1,\n",
       "       1, 1, 1, 1, 1, 1, 0, 1, 1, 1, 1, 1, 0, 1, 1, 0, 0, 0, 1, 1, 1, 1,\n",
       "       0, 1, 1, 1, 1, 0, 1, 1, 0, 1, 1, 0, 1, 1, 1, 0, 1, 1, 1, 1, 1, 1,\n",
       "       1, 1, 1, 1, 1, 1, 1, 1, 1, 1, 1, 1, 1, 1, 1, 1, 1, 0, 1, 1, 1, 1,\n",
       "       0, 1, 1, 1, 1, 1, 1, 1, 0, 1, 1, 1, 1, 1, 1, 0, 0, 0, 1, 1, 1, 1,\n",
       "       1, 1, 1, 1, 1, 1, 1, 1, 1, 1, 1, 1, 0, 1, 0, 0, 1, 1, 1, 0, 1, 1,\n",
       "       0, 1, 1, 1, 1, 0, 1, 1])"
      ]
     },
     "execution_count": 70,
     "metadata": {},
     "output_type": "execute_result"
    }
   ],
   "source": [
    "binary_models['dt'].predict(train_binary[['AppMaleProportion', 'AdmMaleProportion']])"
   ]
  },
  {
   "cell_type": "code",
   "execution_count": 161,
   "metadata": {},
   "outputs": [],
   "source": [
    "from sklearn.metrics import confusion_matrix"
   ]
  },
  {
   "cell_type": "code",
   "execution_count": 192,
   "metadata": {},
   "outputs": [
    {
     "data": {
      "text/plain": [
       "array([[0. , 0.2],\n",
       "       [0. , 0.8]])"
      ]
     },
     "execution_count": 192,
     "metadata": {},
     "output_type": "execute_result"
    }
   ],
   "source": [
    "# lr cm\n",
    "confusion_matrix(test_binary['binary target'], binary_models['lr'].predict(test_binary[['AppMaleProportion', 'AdmMaleProportion']])) / len(test_binary)"
   ]
  },
  {
   "cell_type": "code",
   "execution_count": 174,
   "metadata": {},
   "outputs": [
    {
     "data": {
      "text/plain": [
       "1    254\n",
       "0     62\n",
       "Name: binary target, dtype: int64"
      ]
     },
     "execution_count": 174,
     "metadata": {},
     "output_type": "execute_result"
    }
   ],
   "source": [
    "train_binary['binary target'].value_counts()"
   ]
  },
  {
   "cell_type": "code",
   "execution_count": 175,
   "metadata": {},
   "outputs": [
    {
     "data": {
      "text/plain": [
       "316"
      ]
     },
     "execution_count": 175,
     "metadata": {},
     "output_type": "execute_result"
    }
   ],
   "source": [
    "len(train_binary)"
   ]
  },
  {
   "cell_type": "code",
   "execution_count": 173,
   "metadata": {},
   "outputs": [],
   "source": [
    "confusion_matrix?"
   ]
  },
  {
   "cell_type": "code",
   "execution_count": 191,
   "metadata": {},
   "outputs": [
    {
     "data": {
      "text/plain": [
       "array([[0.1375, 0.0625],\n",
       "       [0.275 , 0.525 ]])"
      ]
     },
     "execution_count": 191,
     "metadata": {},
     "output_type": "execute_result"
    }
   ],
   "source": [
    "# lrb cm\n",
    "confusion_matrix(test_binary['binary target'], binary_models['lrb'].predict(test_binary[['AppMaleProportion', 'AdmMaleProportion']])) / len(test_binary)"
   ]
  },
  {
   "cell_type": "code",
   "execution_count": 171,
   "metadata": {},
   "outputs": [
    {
     "data": {
      "text/plain": [
       "1    254\n",
       "0     62\n",
       "Name: binary target, dtype: int64"
      ]
     },
     "execution_count": 171,
     "metadata": {},
     "output_type": "execute_result"
    }
   ],
   "source": [
    "train_binary['binary target'].value_counts()"
   ]
  },
  {
   "cell_type": "code",
   "execution_count": 172,
   "metadata": {},
   "outputs": [
    {
     "data": {
      "text/plain": [
       "1    64\n",
       "0    16\n",
       "Name: binary target, dtype: int64"
      ]
     },
     "execution_count": 172,
     "metadata": {},
     "output_type": "execute_result"
    }
   ],
   "source": [
    "test_binary['binary target'].value_counts()"
   ]
  },
  {
   "cell_type": "code",
   "execution_count": 164,
   "metadata": {},
   "outputs": [],
   "source": [
    "# merged data"
   ]
  },
  {
   "cell_type": "code",
   "execution_count": 72,
   "metadata": {
    "ExecuteTime": {
     "end_time": "2020-12-16T10:45:57.706540Z",
     "start_time": "2020-12-16T10:45:57.666656Z"
    }
   },
   "outputs": [
    {
     "data": {
      "text/html": [
       "<div>\n",
       "<style scoped>\n",
       "    .dataframe tbody tr th:only-of-type {\n",
       "        vertical-align: middle;\n",
       "    }\n",
       "\n",
       "    .dataframe tbody tr th {\n",
       "        vertical-align: top;\n",
       "    }\n",
       "\n",
       "    .dataframe thead th {\n",
       "        text-align: right;\n",
       "    }\n",
       "</style>\n",
       "<table border=\"1\" class=\"dataframe\">\n",
       "  <thead>\n",
       "    <tr style=\"text-align: right;\">\n",
       "      <th></th>\n",
       "      <th>AppMaleProportion</th>\n",
       "      <th>AdmMaleProportion</th>\n",
       "      <th>AppWhiteProportion</th>\n",
       "      <th>AdmWhiteProportion</th>\n",
       "      <th>Location</th>\n",
       "      <th>binary target</th>\n",
       "    </tr>\n",
       "    <tr>\n",
       "      <th>Calculation1</th>\n",
       "      <th></th>\n",
       "      <th></th>\n",
       "      <th></th>\n",
       "      <th></th>\n",
       "      <th></th>\n",
       "      <th></th>\n",
       "    </tr>\n",
       "  </thead>\n",
       "  <tbody>\n",
       "    <tr>\n",
       "      <th>ACALANES HIGH SCHOOL51315</th>\n",
       "      <td>0.450000</td>\n",
       "      <td>0.500000</td>\n",
       "      <td>0.675000</td>\n",
       "      <td>0.600000</td>\n",
       "      <td>INS</td>\n",
       "      <td>1</td>\n",
       "    </tr>\n",
       "    <tr>\n",
       "      <th>ADOLFO CAMARILLO HIGH SCHOOL50438</th>\n",
       "      <td>0.553191</td>\n",
       "      <td>0.500000</td>\n",
       "      <td>0.191489</td>\n",
       "      <td>0.375000</td>\n",
       "      <td>INS</td>\n",
       "      <td>1</td>\n",
       "    </tr>\n",
       "    <tr>\n",
       "      <th>ADRIAN C WILCOX HIGH SCHOOL53276</th>\n",
       "      <td>0.393939</td>\n",
       "      <td>0.285714</td>\n",
       "      <td>0.196970</td>\n",
       "      <td>0.285714</td>\n",
       "      <td>INS</td>\n",
       "      <td>1</td>\n",
       "    </tr>\n",
       "    <tr>\n",
       "      <th>AGOURA HIGH SCHOOL50003</th>\n",
       "      <td>0.542857</td>\n",
       "      <td>0.545455</td>\n",
       "      <td>0.585714</td>\n",
       "      <td>0.454545</td>\n",
       "      <td>INS</td>\n",
       "      <td>1</td>\n",
       "    </tr>\n",
       "    <tr>\n",
       "      <th>ALAMEDA SCIENCE &amp; TECHLGY INST50029</th>\n",
       "      <td>0.620690</td>\n",
       "      <td>0.625000</td>\n",
       "      <td>0.206897</td>\n",
       "      <td>0.375000</td>\n",
       "      <td>INS</td>\n",
       "      <td>1</td>\n",
       "    </tr>\n",
       "    <tr>\n",
       "      <th>...</th>\n",
       "      <td>...</td>\n",
       "      <td>...</td>\n",
       "      <td>...</td>\n",
       "      <td>...</td>\n",
       "      <td>...</td>\n",
       "      <td>...</td>\n",
       "    </tr>\n",
       "    <tr>\n",
       "      <th>WESTLAKE HIGH SCHOOL53503</th>\n",
       "      <td>0.401709</td>\n",
       "      <td>0.294118</td>\n",
       "      <td>0.384615</td>\n",
       "      <td>0.294118</td>\n",
       "      <td>INS</td>\n",
       "      <td>1</td>\n",
       "    </tr>\n",
       "    <tr>\n",
       "      <th>WESTMONT HIGH SCHOOL53103</th>\n",
       "      <td>0.411765</td>\n",
       "      <td>0.454545</td>\n",
       "      <td>0.392157</td>\n",
       "      <td>0.454545</td>\n",
       "      <td>INS</td>\n",
       "      <td>1</td>\n",
       "    </tr>\n",
       "    <tr>\n",
       "      <th>WESTON HIGH SCHOOL222355</th>\n",
       "      <td>0.421053</td>\n",
       "      <td>0.500000</td>\n",
       "      <td>0.473684</td>\n",
       "      <td>0.666667</td>\n",
       "      <td>OOS</td>\n",
       "      <td>0</td>\n",
       "    </tr>\n",
       "    <tr>\n",
       "      <th>WESTVIEW HIGH SCHOOL52986</th>\n",
       "      <td>0.535032</td>\n",
       "      <td>0.548387</td>\n",
       "      <td>0.229299</td>\n",
       "      <td>0.161290</td>\n",
       "      <td>INS</td>\n",
       "      <td>1</td>\n",
       "    </tr>\n",
       "    <tr>\n",
       "      <th>WHITNEY M YOUNG MAGNET HS141383</th>\n",
       "      <td>0.406250</td>\n",
       "      <td>0.625000</td>\n",
       "      <td>0.406250</td>\n",
       "      <td>0.500000</td>\n",
       "      <td>OOS</td>\n",
       "      <td>0</td>\n",
       "    </tr>\n",
       "  </tbody>\n",
       "</table>\n",
       "<p>189 rows × 6 columns</p>\n",
       "</div>"
      ],
      "text/plain": [
       "                                     AppMaleProportion  AdmMaleProportion  \\\n",
       "Calculation1                                                                \n",
       "ACALANES HIGH SCHOOL51315                     0.450000           0.500000   \n",
       "ADOLFO CAMARILLO HIGH SCHOOL50438             0.553191           0.500000   \n",
       "ADRIAN C WILCOX HIGH SCHOOL53276              0.393939           0.285714   \n",
       "AGOURA HIGH SCHOOL50003                       0.542857           0.545455   \n",
       "ALAMEDA SCIENCE & TECHLGY INST50029           0.620690           0.625000   \n",
       "...                                                ...                ...   \n",
       "WESTLAKE HIGH SCHOOL53503                     0.401709           0.294118   \n",
       "WESTMONT HIGH SCHOOL53103                     0.411765           0.454545   \n",
       "WESTON HIGH SCHOOL222355                      0.421053           0.500000   \n",
       "WESTVIEW HIGH SCHOOL52986                     0.535032           0.548387   \n",
       "WHITNEY M YOUNG MAGNET HS141383               0.406250           0.625000   \n",
       "\n",
       "                                     AppWhiteProportion  AdmWhiteProportion  \\\n",
       "Calculation1                                                                  \n",
       "ACALANES HIGH SCHOOL51315                      0.675000            0.600000   \n",
       "ADOLFO CAMARILLO HIGH SCHOOL50438              0.191489            0.375000   \n",
       "ADRIAN C WILCOX HIGH SCHOOL53276               0.196970            0.285714   \n",
       "AGOURA HIGH SCHOOL50003                        0.585714            0.454545   \n",
       "ALAMEDA SCIENCE & TECHLGY INST50029            0.206897            0.375000   \n",
       "...                                                 ...                 ...   \n",
       "WESTLAKE HIGH SCHOOL53503                      0.384615            0.294118   \n",
       "WESTMONT HIGH SCHOOL53103                      0.392157            0.454545   \n",
       "WESTON HIGH SCHOOL222355                       0.473684            0.666667   \n",
       "WESTVIEW HIGH SCHOOL52986                      0.229299            0.161290   \n",
       "WHITNEY M YOUNG MAGNET HS141383                0.406250            0.500000   \n",
       "\n",
       "                                    Location  binary target  \n",
       "Calculation1                                                 \n",
       "ACALANES HIGH SCHOOL51315                INS              1  \n",
       "ADOLFO CAMARILLO HIGH SCHOOL50438        INS              1  \n",
       "ADRIAN C WILCOX HIGH SCHOOL53276         INS              1  \n",
       "AGOURA HIGH SCHOOL50003                  INS              1  \n",
       "ALAMEDA SCIENCE & TECHLGY INST50029      INS              1  \n",
       "...                                      ...            ...  \n",
       "WESTLAKE HIGH SCHOOL53503                INS              1  \n",
       "WESTMONT HIGH SCHOOL53103                INS              1  \n",
       "WESTON HIGH SCHOOL222355                 OOS              0  \n",
       "WESTVIEW HIGH SCHOOL52986                INS              1  \n",
       "WHITNEY M YOUNG MAGNET HS141383          OOS              0  \n",
       "\n",
       "[189 rows x 6 columns]"
      ]
     },
     "execution_count": 72,
     "metadata": {},
     "output_type": "execute_result"
    }
   ],
   "source": [
    "df_merged = df.merge(df_eth, left_index = True, right_index = True)[['AppMaleProportion', 'AdmMaleProportion',\n",
    "                                                       'AppWhiteProportion', 'AdmWhiteProportion',\n",
    "                                                       'Location_x', 'binary target']].rename(\n",
    "                                                        columns = {'Location_x': 'Location'})\n",
    "df_merged"
   ]
  },
  {
   "cell_type": "code",
   "execution_count": 113,
   "metadata": {},
   "outputs": [],
   "source": [
    "df_export = df_merged.copy()"
   ]
  },
  {
   "cell_type": "code",
   "execution_count": 114,
   "metadata": {},
   "outputs": [],
   "source": [
    "df_export.index.name = 'Name'\n",
    "df_export = df_export.iloc[:, :-1]\n",
    "df_export.index = df_export.index.to_series().str[:10]\n",
    "df_export.columns = ['AppMale', 'AdmMale', 'AppWhite', 'AdmWhite', 'Location']"
   ]
  },
  {
   "cell_type": "code",
   "execution_count": 115,
   "metadata": {},
   "outputs": [
    {
     "data": {
      "text/html": [
       "<div>\n",
       "<style scoped>\n",
       "    .dataframe tbody tr th:only-of-type {\n",
       "        vertical-align: middle;\n",
       "    }\n",
       "\n",
       "    .dataframe tbody tr th {\n",
       "        vertical-align: top;\n",
       "    }\n",
       "\n",
       "    .dataframe thead th {\n",
       "        text-align: right;\n",
       "    }\n",
       "</style>\n",
       "<table border=\"1\" class=\"dataframe\">\n",
       "  <thead>\n",
       "    <tr style=\"text-align: right;\">\n",
       "      <th></th>\n",
       "      <th>AppMale</th>\n",
       "      <th>AdmMale</th>\n",
       "      <th>AppWhite</th>\n",
       "      <th>AdmWhite</th>\n",
       "      <th>Location</th>\n",
       "    </tr>\n",
       "    <tr>\n",
       "      <th>Name</th>\n",
       "      <th></th>\n",
       "      <th></th>\n",
       "      <th></th>\n",
       "      <th></th>\n",
       "      <th></th>\n",
       "    </tr>\n",
       "  </thead>\n",
       "  <tbody>\n",
       "    <tr>\n",
       "      <th>SAINT FRAN</th>\n",
       "      <td>0.496063</td>\n",
       "      <td>0.520000</td>\n",
       "      <td>0.188976</td>\n",
       "      <td>0.120000</td>\n",
       "      <td>INS</td>\n",
       "    </tr>\n",
       "    <tr>\n",
       "      <th>NORTH ALLE</th>\n",
       "      <td>0.518519</td>\n",
       "      <td>0.300000</td>\n",
       "      <td>0.259259</td>\n",
       "      <td>0.400000</td>\n",
       "      <td>OOS</td>\n",
       "    </tr>\n",
       "    <tr>\n",
       "      <th>DOS PUEBLO</th>\n",
       "      <td>0.461538</td>\n",
       "      <td>0.363636</td>\n",
       "      <td>0.472527</td>\n",
       "      <td>0.454545</td>\n",
       "      <td>INS</td>\n",
       "    </tr>\n",
       "    <tr>\n",
       "      <th>SIERRA CAN</th>\n",
       "      <td>0.394737</td>\n",
       "      <td>0.500000</td>\n",
       "      <td>0.342105</td>\n",
       "      <td>0.400000</td>\n",
       "      <td>INS</td>\n",
       "    </tr>\n",
       "    <tr>\n",
       "      <th>THOUSAND O</th>\n",
       "      <td>0.518519</td>\n",
       "      <td>0.500000</td>\n",
       "      <td>0.574074</td>\n",
       "      <td>0.500000</td>\n",
       "      <td>INS</td>\n",
       "    </tr>\n",
       "  </tbody>\n",
       "</table>\n",
       "</div>"
      ],
      "text/plain": [
       "             AppMale   AdmMale  AppWhite  AdmWhite Location\n",
       "Name                                                       \n",
       "SAINT FRAN  0.496063  0.520000  0.188976  0.120000      INS\n",
       "NORTH ALLE  0.518519  0.300000  0.259259  0.400000      OOS\n",
       "DOS PUEBLO  0.461538  0.363636  0.472527  0.454545      INS\n",
       "SIERRA CAN  0.394737  0.500000  0.342105  0.400000      INS\n",
       "THOUSAND O  0.518519  0.500000  0.574074  0.500000      INS"
      ]
     },
     "execution_count": 115,
     "metadata": {},
     "output_type": "execute_result"
    }
   ],
   "source": [
    "df_export.sample(5, random_state=53)"
   ]
  },
  {
   "cell_type": "code",
   "execution_count": 116,
   "metadata": {},
   "outputs": [
    {
     "name": "stdout",
     "output_type": "stream",
     "text": [
      "\\begin{tabular}{lrrrrl}\n",
      "\\toprule\n",
      "{} &   AppMale &   AdmMale &  AppWhite &  AdmWhite & Location \\\\\n",
      "Name       &           &           &           &           &          \\\\\n",
      "\\midrule\n",
      "SAINT FRAN &  0.496063 &  0.520000 &  0.188976 &  0.120000 &      INS \\\\\n",
      "NORTH ALLE &  0.518519 &  0.300000 &  0.259259 &  0.400000 &      OOS \\\\\n",
      "DOS PUEBLO &  0.461538 &  0.363636 &  0.472527 &  0.454545 &      INS \\\\\n",
      "SIERRA CAN &  0.394737 &  0.500000 &  0.342105 &  0.400000 &      INS \\\\\n",
      "THOUSAND O &  0.518519 &  0.500000 &  0.574074 &  0.500000 &      INS \\\\\n",
      "\\bottomrule\n",
      "\\end{tabular}\n",
      "\n"
     ]
    }
   ],
   "source": [
    "print(df_export.sample(5, random_state=53).head().to_latex())"
   ]
  },
  {
   "cell_type": "code",
   "execution_count": 73,
   "metadata": {
    "ExecuteTime": {
     "end_time": "2020-12-16T10:45:57.722517Z",
     "start_time": "2020-12-16T10:45:57.709739Z"
    }
   },
   "outputs": [
    {
     "data": {
      "text/html": [
       "<div>\n",
       "<style scoped>\n",
       "    .dataframe tbody tr th:only-of-type {\n",
       "        vertical-align: middle;\n",
       "    }\n",
       "\n",
       "    .dataframe tbody tr th {\n",
       "        vertical-align: top;\n",
       "    }\n",
       "\n",
       "    .dataframe thead th {\n",
       "        text-align: right;\n",
       "    }\n",
       "</style>\n",
       "<table border=\"1\" class=\"dataframe\">\n",
       "  <thead>\n",
       "    <tr style=\"text-align: right;\">\n",
       "      <th></th>\n",
       "      <th>AppMaleProportion</th>\n",
       "      <th>AdmMaleProportion</th>\n",
       "      <th>AppWhiteProportion</th>\n",
       "      <th>AdmWhiteProportion</th>\n",
       "      <th>binary target</th>\n",
       "    </tr>\n",
       "  </thead>\n",
       "  <tbody>\n",
       "    <tr>\n",
       "      <th>AppMaleProportion</th>\n",
       "      <td>1.000000</td>\n",
       "      <td>0.514663</td>\n",
       "      <td>0.001233</td>\n",
       "      <td>-0.123277</td>\n",
       "      <td>-0.085253</td>\n",
       "    </tr>\n",
       "    <tr>\n",
       "      <th>AdmMaleProportion</th>\n",
       "      <td>0.514663</td>\n",
       "      <td>1.000000</td>\n",
       "      <td>0.122050</td>\n",
       "      <td>0.067881</td>\n",
       "      <td>-0.096873</td>\n",
       "    </tr>\n",
       "    <tr>\n",
       "      <th>AppWhiteProportion</th>\n",
       "      <td>0.001233</td>\n",
       "      <td>0.122050</td>\n",
       "      <td>1.000000</td>\n",
       "      <td>0.761913</td>\n",
       "      <td>-0.044211</td>\n",
       "    </tr>\n",
       "    <tr>\n",
       "      <th>AdmWhiteProportion</th>\n",
       "      <td>-0.123277</td>\n",
       "      <td>0.067881</td>\n",
       "      <td>0.761913</td>\n",
       "      <td>1.000000</td>\n",
       "      <td>-0.061124</td>\n",
       "    </tr>\n",
       "    <tr>\n",
       "      <th>binary target</th>\n",
       "      <td>-0.085253</td>\n",
       "      <td>-0.096873</td>\n",
       "      <td>-0.044211</td>\n",
       "      <td>-0.061124</td>\n",
       "      <td>1.000000</td>\n",
       "    </tr>\n",
       "  </tbody>\n",
       "</table>\n",
       "</div>"
      ],
      "text/plain": [
       "                    AppMaleProportion  AdmMaleProportion  AppWhiteProportion  \\\n",
       "AppMaleProportion            1.000000           0.514663            0.001233   \n",
       "AdmMaleProportion            0.514663           1.000000            0.122050   \n",
       "AppWhiteProportion           0.001233           0.122050            1.000000   \n",
       "AdmWhiteProportion          -0.123277           0.067881            0.761913   \n",
       "binary target               -0.085253          -0.096873           -0.044211   \n",
       "\n",
       "                    AdmWhiteProportion  binary target  \n",
       "AppMaleProportion            -0.123277      -0.085253  \n",
       "AdmMaleProportion             0.067881      -0.096873  \n",
       "AppWhiteProportion            0.761913      -0.044211  \n",
       "AdmWhiteProportion            1.000000      -0.061124  \n",
       "binary target                -0.061124       1.000000  "
      ]
     },
     "execution_count": 73,
     "metadata": {},
     "output_type": "execute_result"
    }
   ],
   "source": [
    "df_merged.corr()"
   ]
  },
  {
   "cell_type": "code",
   "execution_count": 117,
   "metadata": {
    "ExecuteTime": {
     "end_time": "2020-12-16T10:45:57.729960Z",
     "start_time": "2020-12-16T10:45:57.724990Z"
    }
   },
   "outputs": [],
   "source": [
    "train_merged, test_merged = train_test_split(df_merged, test_size = 0.2, random_state = 6)"
   ]
  },
  {
   "cell_type": "code",
   "execution_count": 132,
   "metadata": {
    "ExecuteTime": {
     "end_time": "2020-12-16T10:45:57.735747Z",
     "start_time": "2020-12-16T10:45:57.732278Z"
    }
   },
   "outputs": [],
   "source": [
    "binary_models_merged = {\n",
    "    'lr': LogisticRegression(),\n",
    "    'lrb': LogisticRegression(class_weight = \"balanced\"),\n",
    "    'dt': DecisionTreeClassifier(),\n",
    "    'rf': RandomForestClassifier()\n",
    "}"
   ]
  },
  {
   "cell_type": "code",
   "execution_count": 133,
   "metadata": {
    "ExecuteTime": {
     "end_time": "2020-12-16T10:45:57.742074Z",
     "start_time": "2020-12-16T10:45:57.738117Z"
    }
   },
   "outputs": [],
   "source": [
    "features = ['AppMaleProportion', 'AdmMaleProportion', 'AppWhiteProportion', 'AdmWhiteProportion']"
   ]
  },
  {
   "cell_type": "code",
   "execution_count": 134,
   "metadata": {
    "ExecuteTime": {
     "end_time": "2020-12-16T10:45:57.990420Z",
     "start_time": "2020-12-16T10:45:57.744392Z"
    }
   },
   "outputs": [
    {
     "name": "stdout",
     "output_type": "stream",
     "text": [
      "lr 0.9006622516556292 0.9473684210526315\n",
      "lrb 0.5761589403973509 0.631578947368421\n",
      "dt 1.0 0.8947368421052632\n",
      "rf 1.0 0.9473684210526315\n"
     ]
    }
   ],
   "source": [
    "for m in binary_models_merged:\n",
    "    binary_models_merged[m].fit(train_merged[features], train_merged['binary target'])\n",
    "    train_acc = binary_models_merged[m].score(train_merged[features], train_merged['binary target'])\n",
    "    test_acc = binary_models_merged[m].score(test_merged[features], test_merged['binary target'])\n",
    "    print(m, train_acc, test_acc)\n",
    "    \n",
    "    # could add in precision and recall\n",
    "    "
   ]
  },
  {
   "cell_type": "code",
   "execution_count": 121,
   "metadata": {
    "ExecuteTime": {
     "end_time": "2020-12-16T10:45:57.995424Z",
     "start_time": "2020-12-16T10:45:57.993024Z"
    }
   },
   "outputs": [],
   "source": [
    "# roc curve of binary logistic regression model"
   ]
  },
  {
   "cell_type": "code",
   "execution_count": 156,
   "metadata": {
    "ExecuteTime": {
     "end_time": "2020-12-16T10:45:58.003017Z",
     "start_time": "2020-12-16T10:45:57.997295Z"
    }
   },
   "outputs": [],
   "source": [
    "from sklearn.metrics import roc_curve, auc"
   ]
  },
  {
   "cell_type": "code",
   "execution_count": 159,
   "metadata": {
    "ExecuteTime": {
     "end_time": "2020-12-16T10:45:58.229618Z",
     "start_time": "2020-12-16T10:45:58.017116Z"
    }
   },
   "outputs": [
    {
     "name": "stdout",
     "output_type": "stream",
     "text": [
      "auc =  0.5583333333333333\n"
     ]
    },
    {
     "data": {
      "image/png": "[encoded data removed]",
      "text/plain": [
       "<Figure size 432x288 with 1 Axes>"
      ]
     },
     "metadata": {
      "needs_background": "light"
     },
     "output_type": "display_data"
    }
   ],
   "source": [
    "fpr, tpr, threshold = roc_curve(train_merged['binary target'], \n",
    "                               binary_models_merged['lr'].predict_proba(train_merged[features])[:, 1])\n",
    "\n",
    "plt.plot(fpr, tpr);\n",
    "plt.xlabel('FPR')\n",
    "plt.ylabel('TPR')\n",
    "plt.title('ROC, Unbalanced Four-Feature Log. Reg.');\n",
    "print('auc = ', auc(fpr, tpr))\n",
    "# plt.savefig('export/unbalancedroc.png')"
   ]
  },
  {
   "cell_type": "code",
   "execution_count": 160,
   "metadata": {
    "ExecuteTime": {
     "end_time": "2020-12-16T10:45:58.241347Z",
     "start_time": "2020-12-16T10:45:58.233605Z"
    }
   },
   "outputs": [
    {
     "name": "stdout",
     "output_type": "stream",
     "text": [
      "auc =  0.5627450980392157\n"
     ]
    },
    {
     "data": {
      "image/png": "[encoded data removed]",
      "text/plain": [
       "<Figure size 432x288 with 1 Axes>"
      ]
     },
     "metadata": {
      "needs_background": "light"
     },
     "output_type": "display_data"
    }
   ],
   "source": [
    "fpr, tpr, threshold = roc_curve(train_merged['binary target'], \n",
    "                               binary_models_merged['lrb'].predict_proba(train_merged[features])[:, 1])\n",
    "\n",
    "plt.plot(fpr, tpr);\n",
    "plt.xlabel('FPR')\n",
    "plt.ylabel('TPR')\n",
    "plt.title('ROC, Balanced Four-Feature Log. Reg.');\n",
    "print('auc = ', auc(fpr, tpr))\n",
    "# plt.savefig('export/balancedroc.png')"
   ]
  },
  {
   "cell_type": "code",
   "execution_count": 137,
   "metadata": {},
   "outputs": [
    {
     "data": {
      "text/plain": [
       "(array([[-2.33117978, -0.49304826]]), array([1.37359416]))"
      ]
     },
     "execution_count": 137,
     "metadata": {},
     "output_type": "execute_result"
    }
   ],
   "source": [
    "binary_models['lrb'].coef_, binary_models['lrb'].intercept_, "
   ]
  },
  {
   "cell_type": "code",
   "execution_count": 138,
   "metadata": {
    "ExecuteTime": {
     "end_time": "2020-12-16T10:45:58.462394Z",
     "start_time": "2020-12-16T10:45:58.454945Z"
    }
   },
   "outputs": [
    {
     "data": {
      "text/plain": [
       "(array([[-0.68676338, -0.36403107, -0.10766983, -0.38821054]]),\n",
       " array([0.69725572]))"
      ]
     },
     "execution_count": 138,
     "metadata": {},
     "output_type": "execute_result"
    }
   ],
   "source": [
    "binary_models_merged['lrb'].coef_, binary_models_merged['lrb'].intercept_"
   ]
  },
  {
   "cell_type": "code",
   "execution_count": 184,
   "metadata": {},
   "outputs": [
    {
     "data": {
      "text/plain": [
       "array([[ 0,  2],\n",
       "       [ 0, 36]])"
      ]
     },
     "execution_count": 184,
     "metadata": {},
     "output_type": "execute_result"
    }
   ],
   "source": [
    "# lrb cm\n",
    "confusion_matrix(test_merged['binary target'], binary_models_merged['lr'].predict(test_merged[['AppMaleProportion', 'AdmMaleProportion', 'AppWhiteProportion', 'AdmWhiteProportion']]))"
   ]
  },
  {
   "cell_type": "code",
   "execution_count": 183,
   "metadata": {},
   "outputs": [
    {
     "data": {
      "text/plain": [
       "array([[ 2,  0],\n",
       "       [14, 22]])"
      ]
     },
     "execution_count": 183,
     "metadata": {},
     "output_type": "execute_result"
    }
   ],
   "source": [
    "# lrb cm\n",
    "confusion_matrix(test_merged['binary target'], binary_models_merged['lrb'].predict(test_merged[['AppMaleProportion', 'AdmMaleProportion', 'AppWhiteProportion', 'AdmWhiteProportion']]))"
   ]
  },
  {
   "cell_type": "markdown",
   "metadata": {},
   "source": [
    "### fairness criterion"
   ]
  },
  {
   "cell_type": "code",
   "execution_count": null,
   "metadata": {
    "ExecuteTime": {
     "end_time": "2020-12-16T10:45:58.470634Z",
     "start_time": "2020-12-16T10:45:58.465221Z"
    }
   },
   "outputs": [],
   "source": [
    "Y = train_merged['binary target']\n",
    "A = train_merged[features]\n",
    "R = binary_models_merged['lrb'].predict(train_merged[features])#[:, 1]"
   ]
  },
  {
   "cell_type": "code",
   "execution_count": null,
   "metadata": {
    "ExecuteTime": {
     "end_time": "2020-12-16T10:45:58.475940Z",
     "start_time": "2020-12-16T10:45:58.473307Z"
    }
   },
   "outputs": [],
   "source": [
    "# clearly these are garbage, pretty close to random model (0.5)\n",
    "# only classifying well because of the severe class imbalance"
   ]
  },
  {
   "cell_type": "code",
   "execution_count": null,
   "metadata": {
    "ExecuteTime": {
     "end_time": "2020-12-16T10:45:58.482385Z",
     "start_time": "2020-12-16T10:45:58.479033Z"
    }
   },
   "outputs": [],
   "source": [
    "# plan: make A the category for whether or not a majority of applicants were male (or accepted)\n",
    "# then look at separation and sufficiency"
   ]
  },
  {
   "cell_type": "code",
   "execution_count": null,
   "metadata": {
    "ExecuteTime": {
     "end_time": "2020-12-16T10:45:58.490271Z",
     "start_time": "2020-12-16T10:45:58.485988Z"
    }
   },
   "outputs": [],
   "source": [
    "A = train_merged['AppMaleProportion'] >= 0.5"
   ]
  },
  {
   "cell_type": "code",
   "execution_count": null,
   "metadata": {
    "ExecuteTime": {
     "end_time": "2020-12-16T10:45:58.692144Z",
     "start_time": "2020-12-16T10:45:58.493710Z"
    }
   },
   "outputs": [],
   "source": [
    "plt.scatter(R[A], Y[A], label = 'male majority', alpha = 0.4, color = 'r');\n",
    "# plt.scatter(R[~A], Y[~A], label = 'female majority', alpha = 0.4);\n",
    "plt.legend();"
   ]
  },
  {
   "cell_type": "code",
   "execution_count": null,
   "metadata": {
    "ExecuteTime": {
     "end_time": "2020-12-16T10:45:58.936608Z",
     "start_time": "2020-12-16T10:45:58.694652Z"
    }
   },
   "outputs": [],
   "source": [
    "plt.errorbar([0], [np.mean(Y[A][R[A] == 0])], color = 'red', alpha = 0.4, label = 'male',\n",
    "            yerr=np.std(Y[A][R[A] == 0]) / 15, fmt='o') \n",
    "plt.errorbar([1], [np.mean(Y[A][R[A] == 1])], color = 'red', alpha = 0.4, label = 'male',\n",
    "            yerr=np.std(Y[A][R[A] == 1]) / 15, fmt='o')\n",
    "\n",
    "plt.errorbar([0], [np.mean(Y[~A][R[~A] == 0])], color = 'blue', alpha = 0.4, label = 'female',\n",
    "            yerr=np.std(Y[~A][R[~A] == 0]) / 15, fmt='o')\n",
    "plt.errorbar([1], [np.mean(Y[~A][R[~A] == 1])], color = 'blue', alpha = 0.4, label = 'female',\n",
    "            yerr=np.std(Y[~A][R[~A] == 1]) / 15, fmt='o');"
   ]
  },
  {
   "cell_type": "code",
   "execution_count": null,
   "metadata": {},
   "outputs": [],
   "source": []
  },
  {
   "cell_type": "code",
   "execution_count": null,
   "metadata": {
    "ExecuteTime": {
     "end_time": "2020-12-16T10:45:58.945939Z",
     "start_time": "2020-12-16T10:45:58.939371Z"
    }
   },
   "outputs": [],
   "source": [
    "np.mean(Y[~A][R[~A] == 1])"
   ]
  },
  {
   "cell_type": "code",
   "execution_count": null,
   "metadata": {
    "ExecuteTime": {
     "end_time": "2020-12-16T10:45:58.956357Z",
     "start_time": "2020-12-16T10:45:58.947893Z"
    }
   },
   "outputs": [],
   "source": [
    "np.mean(Y[~A][R[~A] == 0])"
   ]
  },
  {
   "cell_type": "code",
   "execution_count": null,
   "metadata": {
    "ExecuteTime": {
     "end_time": "2020-12-16T10:45:58.961589Z",
     "start_time": "2020-12-16T10:45:58.958919Z"
    }
   },
   "outputs": [],
   "source": [
    "# out of state schools have more female applicants??? "
   ]
  },
  {
   "cell_type": "markdown",
   "metadata": {},
   "source": [
    "## Regression models"
   ]
  },
  {
   "cell_type": "code",
   "execution_count": null,
   "metadata": {
    "ExecuteTime": {
     "end_time": "2020-12-16T10:45:58.968572Z",
     "start_time": "2020-12-16T10:45:58.964005Z"
    }
   },
   "outputs": [],
   "source": [
    "from sklearn.linear_model import LinearRegression, Ridge, RidgeCV, Lasso, LassoCV\n",
    "from sklearn.neighbors import KNeighborsRegressor"
   ]
  },
  {
   "cell_type": "code",
   "execution_count": null,
   "metadata": {
    "ExecuteTime": {
     "end_time": "2020-12-16T10:45:58.975976Z",
     "start_time": "2020-12-16T10:45:58.972364Z"
    }
   },
   "outputs": [],
   "source": [
    "# given all other features, predict AdmWhiteProportion"
   ]
  },
  {
   "cell_type": "code",
   "execution_count": null,
   "metadata": {
    "ExecuteTime": {
     "end_time": "2020-12-16T10:45:58.995543Z",
     "start_time": "2020-12-16T10:45:58.978901Z"
    }
   },
   "outputs": [],
   "source": [
    "df_ohe = pd.get_dummies(df_merged, columns = ['Location']) \\\n",
    ".drop(['binary target', 'Location_INS'], axis = 1) \\\n",
    ".rename(columns = {'AdmWhiteProportion': 'TargetProportion'}) \\\n",
    ".iloc[:, [0, 1, 2, 4, 5, 3]]"
   ]
  },
  {
   "cell_type": "code",
   "execution_count": null,
   "metadata": {
    "ExecuteTime": {
     "end_time": "2020-12-16T10:45:59.043812Z",
     "start_time": "2020-12-16T10:45:59.000779Z"
    }
   },
   "outputs": [],
   "source": [
    "df_ohe"
   ]
  },
  {
   "cell_type": "code",
   "execution_count": null,
   "metadata": {
    "ExecuteTime": {
     "end_time": "2020-12-16T10:45:59.053791Z",
     "start_time": "2020-12-16T10:45:59.047092Z"
    }
   },
   "outputs": [],
   "source": [
    "train_ohe, test_ohe = train_test_split(df_ohe, test_size = 0.2, random_state = 17)"
   ]
  },
  {
   "cell_type": "code",
   "execution_count": null,
   "metadata": {
    "ExecuteTime": {
     "end_time": "2020-12-16T10:45:59.060523Z",
     "start_time": "2020-12-16T10:45:59.056345Z"
    }
   },
   "outputs": [],
   "source": [
    "regression_models = {\n",
    "    'ols': LinearRegression(),\n",
    "    'ridge': Ridge(),\n",
    "    'ridgecv': RidgeCV(),\n",
    "    'lasso': Lasso(),\n",
    "    'lassocv': LassoCV(),\n",
    "    'knn': KNeighborsRegressor()\n",
    "}"
   ]
  },
  {
   "cell_type": "code",
   "execution_count": null,
   "metadata": {
    "ExecuteTime": {
     "end_time": "2020-12-16T10:45:59.192856Z",
     "start_time": "2020-12-16T10:45:59.075534Z"
    }
   },
   "outputs": [],
   "source": [
    "for m in regression_models:\n",
    "    regression_models[m].fit(train_ohe.iloc[:, :-1], train_ohe.iloc[:, -1])\n",
    "    train_rmse = np.mean((regression_models[m].predict(train_ohe.iloc[:, :-1]) - train_ohe.iloc[:, -1])**2)\n",
    "    test_rmse = np.mean((regression_models[m].predict(test_ohe.iloc[:, :-1]) - test_ohe.iloc[:, -1])**2)\n",
    "    if m == 'knn':\n",
    "        print(m, train_rmse, test_rmse)\n",
    "    else:\n",
    "        print(f\"{m}, {np.round(train_rmse, 3)}, {np.round(test_rmse, 3)}, {np.round(regression_models[m].coef_, 3)}, {np.round(regression_models[m].intercept_, 3)}\")\n",
    "    "
   ]
  },
  {
   "cell_type": "code",
   "execution_count": null,
   "metadata": {
    "ExecuteTime": {
     "end_time": "2020-12-16T10:45:59.201712Z",
     "start_time": "2020-12-16T10:45:59.195647Z"
    }
   },
   "outputs": [],
   "source": [
    "train_ohe.iloc[:, -1].mean()"
   ]
  },
  {
   "cell_type": "code",
   "execution_count": null,
   "metadata": {
    "ExecuteTime": {
     "end_time": "2020-12-16T10:45:59.214451Z",
     "start_time": "2020-12-16T10:45:59.204294Z"
    }
   },
   "outputs": [],
   "source": [
    "regression_models['lasso'].predict(train_ohe.iloc[:, :-1])"
   ]
  },
  {
   "cell_type": "code",
   "execution_count": null,
   "metadata": {
    "ExecuteTime": {
     "end_time": "2020-12-16T10:45:59.249108Z",
     "start_time": "2020-12-16T10:45:59.217146Z"
    }
   },
   "outputs": [],
   "source": [
    "df_ohe"
   ]
  },
  {
   "cell_type": "code",
   "execution_count": null,
   "metadata": {
    "ExecuteTime": {
     "end_time": "2020-12-16T10:45:59.284568Z",
     "start_time": "2020-12-16T10:45:59.252140Z"
    }
   },
   "outputs": [],
   "source": [
    "train_merged"
   ]
  },
  {
   "cell_type": "markdown",
   "metadata": {},
   "source": [
    "## PyTorch Code"
   ]
  },
  {
   "cell_type": "code",
   "execution_count": null,
   "metadata": {
    "ExecuteTime": {
     "end_time": "2020-12-16T11:13:39.238007Z",
     "start_time": "2020-12-16T11:13:39.235115Z"
    }
   },
   "outputs": [],
   "source": [
    "from torch.utils.data import TensorDataset, DataLoader\n",
    "import torch.optim as optim"
   ]
  },
  {
   "cell_type": "code",
   "execution_count": null,
   "metadata": {
    "ExecuteTime": {
     "end_time": "2020-12-16T12:43:24.302489Z",
     "start_time": "2020-12-16T12:43:24.290421Z"
    }
   },
   "outputs": [],
   "source": [
    "class NNClassifier(nn.Module):\n",
    "    def __init__(self, in_feat, hidden_dims=(1000, 500), extra_layer=False):\n",
    "        super().__init__()\n",
    "        self.extra_layer = extra_layer\n",
    "        self.fc1 = nn.Linear(in_feat, hidden_dims[0])\n",
    "        self.fc2 = nn.Linear(hidden_dims[0], hidden_dims[1])\n",
    "        self.fc3 = nn.Linear(hidden_dims[1], hidden_dims[1])\n",
    "        self.fc4 = nn.Linear(hidden_dims[1], 2)\n",
    "        \n",
    "    def forward(self, x):\n",
    "        l1_out = nn.functional.relu(self.fc1(x))\n",
    "        l2_out = nn.functional.relu(self.fc2(l1_out))\n",
    "        l3_out = nn.functional.relu(self.fc3(l2_out)) if self.extra_layer else l2_out\n",
    "        out = self.fc4(l3_out)\n",
    "        return out\n",
    "    \n",
    "class NNRegressor(nn.Module):\n",
    "    def __init__(self, in_feat, hidden_dims=(50, 25), extra_layer=False):\n",
    "        super().__init__()\n",
    "        self.extra_layer = extra_layer\n",
    "        self.fc1 = nn.Linear(in_feat, hidden_dims[0])\n",
    "        self.fc2 = nn.Linear(hidden_dims[0], hidden_dims[1])\n",
    "        self.fc3 = nn.Linear(hidden_dims[1], hidden_dims[1])\n",
    "        self.fc4 = nn.Linear(hidden_dims[1], 1)\n",
    "        \n",
    "    def forward(self, x):\n",
    "        l1_out = nn.functional.relu(self.fc1(x))\n",
    "        l2_out = nn.functional.relu(self.fc2(l1_out))\n",
    "        l3_out = nn.functional.relu(self.fc3(l2_out)) if self.extra_layer else l2_out\n",
    "        out = self.fc4(l3_out)\n",
    "        return out"
   ]
  },
  {
   "cell_type": "code",
   "execution_count": null,
   "metadata": {
    "ExecuteTime": {
     "end_time": "2020-12-16T12:47:07.685361Z",
     "start_time": "2020-12-16T12:47:07.680764Z"
    }
   },
   "outputs": [],
   "source": [
    "test_ohe.iloc[:, -1].values[:,None].shape"
   ]
  },
  {
   "cell_type": "code",
   "execution_count": null,
   "metadata": {
    "ExecuteTime": {
     "end_time": "2020-12-16T13:15:25.932500Z",
     "start_time": "2020-12-16T13:15:25.921527Z"
    }
   },
   "outputs": [],
   "source": [
    "# Converting the DataFrame to a DataLoader\n",
    "def df_to_torch(data, target, batch_size=5, classify=True):\n",
    "    if classify:\n",
    "        target = torch.tensor(target.values.astype(np.long))\n",
    "    else:\n",
    "        target = torch.tensor(target.values[:,None].astype(np.float32))\n",
    "    data = torch.tensor(data.values.astype(np.float32)) \n",
    "    data_tensor = TensorDataset(data, target) \n",
    "    data_loader = DataLoader(dataset = data_tensor, batch_size = batch_size, shuffle = True)\n",
    "    return data_loader\n",
    "\n",
    "# 2 Feature Classifier Data\n",
    "classify = True\n",
    "train_data = train_binary[['AppMaleProportion', 'AdmMaleProportion']]\n",
    "train_target = train_binary['binary target']\n",
    "test_data = test_binary[['AppMaleProportion', 'AdmMaleProportion']]\n",
    "test_target = test_binary['binary target']\n",
    "\n",
    "# 4 Feature Classifier Data\n",
    "classify = True\n",
    "# train_data = train_merged[features]\n",
    "# train_target = train_merged['binary target']\n",
    "# test_data = test_merged[features]\n",
    "# test_target = test_merged['binary target']\n",
    "\n",
    "# 4 Feature Regression\n",
    "classify = False\n",
    "train_data = train_ohe.iloc[:, :-1]\n",
    "train_target = train_ohe.iloc[:, -1]\n",
    "test_data = test_ohe.iloc[:, :-1]\n",
    "test_target = test_ohe.iloc[:, -1]\n",
    "\n",
    "train_loader = df_to_torch(train_data, train_target, classify=classify)\n",
    "test_loader = df_to_torch(test_data, test_target, classify=classify)"
   ]
  },
  {
   "cell_type": "code",
   "execution_count": null,
   "metadata": {
    "ExecuteTime": {
     "end_time": "2020-12-16T13:15:27.096058Z",
     "start_time": "2020-12-16T13:15:27.090088Z"
    }
   },
   "outputs": [],
   "source": [
    "num_pos = sum(train_target.values)\n",
    "total = len(train_target.values)\n",
    "num_neg = total-num_pos\n",
    "weights = torch.tensor([num_neg, num_pos]).type(torch.float)/total\n",
    "weights"
   ]
  },
  {
   "cell_type": "code",
   "execution_count": null,
   "metadata": {
    "ExecuteTime": {
     "end_time": "2020-12-16T13:15:32.374119Z",
     "start_time": "2020-12-16T13:15:32.370478Z"
    }
   },
   "outputs": [],
   "source": [
    "# Create NN\n",
    "# net = NNClassifier(2, hidden_dims=(50, 25))\n",
    "# net = NNClassifier(4, hidden_dims=(1000, 500), extra_layer=True)\n",
    "net = NNRegressor(5)"
   ]
  },
  {
   "cell_type": "code",
   "execution_count": null,
   "metadata": {
    "ExecuteTime": {
     "end_time": "2020-12-16T13:15:32.897801Z",
     "start_time": "2020-12-16T13:15:32.893634Z"
    }
   },
   "outputs": [],
   "source": [
    "net"
   ]
  },
  {
   "cell_type": "code",
   "execution_count": null,
   "metadata": {
    "ExecuteTime": {
     "end_time": "2020-12-16T13:15:39.309180Z",
     "start_time": "2020-12-16T13:15:33.780516Z"
    }
   },
   "outputs": [],
   "source": [
    "# Training\n",
    "# criterion = nn.CrossEntropyLoss()\n",
    "# criterion = nn.CrossEntropyLoss(weight=weights)\n",
    "criterion = nn.MSELoss(reduction=\"sum\")\n",
    "# optimizer = optim.SGD(net.parameters(), 0.1)\n",
    "optimizer = optim.Adam(net.parameters(),lr=0.001)\n",
    "n_epochs = 200\n",
    "\n",
    "for epoch in range(n_epochs):\n",
    "    running_loss = 0\n",
    "    for (data, target) in train_loader:\n",
    "        optimizer.zero_grad()\n",
    "        out = net(data)\n",
    "        loss = criterion(out, target)\n",
    "        loss.backward()\n",
    "        optimizer.step()    # Does the update\n",
    "        \n",
    "        running_loss += loss.item()\n",
    "    if epoch % 10 == 0:\n",
    "        print(\"Epoch {}, Loss: {}\".format(epoch+1, running_loss/total))"
   ]
  },
  {
   "cell_type": "code",
   "execution_count": null,
   "metadata": {
    "ExecuteTime": {
     "end_time": "2020-12-16T12:39:25.977579Z",
     "start_time": "2020-12-16T12:39:25.946484Z"
    }
   },
   "outputs": [],
   "source": [
    "# Calculate Training Accuracy\n",
    "with torch.no_grad():\n",
    "        total = 0\n",
    "        correct = 0\n",
    "        for i, (data, target) in enumerate(train_loader):\n",
    "            outputs = net(data)\n",
    "            _, predicted = torch.max(outputs.data, 1)\n",
    "#             print(predicted)\n",
    "            total += target.size(0)\n",
    "            correct += (predicted == target).sum().item()\n",
    "        train_acc = correct/total*100\n",
    "print(\"Training Accuracy: {:.2f}\".format(train_acc))"
   ]
  },
  {
   "cell_type": "code",
   "execution_count": null,
   "metadata": {
    "ExecuteTime": {
     "end_time": "2020-12-16T12:39:27.786470Z",
     "start_time": "2020-12-16T12:39:27.774153Z"
    }
   },
   "outputs": [],
   "source": [
    "# Calculate Testing Accuracy\n",
    "with torch.no_grad():\n",
    "        total = 0\n",
    "        correct = 0\n",
    "        for i, (data, target) in enumerate(test_loader):\n",
    "            outputs = net(data)\n",
    "            _, predicted = torch.max(outputs.data, 1)\n",
    "            total += target.size(0)\n",
    "            correct += (predicted == target).sum().item()\n",
    "        test_acc = correct/total*100\n",
    "print(\"Test Accuracy: {:.2f}\".format(test_acc))"
   ]
  },
  {
   "cell_type": "code",
   "execution_count": null,
   "metadata": {
    "ExecuteTime": {
     "end_time": "2020-12-16T13:18:20.802068Z",
     "start_time": "2020-12-16T13:18:20.796077Z"
    }
   },
   "outputs": [],
   "source": [
    "# Calculate Regression Test MSE\n",
    "with torch.no_grad():\n",
    "    loss = 0\n",
    "    total = 0\n",
    "    for i, (data, target) in enumerate(test_loader):\n",
    "        loss += sum(((net(data)-target)**2))\n",
    "        total += data.size(0)\n",
    "    loss /= total\n",
    "print(\"Test MSE: {:.4f}\".format(loss.data.numpy()[0]))"
   ]
  },
  {
   "cell_type": "code",
   "execution_count": null,
   "metadata": {},
   "outputs": [],
   "source": []
  }
 ],
 "metadata": {
  "kernelspec": {
   "display_name": "Python 3",
   "language": "python",
   "name": "python3"
  },
  "language_info": {
   "codemirror_mode": {
    "name": "ipython",
    "version": 3
   },
   "file_extension": ".py",
   "mimetype": "text/x-python",
   "name": "python",
   "nbconvert_exporter": "python",
   "pygments_lexer": "ipython3",
   "version": "3.8.5"
  }
 },
 "nbformat": 4,
 "nbformat_minor": 4
}
