{
 "cells": [
  {
   "cell_type": "code",
   "execution_count": null,
   "metadata": {
    "ExecuteTime": {
     "end_time": "2020-12-16T10:46:12.574670Z",
     "start_time": "2020-12-16T10:46:12.062782Z"
    }
   },
   "outputs": [],
   "source": [
    "import pandas as pd\n",
    "import numpy as np\n",
    "import sklearn as sk\n",
    "\n",
    "import matplotlib.pyplot as plt\n",
    "import seaborn as sns\n",
    "from matplotlib.colors import ListedColormap\n",
    "import plotly.express as px\n",
    "import plotly.graph_objs as go\n",
    "\n",
    "import torch\n",
    "import torch.nn as nn"
   ]
  },
  {
   "cell_type": "code",
   "execution_count": null,
   "metadata": {},
   "outputs": [],
   "source": [
    "lm.LinearRegression?"
   ]
  },
  {
   "cell_type": "code",
   "execution_count": null,
   "metadata": {
    "ExecuteTime": {
     "end_time": "2020-12-16T10:45:50.298360Z",
     "start_time": "2020-12-16T10:45:50.252418Z"
    },
    "scrolled": true
   },
   "outputs": [],
   "source": [
    "gender = pd.read_csv(\"gender.csv\")\n",
    "gender = gender.drop(['Unnamed: 0', 'School'], axis = 1)\n",
    "\n",
    "eth = pd.read_csv(\"race.csv\")\n",
    "eth = eth.drop(['Unnamed: 0', 'School'], axis = 1).rename(columns = {'Uad Uc Ethn 6 Cat': 'Ethnicity'})"
   ]
  },
  {
   "cell_type": "code",
   "execution_count": null,
   "metadata": {
    "ExecuteTime": {
     "end_time": "2020-12-16T10:45:50.333793Z",
     "start_time": "2020-12-16T10:45:50.301263Z"
    }
   },
   "outputs": [],
   "source": [
    "gender"
   ]
  },
  {
   "cell_type": "code",
   "execution_count": null,
   "metadata": {},
   "outputs": [],
   "source": [
    "print(gender[['Calculation1', 'County/State/ Territory', 'Count', 'Gender', 'Pivot Field Values']] \\\n",
    ".rename(columns = {'Pivot Field Values': 'Value', \n",
    "                   'County/State/ Territory': 'Location',\n",
    "                   'Calculation1': 'Name'}) \\\n",
    ".sample(5, random_state=10060000) \\\n",
    ".to_latex(index=False))"
   ]
  },
  {
   "cell_type": "code",
   "execution_count": null,
   "metadata": {},
   "outputs": [],
   "source": [
    "print(gender[['Calculation1', 'County/State/ Territory', 'Count', 'Gender', 'Pivot Field Values']] \\\n",
    ".rename(columns = {'Pivot Field Values': 'Value', \n",
    "                   'County/State/ Territory': 'Location',\n",
    "                   'Calculation1': 'Name'}) \\\n",
    ".iloc[11:19, :] \\\n",
    ".to_latex(index=False))"
   ]
  },
  {
   "cell_type": "code",
   "execution_count": null,
   "metadata": {
    "ExecuteTime": {
     "end_time": "2020-12-16T10:45:50.345957Z",
     "start_time": "2020-12-16T10:45:50.336597Z"
    }
   },
   "outputs": [],
   "source": [
    "print(gender.head().to_latex())"
   ]
  },
  {
   "cell_type": "code",
   "execution_count": null,
   "metadata": {},
   "outputs": [],
   "source": [
    "print(eth.head().to_latex())"
   ]
  },
  {
   "cell_type": "code",
   "execution_count": null,
   "metadata": {
    "ExecuteTime": {
     "end_time": "2020-12-16T10:45:50.350914Z",
     "start_time": "2020-12-16T10:45:50.348287Z"
    }
   },
   "outputs": [],
   "source": [
    "# features: proportion of applicants that were male\n",
    "# proportion admitted male\n",
    "\n",
    "# target: in state or not AND in state, out of state, international"
   ]
  },
  {
   "cell_type": "code",
   "execution_count": null,
   "metadata": {
    "ExecuteTime": {
     "end_time": "2020-12-16T10:45:50.357061Z",
     "start_time": "2020-12-16T10:45:50.353614Z"
    }
   },
   "outputs": [],
   "source": [
    "# we need schools with both numbers for # of students applied and # of students admitted\n",
    "# so we need to do some wranging to get that"
   ]
  },
  {
   "cell_type": "code",
   "execution_count": null,
   "metadata": {
    "ExecuteTime": {
     "end_time": "2020-12-16T10:45:51.339617Z",
     "start_time": "2020-12-16T10:45:50.359282Z"
    }
   },
   "outputs": [],
   "source": [
    "gender_filtered = gender.groupby('Calculation1').filter(lambda df: len(df.loc[df['Count'] == 'Adm', 'Count']) > 0)"
   ]
  },
  {
   "cell_type": "code",
   "execution_count": null,
   "metadata": {
    "ExecuteTime": {
     "end_time": "2020-12-16T10:45:51.369577Z",
     "start_time": "2020-12-16T10:45:51.342764Z"
    }
   },
   "outputs": [],
   "source": [
    "gender_filtered"
   ]
  },
  {
   "cell_type": "code",
   "execution_count": null,
   "metadata": {
    "ExecuteTime": {
     "end_time": "2020-12-16T10:45:51.376597Z",
     "start_time": "2020-12-16T10:45:51.373976Z"
    }
   },
   "outputs": [],
   "source": [
    "# not all schools have numbers for all categories – we need to interpolate them for consistency"
   ]
  },
  {
   "cell_type": "code",
   "execution_count": null,
   "metadata": {
    "ExecuteTime": {
     "end_time": "2020-12-16T10:45:51.384549Z",
     "start_time": "2020-12-16T10:45:51.379390Z"
    }
   },
   "outputs": [],
   "source": [
    "all_count, male_count, female_count = 0, 0, 0"
   ]
  },
  {
   "cell_type": "code",
   "execution_count": null,
   "metadata": {
    "ExecuteTime": {
     "end_time": "2020-12-16T10:45:52.057508Z",
     "start_time": "2020-12-16T10:45:51.387231Z"
    }
   },
   "outputs": [],
   "source": [
    "for name, df in gender_filtered.groupby('Calculation1'):\n",
    "    app = df.loc[df['Count'] == 'App', 'Gender']\n",
    "    app = sorted(app.tolist())\n",
    "    \n",
    "    if app == ['All']:\n",
    "        # No gender data\n",
    "        pass\n",
    "    \n",
    "    if app == sorted(['All', 'Female', 'Male']):\n",
    "#         print('has all')\n",
    "        all_count += 1\n",
    "\n",
    "    if app == ['All', 'Male']:\n",
    "#         print(name)\n",
    "        male_count += 1\n",
    "    \n",
    "    if app == ['All', 'Female']:\n",
    "        female_count += 1\n",
    "    \n",
    "#     print(df)"
   ]
  },
  {
   "cell_type": "code",
   "execution_count": null,
   "metadata": {
    "ExecuteTime": {
     "end_time": "2020-12-16T10:45:52.061430Z",
     "start_time": "2020-12-16T10:45:52.059119Z"
    }
   },
   "outputs": [],
   "source": [
    "# jk – the majority of schools do have all of that data, let's just work with them"
   ]
  },
  {
   "cell_type": "code",
   "execution_count": null,
   "metadata": {
    "ExecuteTime": {
     "end_time": "2020-12-16T10:45:53.031559Z",
     "start_time": "2020-12-16T10:45:52.063365Z"
    }
   },
   "outputs": [],
   "source": [
    "gender_filtered = gender_filtered.groupby('Calculation1').filter(\n",
    "    lambda df: (sorted(df.loc[df['Count'] == 'App', 'Gender'].tolist()) == ['All', 'Female', 'Male']) &\n",
    "               (sorted(df.loc[df['Count'] == 'Adm', 'Gender'].tolist()) == ['All', 'Female', 'Male'])\n",
    "\n",
    ")"
   ]
  },
  {
   "cell_type": "code",
   "execution_count": null,
   "metadata": {
    "ExecuteTime": {
     "end_time": "2020-12-16T10:45:53.056987Z",
     "start_time": "2020-12-16T10:45:53.033921Z"
    }
   },
   "outputs": [],
   "source": [
    "gender_filtered"
   ]
  },
  {
   "cell_type": "code",
   "execution_count": null,
   "metadata": {
    "ExecuteTime": {
     "end_time": "2020-12-16T10:45:53.075450Z",
     "start_time": "2020-12-16T10:45:53.059080Z"
    }
   },
   "outputs": [],
   "source": [
    "df = pd.pivot_table(gender_filtered,\n",
    "               index = 'Calculation1', \n",
    "               values = 'Pivot Field Values', \n",
    "               columns = ['Count', 'Gender'])[['App', 'Adm']]"
   ]
  },
  {
   "cell_type": "code",
   "execution_count": null,
   "metadata": {
    "ExecuteTime": {
     "end_time": "2020-12-16T10:45:53.103989Z",
     "start_time": "2020-12-16T10:45:53.077183Z"
    }
   },
   "outputs": [],
   "source": [
    "df"
   ]
  },
  {
   "cell_type": "code",
   "execution_count": null,
   "metadata": {
    "ExecuteTime": {
     "end_time": "2020-12-16T10:45:53.173796Z",
     "start_time": "2020-12-16T10:45:53.106088Z"
    }
   },
   "outputs": [],
   "source": [
    "df['AppMaleProportion'] = df[('App', 'Male')] / df[('App', 'All')]\n",
    "df['AdmMaleProportion'] = df[('Adm', 'Male')] / df[('Adm', 'All')]"
   ]
  },
  {
   "cell_type": "code",
   "execution_count": null,
   "metadata": {
    "ExecuteTime": {
     "end_time": "2020-12-16T10:45:53.180904Z",
     "start_time": "2020-12-16T10:45:53.176522Z"
    }
   },
   "outputs": [],
   "source": [
    "# https://stackoverflow.com/questions/14507794/pandas-how-to-flatten-a-hierarchical-index-in-columns\n",
    "df.columns = [''.join(col).strip() for col in df.columns.values]"
   ]
  },
  {
   "cell_type": "code",
   "execution_count": null,
   "metadata": {
    "ExecuteTime": {
     "end_time": "2020-12-16T10:45:53.222944Z",
     "start_time": "2020-12-16T10:45:53.184016Z"
    }
   },
   "outputs": [],
   "source": [
    "df"
   ]
  },
  {
   "cell_type": "code",
   "execution_count": null,
   "metadata": {
    "ExecuteTime": {
     "end_time": "2020-12-16T10:45:53.227606Z",
     "start_time": "2020-12-16T10:45:53.225342Z"
    }
   },
   "outputs": [],
   "source": [
    "# getting whether or not the school is in state"
   ]
  },
  {
   "cell_type": "code",
   "execution_count": null,
   "metadata": {
    "ExecuteTime": {
     "end_time": "2020-12-16T10:45:53.484228Z",
     "start_time": "2020-12-16T10:45:53.229555Z"
    }
   },
   "outputs": [],
   "source": [
    "# international\n",
    "gender_filtered.loc[gender_filtered['County/State/ Territory'].isnull(), 'Location'] = 'INT'\n",
    "gender_filtered.loc[gender_filtered['County/State/ Territory'].str.len() == 2, 'Location'] = 'OOS'\n",
    "gender_filtered.loc[gender_filtered['County/State/ Territory'].str.len() > 2, 'Location'] = 'INS'"
   ]
  },
  {
   "cell_type": "code",
   "execution_count": null,
   "metadata": {
    "ExecuteTime": {
     "end_time": "2020-12-16T10:45:53.511117Z",
     "start_time": "2020-12-16T10:45:53.486705Z"
    },
    "scrolled": true
   },
   "outputs": [],
   "source": [
    "df = df.merge(gender_filtered[['Calculation1', 'Location']].groupby('Calculation1').agg(lambda x: x.iloc[0])\n",
    "         , on = 'Calculation1')"
   ]
  },
  {
   "cell_type": "code",
   "execution_count": null,
   "metadata": {
    "ExecuteTime": {
     "end_time": "2020-12-16T10:45:53.556684Z",
     "start_time": "2020-12-16T10:45:53.519303Z"
    }
   },
   "outputs": [],
   "source": [
    "df"
   ]
  },
  {
   "cell_type": "code",
   "execution_count": null,
   "metadata": {
    "ExecuteTime": {
     "end_time": "2020-12-16T10:45:53.570258Z",
     "start_time": "2020-12-16T10:45:53.567867Z"
    }
   },
   "outputs": [],
   "source": [
    "# now we need to repeat the above filtering for ethnicity, join the two, and then start classifying stuff\n",
    "# for simplicity, we just need the 'white' proportion"
   ]
  },
  {
   "cell_type": "code",
   "execution_count": null,
   "metadata": {
    "ExecuteTime": {
     "end_time": "2020-12-16T10:45:53.601641Z",
     "start_time": "2020-12-16T10:45:53.573183Z"
    }
   },
   "outputs": [],
   "source": [
    "eth"
   ]
  },
  {
   "cell_type": "code",
   "execution_count": null,
   "metadata": {
    "ExecuteTime": {
     "end_time": "2020-12-16T10:45:56.234819Z",
     "start_time": "2020-12-16T10:45:53.604404Z"
    }
   },
   "outputs": [],
   "source": [
    "eth_filtered = eth.groupby('Calculation1').filter(lambda df: len(df.loc[df['Count'] == 'Adm', 'Count']) > 0)\n",
    "eth_filtered = eth_filtered.groupby('Calculation1').filter(\n",
    "    lambda df: ('White' in df.loc[df['Count'] == 'App', 'Ethnicity'].tolist()) &\n",
    "               ('All' in df.loc[df['Count'] == 'App', 'Ethnicity'].tolist()) &\n",
    "               ('White' in df.loc[df['Count'] == 'Adm', 'Ethnicity'].tolist()) &\n",
    "               ('All' in df.loc[df['Count'] == 'Adm', 'Ethnicity'].tolist())\n",
    ")\n",
    "\n",
    "eth_filtered.loc[eth_filtered['County/State/ Territory'].isnull(), 'Location'] = 'INT'\n",
    "eth_filtered.loc[eth_filtered['County/State/ Territory'].str.len() == 2, 'Location'] = 'OOS'\n",
    "eth_filtered.loc[eth_filtered['County/State/ Territory'].str.len() > 2, 'Location'] = 'INS'\n",
    "\n",
    "df_eth = pd.pivot_table(eth_filtered,\n",
    "               index = 'Calculation1', \n",
    "               values = 'Pivot Field Values', \n",
    "               columns = ['Count', 'Ethnicity'])[['App', 'Adm']]\n",
    "\n",
    "df_eth['AppWhiteProportion'] = df_eth[('App', 'White')] / df_eth[('App', 'All')]\n",
    "df_eth['AdmWhiteProportion'] = df_eth[('Adm', 'White')] / df_eth[('Adm', 'All')]\n",
    "\n",
    "df_eth.columns = [''.join(col).strip() for col in df_eth.columns.values]\n",
    "\n",
    "df_eth = df_eth[['AppWhiteProportion', 'AdmWhiteProportion']]\n",
    "\n",
    "df_eth = df_eth.merge(eth_filtered[['Calculation1', 'Location']].groupby('Calculation1').agg(lambda x: x.iloc[0])\n",
    "         , on = 'Calculation1')"
   ]
  },
  {
   "cell_type": "code",
   "execution_count": null,
   "metadata": {
    "ExecuteTime": {
     "end_time": "2020-12-16T10:45:56.239482Z",
     "start_time": "2020-12-16T10:45:56.237049Z"
    }
   },
   "outputs": [],
   "source": [
    "# turns out no schools both reported white/all proportions AND male/female/all proportions, so these analyses need to be done separately"
   ]
  },
  {
   "cell_type": "code",
   "execution_count": null,
   "metadata": {
    "ExecuteTime": {
     "end_time": "2020-12-16T10:45:56.278252Z",
     "start_time": "2020-12-16T10:45:56.241635Z"
    }
   },
   "outputs": [],
   "source": [
    "df"
   ]
  },
  {
   "cell_type": "markdown",
   "metadata": {},
   "source": [
    "### actual machine learning"
   ]
  },
  {
   "cell_type": "code",
   "execution_count": null,
   "metadata": {
    "ExecuteTime": {
     "end_time": "2020-12-16T10:45:56.442465Z",
     "start_time": "2020-12-16T10:45:56.280565Z"
    }
   },
   "outputs": [],
   "source": [
    "from sklearn.model_selection import train_test_split\n",
    "from sklearn.linear_model import LogisticRegression\n",
    "from sklearn.tree import DecisionTreeClassifier\n",
    "from sklearn.ensemble import RandomForestClassifier"
   ]
  },
  {
   "cell_type": "code",
   "execution_count": null,
   "metadata": {
    "ExecuteTime": {
     "end_time": "2020-12-16T10:45:56.457411Z",
     "start_time": "2020-12-16T10:45:56.444257Z"
    }
   },
   "outputs": [],
   "source": [
    "df.head()"
   ]
  },
  {
   "cell_type": "code",
   "execution_count": null,
   "metadata": {
    "ExecuteTime": {
     "end_time": "2020-12-16T10:45:56.462269Z",
     "start_time": "2020-12-16T10:45:56.458995Z"
    }
   },
   "outputs": [],
   "source": [
    "df['binary target'] = 1 * (df['Location'] == 'INS')"
   ]
  },
  {
   "cell_type": "code",
   "execution_count": null,
   "metadata": {
    "ExecuteTime": {
     "end_time": "2020-12-16T10:45:56.469355Z",
     "start_time": "2020-12-16T10:45:56.463969Z"
    }
   },
   "outputs": [],
   "source": [
    "df['Location'].value_counts()"
   ]
  },
  {
   "cell_type": "code",
   "execution_count": null,
   "metadata": {
    "ExecuteTime": {
     "end_time": "2020-12-16T10:45:56.475821Z",
     "start_time": "2020-12-16T10:45:56.471030Z"
    }
   },
   "outputs": [],
   "source": [
    "df['binary target'].value_counts()"
   ]
  },
  {
   "cell_type": "code",
   "execution_count": null,
   "metadata": {
    "ExecuteTime": {
     "end_time": "2020-12-16T10:45:56.483285Z",
     "start_time": "2020-12-16T10:45:56.477424Z"
    }
   },
   "outputs": [],
   "source": [
    "train_binary, test_binary = train_test_split(df, test_size = 0.2, random_state = 42)"
   ]
  },
  {
   "cell_type": "code",
   "execution_count": null,
   "metadata": {
    "ExecuteTime": {
     "end_time": "2020-12-16T10:45:56.488153Z",
     "start_time": "2020-12-16T10:45:56.485169Z"
    }
   },
   "outputs": [],
   "source": [
    "binary_models = {\n",
    "    'lr': LogisticRegression(),\n",
    "    'lrb': LogisticRegression(class_weight = \"balanced\"),\n",
    "    'dt': DecisionTreeClassifier(),\n",
    "    'rf': RandomForestClassifier()\n",
    "}"
   ]
  },
  {
   "cell_type": "code",
   "execution_count": null,
   "metadata": {
    "ExecuteTime": {
     "end_time": "2020-12-16T10:45:57.645179Z",
     "start_time": "2020-12-16T10:45:56.490526Z"
    }
   },
   "outputs": [],
   "source": [
    "for m in binary_models:\n",
    "    binary_models[m].fit(train_binary[['AppMaleProportion', 'AdmMaleProportion']], train_binary['binary target'])\n",
    "    train_acc = binary_models[m].score(train_binary[['AppMaleProportion', 'AdmMaleProportion']], train_binary['binary target'])\n",
    "    test_acc = binary_models[m].score(test_binary[['AppMaleProportion', 'AdmMaleProportion']], test_binary['binary target'])\n",
    "    print(m, train_acc, test_acc)\n",
    "    \n",
    "    sns_cmap = ListedColormap(np.array(sns.color_palette())[0:2, :])\n",
    "\n",
    "    xx, yy = np.meshgrid(np.arange(0, 1, 0.01), np.arange(0, 1, 0.01))\n",
    "    Z_string = binary_models[m].predict(np.c_[xx.ravel(), yy.ravel()])\n",
    "    categories, Z_int = np.unique(Z_string, return_inverse = True)\n",
    "    Z_int = Z_int.reshape(xx.shape)\n",
    "    print(categories)\n",
    "    plt.contourf(xx, yy, Z_int, cmap = sns_cmap)\n",
    "    sns.scatterplot(data = train_binary, x = 'AppMaleProportion', y = 'AdmMaleProportion', hue = 'binary target', cmap = sns_cmap)\n",
    "#     plt.title('Logistic Regression on nba_train');\n",
    "#     break\n",
    "#     plt.show()\n",
    "    "
   ]
  },
  {
   "cell_type": "code",
   "execution_count": null,
   "metadata": {
    "ExecuteTime": {
     "end_time": "2020-12-16T10:45:57.658229Z",
     "start_time": "2020-12-16T10:45:57.648169Z"
    }
   },
   "outputs": [],
   "source": [
    "binary_models['dt'].predict(train_binary[['AppMaleProportion', 'AdmMaleProportion']])"
   ]
  },
  {
   "cell_type": "code",
   "execution_count": null,
   "metadata": {},
   "outputs": [],
   "source": [
    "from sklearn.metrics import confusion_matrix"
   ]
  },
  {
   "cell_type": "code",
   "execution_count": null,
   "metadata": {},
   "outputs": [],
   "source": [
    "# lr cm\n",
    "confusion_matrix(test_binary['binary target'], binary_models['lr'].predict(test_binary[['AppMaleProportion', 'AdmMaleProportion']])) / len(test_binary)"
   ]
  },
  {
   "cell_type": "code",
   "execution_count": null,
   "metadata": {},
   "outputs": [],
   "source": [
    "train_binary['binary target'].value_counts()"
   ]
  },
  {
   "cell_type": "code",
   "execution_count": null,
   "metadata": {},
   "outputs": [],
   "source": [
    "len(train_binary)"
   ]
  },
  {
   "cell_type": "code",
   "execution_count": null,
   "metadata": {},
   "outputs": [],
   "source": [
    "confusion_matrix?"
   ]
  },
  {
   "cell_type": "code",
   "execution_count": null,
   "metadata": {},
   "outputs": [],
   "source": [
    "# lrb cm\n",
    "confusion_matrix(test_binary['binary target'], binary_models['lrb'].predict(test_binary[['AppMaleProportion', 'AdmMaleProportion']])) / len(test_binary)"
   ]
  },
  {
   "cell_type": "code",
   "execution_count": null,
   "metadata": {},
   "outputs": [],
   "source": [
    "train_binary['binary target'].value_counts()"
   ]
  },
  {
   "cell_type": "code",
   "execution_count": null,
   "metadata": {},
   "outputs": [],
   "source": [
    "test_binary['binary target'].value_counts()"
   ]
  },
  {
   "cell_type": "code",
   "execution_count": null,
   "metadata": {},
   "outputs": [],
   "source": [
    "# merged data"
   ]
  },
  {
   "cell_type": "code",
   "execution_count": null,
   "metadata": {
    "ExecuteTime": {
     "end_time": "2020-12-16T10:45:57.706540Z",
     "start_time": "2020-12-16T10:45:57.666656Z"
    }
   },
   "outputs": [],
   "source": [
    "df_merged = df.merge(df_eth, left_index = True, right_index = True)[['AppMaleProportion', 'AdmMaleProportion',\n",
    "                                                       'AppWhiteProportion', 'AdmWhiteProportion',\n",
    "                                                       'Location_x', 'binary target']].rename(\n",
    "                                                        columns = {'Location_x': 'Location'})\n",
    "df_merged"
   ]
  },
  {
   "cell_type": "code",
   "execution_count": null,
   "metadata": {},
   "outputs": [],
   "source": [
    "df_export = df_merged.copy()"
   ]
  },
  {
   "cell_type": "code",
   "execution_count": null,
   "metadata": {},
   "outputs": [],
   "source": [
    "df_export.index.name = 'Name'\n",
    "df_export = df_export.iloc[:, :-1]\n",
    "df_export.index = df_export.index.to_series().str[:10]\n",
    "df_export.columns = ['AppMale', 'AdmMale', 'AppWhite', 'AdmWhite', 'Location']"
   ]
  },
  {
   "cell_type": "code",
   "execution_count": null,
   "metadata": {},
   "outputs": [],
   "source": [
    "df_export.sample(5, random_state=53)"
   ]
  },
  {
   "cell_type": "code",
   "execution_count": null,
   "metadata": {},
   "outputs": [],
   "source": [
    "print(df_export.sample(5, random_state=53).head().to_latex())"
   ]
  },
  {
   "cell_type": "code",
   "execution_count": null,
   "metadata": {
    "ExecuteTime": {
     "end_time": "2020-12-16T10:45:57.722517Z",
     "start_time": "2020-12-16T10:45:57.709739Z"
    }
   },
   "outputs": [],
   "source": [
    "df_merged.corr()"
   ]
  },
  {
   "cell_type": "code",
   "execution_count": null,
   "metadata": {
    "ExecuteTime": {
     "end_time": "2020-12-16T10:45:57.729960Z",
     "start_time": "2020-12-16T10:45:57.724990Z"
    }
   },
   "outputs": [],
   "source": [
    "train_merged, test_merged = train_test_split(df_merged, test_size = 0.2, random_state = 6)"
   ]
  },
  {
   "cell_type": "code",
   "execution_count": null,
   "metadata": {
    "ExecuteTime": {
     "end_time": "2020-12-16T10:45:57.735747Z",
     "start_time": "2020-12-16T10:45:57.732278Z"
    }
   },
   "outputs": [],
   "source": [
    "binary_models_merged = {\n",
    "    'lr': LogisticRegression(),\n",
    "    'lrb': LogisticRegression(class_weight = \"balanced\"),\n",
    "    'dt': DecisionTreeClassifier(),\n",
    "    'rf': RandomForestClassifier()\n",
    "}"
   ]
  },
  {
   "cell_type": "code",
   "execution_count": null,
   "metadata": {
    "ExecuteTime": {
     "end_time": "2020-12-16T10:45:57.742074Z",
     "start_time": "2020-12-16T10:45:57.738117Z"
    }
   },
   "outputs": [],
   "source": [
    "features = ['AppMaleProportion', 'AdmMaleProportion', 'AppWhiteProportion', 'AdmWhiteProportion']"
   ]
  },
  {
   "cell_type": "code",
   "execution_count": null,
   "metadata": {
    "ExecuteTime": {
     "end_time": "2020-12-16T10:45:57.990420Z",
     "start_time": "2020-12-16T10:45:57.744392Z"
    }
   },
   "outputs": [],
   "source": [
    "for m in binary_models_merged:\n",
    "    binary_models_merged[m].fit(train_merged[features], train_merged['binary target'])\n",
    "    train_acc = binary_models_merged[m].score(train_merged[features], train_merged['binary target'])\n",
    "    test_acc = binary_models_merged[m].score(test_merged[features], test_merged['binary target'])\n",
    "    print(m, train_acc, test_acc)\n",
    "    \n",
    "    # could add in precision and recall\n",
    "    "
   ]
  },
  {
   "cell_type": "code",
   "execution_count": null,
   "metadata": {
    "ExecuteTime": {
     "end_time": "2020-12-16T10:45:57.995424Z",
     "start_time": "2020-12-16T10:45:57.993024Z"
    }
   },
   "outputs": [],
   "source": [
    "# roc curve of binary logistic regression model"
   ]
  },
  {
   "cell_type": "code",
   "execution_count": null,
   "metadata": {
    "ExecuteTime": {
     "end_time": "2020-12-16T10:45:58.003017Z",
     "start_time": "2020-12-16T10:45:57.997295Z"
    }
   },
   "outputs": [],
   "source": [
    "from sklearn.metrics import roc_curve, auc"
   ]
  },
  {
   "cell_type": "code",
   "execution_count": null,
   "metadata": {
    "ExecuteTime": {
     "end_time": "2020-12-16T10:45:58.229618Z",
     "start_time": "2020-12-16T10:45:58.017116Z"
    }
   },
   "outputs": [],
   "source": [
    "fpr, tpr, threshold = roc_curve(train_merged['binary target'], \n",
    "                               binary_models_merged['lr'].predict_proba(train_merged[features])[:, 1])\n",
    "\n",
    "plt.plot(fpr, tpr);\n",
    "plt.xlabel('FPR')\n",
    "plt.ylabel('TPR')\n",
    "plt.title('ROC, Unbalanced Four-Feature Log. Reg.');\n",
    "print('auc = ', auc(fpr, tpr))\n",
    "# plt.savefig('export/unbalancedroc.png')"
   ]
  },
  {
   "cell_type": "code",
   "execution_count": null,
   "metadata": {
    "ExecuteTime": {
     "end_time": "2020-12-16T10:45:58.241347Z",
     "start_time": "2020-12-16T10:45:58.233605Z"
    }
   },
   "outputs": [],
   "source": [
    "fpr, tpr, threshold = roc_curve(train_merged['binary target'], \n",
    "                               binary_models_merged['lrb'].predict_proba(train_merged[features])[:, 1])\n",
    "\n",
    "plt.plot(fpr, tpr);\n",
    "plt.xlabel('FPR')\n",
    "plt.ylabel('TPR')\n",
    "plt.title('ROC, Balanced Four-Feature Log. Reg.');\n",
    "print('auc = ', auc(fpr, tpr))\n",
    "# plt.savefig('export/balancedroc.png')"
   ]
  },
  {
   "cell_type": "code",
   "execution_count": null,
   "metadata": {},
   "outputs": [],
   "source": [
    "binary_models['lrb'].coef_, binary_models['lrb'].intercept_, "
   ]
  },
  {
   "cell_type": "code",
   "execution_count": null,
   "metadata": {
    "ExecuteTime": {
     "end_time": "2020-12-16T10:45:58.462394Z",
     "start_time": "2020-12-16T10:45:58.454945Z"
    }
   },
   "outputs": [],
   "source": [
    "binary_models_merged['lrb'].coef_, binary_models_merged['lrb'].intercept_"
   ]
  },
  {
   "cell_type": "code",
   "execution_count": null,
   "metadata": {},
   "outputs": [],
   "source": [
    "# lrb cm\n",
    "confusion_matrix(test_merged['binary target'], binary_models_merged['lr'].predict(test_merged[['AppMaleProportion', 'AdmMaleProportion', 'AppWhiteProportion', 'AdmWhiteProportion']]))"
   ]
  },
  {
   "cell_type": "code",
   "execution_count": null,
   "metadata": {},
   "outputs": [],
   "source": [
    "# lrb cm\n",
    "confusion_matrix(test_merged['binary target'], binary_models_merged['lrb'].predict(test_merged[['AppMaleProportion', 'AdmMaleProportion', 'AppWhiteProportion', 'AdmWhiteProportion']]))"
   ]
  },
  {
   "cell_type": "markdown",
   "metadata": {},
   "source": [
    "### fairness criterion"
   ]
  },
  {
   "cell_type": "code",
   "execution_count": null,
   "metadata": {
    "ExecuteTime": {
     "end_time": "2020-12-16T10:45:58.470634Z",
     "start_time": "2020-12-16T10:45:58.465221Z"
    }
   },
   "outputs": [],
   "source": [
    "Y = train_merged['binary target']\n",
    "A = train_merged[features]\n",
    "R = binary_models_merged['lrb'].predict(train_merged[features])#[:, 1]"
   ]
  },
  {
   "cell_type": "code",
   "execution_count": null,
   "metadata": {
    "ExecuteTime": {
     "end_time": "2020-12-16T10:45:58.475940Z",
     "start_time": "2020-12-16T10:45:58.473307Z"
    }
   },
   "outputs": [],
   "source": [
    "# clearly these are garbage, pretty close to random model (0.5)\n",
    "# only classifying well because of the severe class imbalance"
   ]
  },
  {
   "cell_type": "code",
   "execution_count": null,
   "metadata": {
    "ExecuteTime": {
     "end_time": "2020-12-16T10:45:58.482385Z",
     "start_time": "2020-12-16T10:45:58.479033Z"
    }
   },
   "outputs": [],
   "source": [
    "# plan: make A the category for whether or not a majority of applicants were male (or accepted)\n",
    "# then look at separation and sufficiency"
   ]
  },
  {
   "cell_type": "code",
   "execution_count": null,
   "metadata": {
    "ExecuteTime": {
     "end_time": "2020-12-16T10:45:58.490271Z",
     "start_time": "2020-12-16T10:45:58.485988Z"
    }
   },
   "outputs": [],
   "source": [
    "A = train_merged['AppMaleProportion'] >= 0.5"
   ]
  },
  {
   "cell_type": "code",
   "execution_count": null,
   "metadata": {
    "ExecuteTime": {
     "end_time": "2020-12-16T10:45:58.692144Z",
     "start_time": "2020-12-16T10:45:58.493710Z"
    }
   },
   "outputs": [],
   "source": [
    "plt.scatter(R[A], Y[A], label = 'male majority', alpha = 0.4, color = 'r');\n",
    "# plt.scatter(R[~A], Y[~A], label = 'female majority', alpha = 0.4);\n",
    "plt.legend();"
   ]
  },
  {
   "cell_type": "code",
   "execution_count": null,
   "metadata": {
    "ExecuteTime": {
     "end_time": "2020-12-16T10:45:58.936608Z",
     "start_time": "2020-12-16T10:45:58.694652Z"
    }
   },
   "outputs": [],
   "source": [
    "plt.figure(figsize=(5,5))\n",
    "plt.errorbar([0], [np.mean(Y[A][R[A] == 0])], color = 'red', alpha = 0.4, label = 'male',\n",
    "            yerr=np.std(Y[A][R[A] == 0]) / 15, fmt='o') \n",
    "plt.errorbar([1], [np.mean(Y[A][R[A] == 1])], color = 'red', alpha = 0.4,\n",
    "            yerr=np.std(Y[A][R[A] == 1]) / 15, fmt='o')\n",
    "\n",
    "plt.errorbar([0], [np.mean(Y[~A][R[~A] == 0])], color = 'blue', alpha = 0.4, label = 'female',\n",
    "            yerr=np.std(Y[~A][R[~A] == 0]) / 15, fmt='o')\n",
    "plt.errorbar([1], [np.mean(Y[~A][R[~A] == 1])], color = 'blue', alpha = 0.4,\n",
    "            yerr=np.std(Y[~A][R[~A] == 1]) / 15, fmt='o');\n",
    "plt.legend()\n",
    "plt.ylim([0.75,1])\n",
    "plt.title(\"Sufficiency\")\n",
    "plt.ylabel(\"P(Y=y | R=r, A=a)\")\n",
    "plt.xlabel(\"R\")\n",
    "plt.show()"
   ]
  },
  {
   "cell_type": "code",
   "execution_count": null,
   "metadata": {},
   "outputs": [],
   "source": [
    "offset = 0.06\n",
    "w = 0.1\n",
    "plt.figure(figsize=(8,5))\n",
    "l = len(R)\n",
    "# average predicted oos given male\n",
    "plt.bar([0-offset], np.mean(R[A][Y[A] == 0]), color='red', label='male', alpha = 0.4,width=w)\n",
    "# average predicted oos given female\n",
    "plt.bar([0+offset], np.mean(R[~A][Y[~A] == 0]), color='blue', label='female', alpha = 0.4,width=w)\n",
    "\n",
    "# average predicted instate given male\n",
    "plt.bar([1-offset], np.mean(R[A][Y[A] == 1]), color='red', alpha = 0.4,width=w)\n",
    "# average predicted instate given female\n",
    "plt.bar([1+offset], np.mean(R[~A][Y[~A] == 1]), color='blue', alpha = 0.4,width=w)\n",
    "plt.legend()\n",
    "plt.title(\"Separation\")\n",
    "plt.ylabel(\"P(R=r | Y=y, A=a)\")\n",
    "plt.xlabel(\"Y\")\n",
    "plt.show()"
   ]
  },
  {
   "cell_type": "code",
   "execution_count": null,
   "metadata": {},
   "outputs": [],
   "source": [
    "print(len(train_merged['AppMaleProportion']))"
   ]
  },
  {
   "cell_type": "code",
   "execution_count": null,
   "metadata": {},
   "outputs": [],
   "source": [
    "print(sum(~A))"
   ]
  },
  {
   "cell_type": "code",
   "execution_count": null,
   "metadata": {
    "ExecuteTime": {
     "end_time": "2020-12-16T10:45:58.945939Z",
     "start_time": "2020-12-16T10:45:58.939371Z"
    }
   },
   "outputs": [],
   "source": [
    "np.mean(Y[~A][R[~A] == 1])"
   ]
  },
  {
   "cell_type": "code",
   "execution_count": null,
   "metadata": {
    "ExecuteTime": {
     "end_time": "2020-12-16T10:45:58.956357Z",
     "start_time": "2020-12-16T10:45:58.947893Z"
    }
   },
   "outputs": [],
   "source": [
    "np.mean(Y[~A][R[~A] == 0])"
   ]
  },
  {
   "cell_type": "code",
   "execution_count": null,
   "metadata": {
    "ExecuteTime": {
     "end_time": "2020-12-16T10:45:58.961589Z",
     "start_time": "2020-12-16T10:45:58.958919Z"
    }
   },
   "outputs": [],
   "source": [
    "# out of state schools have more female applicants??? "
   ]
  },
  {
   "cell_type": "markdown",
   "metadata": {},
   "source": [
    "## Regression models"
   ]
  },
  {
   "cell_type": "code",
   "execution_count": null,
   "metadata": {
    "ExecuteTime": {
     "end_time": "2020-12-16T10:45:58.968572Z",
     "start_time": "2020-12-16T10:45:58.964005Z"
    }
   },
   "outputs": [],
   "source": [
    "from sklearn.linear_model import LinearRegression, Ridge, RidgeCV, Lasso, LassoCV\n",
    "from sklearn.neighbors import KNeighborsRegressor"
   ]
  },
  {
   "cell_type": "code",
   "execution_count": null,
   "metadata": {
    "ExecuteTime": {
     "end_time": "2020-12-16T10:45:58.975976Z",
     "start_time": "2020-12-16T10:45:58.972364Z"
    }
   },
   "outputs": [],
   "source": [
    "# given all other features, predict AdmWhiteProportion"
   ]
  },
  {
   "cell_type": "code",
   "execution_count": null,
   "metadata": {
    "ExecuteTime": {
     "end_time": "2020-12-16T10:45:58.995543Z",
     "start_time": "2020-12-16T10:45:58.978901Z"
    }
   },
   "outputs": [],
   "source": [
    "df_ohe = pd.get_dummies(df_merged, columns = ['Location']) \\\n",
    ".drop(['binary target', 'Location_INS'], axis = 1) \\\n",
    ".rename(columns = {'AdmWhiteProportion': 'TargetProportion'}) \\\n",
    ".iloc[:, [0, 1, 2, 4, 5, 3]]"
   ]
  },
  {
   "cell_type": "code",
   "execution_count": null,
   "metadata": {
    "ExecuteTime": {
     "end_time": "2020-12-16T10:45:59.043812Z",
     "start_time": "2020-12-16T10:45:59.000779Z"
    }
   },
   "outputs": [],
   "source": [
    "df_ohe"
   ]
  },
  {
   "cell_type": "code",
   "execution_count": null,
   "metadata": {
    "ExecuteTime": {
     "end_time": "2020-12-16T10:45:59.053791Z",
     "start_time": "2020-12-16T10:45:59.047092Z"
    }
   },
   "outputs": [],
   "source": [
    "train_ohe, test_ohe = train_test_split(df_ohe, test_size = 0.2, random_state = 17)"
   ]
  },
  {
   "cell_type": "code",
   "execution_count": null,
   "metadata": {
    "ExecuteTime": {
     "end_time": "2020-12-16T10:45:59.060523Z",
     "start_time": "2020-12-16T10:45:59.056345Z"
    }
   },
   "outputs": [],
   "source": [
    "regression_models = {\n",
    "    'ols': LinearRegression(),\n",
    "    'ridge': Ridge(),\n",
    "    'ridgecv': RidgeCV(),\n",
    "    'lasso': Lasso(),\n",
    "    'lassocv': LassoCV(),\n",
    "    'knn': KNeighborsRegressor()\n",
    "}"
   ]
  },
  {
   "cell_type": "code",
   "execution_count": null,
   "metadata": {
    "ExecuteTime": {
     "end_time": "2020-12-16T10:45:59.192856Z",
     "start_time": "2020-12-16T10:45:59.075534Z"
    }
   },
   "outputs": [],
   "source": [
    "for m in regression_models:\n",
    "    regression_models[m].fit(train_ohe.iloc[:, :-1], train_ohe.iloc[:, -1])\n",
    "    train_rmse = np.mean((regression_models[m].predict(train_ohe.iloc[:, :-1]) - train_ohe.iloc[:, -1])**2)\n",
    "    test_rmse = np.mean((regression_models[m].predict(test_ohe.iloc[:, :-1]) - test_ohe.iloc[:, -1])**2)\n",
    "    if m == 'knn':\n",
    "        print(m, train_rmse, test_rmse)\n",
    "    else:\n",
    "        print(f\"{m}, {np.round(train_rmse, 3)}, {np.round(test_rmse, 3)}, {np.round(regression_models[m].coef_, 3)}, {np.round(regression_models[m].intercept_, 3)}\")\n",
    "    "
   ]
  },
  {
   "cell_type": "code",
   "execution_count": null,
   "metadata": {
    "ExecuteTime": {
     "end_time": "2020-12-16T10:45:59.201712Z",
     "start_time": "2020-12-16T10:45:59.195647Z"
    }
   },
   "outputs": [],
   "source": [
    "train_ohe.iloc[:, -1].mean()"
   ]
  },
  {
   "cell_type": "code",
   "execution_count": null,
   "metadata": {
    "ExecuteTime": {
     "end_time": "2020-12-16T10:45:59.214451Z",
     "start_time": "2020-12-16T10:45:59.204294Z"
    }
   },
   "outputs": [],
   "source": [
    "regression_models['lasso'].predict(train_ohe.iloc[:, :-1])"
   ]
  },
  {
   "cell_type": "code",
   "execution_count": null,
   "metadata": {
    "ExecuteTime": {
     "end_time": "2020-12-16T10:45:59.249108Z",
     "start_time": "2020-12-16T10:45:59.217146Z"
    }
   },
   "outputs": [],
   "source": [
    "df_ohe"
   ]
  },
  {
   "cell_type": "code",
   "execution_count": null,
   "metadata": {
    "ExecuteTime": {
     "end_time": "2020-12-16T10:45:59.284568Z",
     "start_time": "2020-12-16T10:45:59.252140Z"
    }
   },
   "outputs": [],
   "source": [
    "train_merged"
   ]
  },
  {
   "cell_type": "markdown",
   "metadata": {},
   "source": [
    "## PyTorch Code"
   ]
  },
  {
   "cell_type": "code",
   "execution_count": null,
   "metadata": {
    "ExecuteTime": {
     "end_time": "2020-12-16T11:13:39.238007Z",
     "start_time": "2020-12-16T11:13:39.235115Z"
    }
   },
   "outputs": [],
   "source": [
    "from torch.utils.data import TensorDataset, DataLoader\n",
    "import torch.optim as optim"
   ]
  },
  {
   "cell_type": "code",
   "execution_count": null,
   "metadata": {
    "ExecuteTime": {
     "end_time": "2020-12-16T12:43:24.302489Z",
     "start_time": "2020-12-16T12:43:24.290421Z"
    }
   },
   "outputs": [],
   "source": [
    "class NNClassifier(nn.Module):\n",
    "    def __init__(self, in_feat, hidden_dims=(1000, 500), extra_layer=False):\n",
    "        super().__init__()\n",
    "        self.extra_layer = extra_layer\n",
    "        self.fc1 = nn.Linear(in_feat, hidden_dims[0])\n",
    "        self.fc2 = nn.Linear(hidden_dims[0], hidden_dims[1])\n",
    "        self.fc3 = nn.Linear(hidden_dims[1], hidden_dims[1])\n",
    "        self.fc4 = nn.Linear(hidden_dims[1], 2)\n",
    "        \n",
    "    def forward(self, x):\n",
    "        l1_out = nn.functional.relu(self.fc1(x))\n",
    "        l2_out = nn.functional.relu(self.fc2(l1_out))\n",
    "        l3_out = nn.functional.relu(self.fc3(l2_out)) if self.extra_layer else l2_out\n",
    "        out = self.fc4(l3_out)\n",
    "        return out\n",
    "    \n",
    "class NNRegressor(nn.Module):\n",
    "    def __init__(self, in_feat, hidden_dims=(50, 25), extra_layer=False):\n",
    "        super().__init__()\n",
    "        self.extra_layer = extra_layer\n",
    "        self.fc1 = nn.Linear(in_feat, hidden_dims[0])\n",
    "        self.fc2 = nn.Linear(hidden_dims[0], hidden_dims[1])\n",
    "        self.fc3 = nn.Linear(hidden_dims[1], hidden_dims[1])\n",
    "        self.fc4 = nn.Linear(hidden_dims[1], 1)\n",
    "        \n",
    "    def forward(self, x):\n",
    "        l1_out = nn.functional.relu(self.fc1(x))\n",
    "        l2_out = nn.functional.relu(self.fc2(l1_out))\n",
    "        l3_out = nn.functional.relu(self.fc3(l2_out)) if self.extra_layer else l2_out\n",
    "        out = self.fc4(l3_out)\n",
    "        return out"
   ]
  },
  {
   "cell_type": "code",
   "execution_count": null,
   "metadata": {
    "ExecuteTime": {
     "end_time": "2020-12-16T12:47:07.685361Z",
     "start_time": "2020-12-16T12:47:07.680764Z"
    }
   },
   "outputs": [],
   "source": [
    "test_ohe.iloc[:, -1].values[:,None].shape"
   ]
  },
  {
   "cell_type": "code",
   "execution_count": null,
   "metadata": {
    "ExecuteTime": {
     "end_time": "2020-12-16T13:15:25.932500Z",
     "start_time": "2020-12-16T13:15:25.921527Z"
    }
   },
   "outputs": [],
   "source": [
    "# Converting the DataFrame to a DataLoader\n",
    "def df_to_torch(data, target, batch_size=5, classify=True):\n",
    "    if classify:\n",
    "        target = torch.tensor(target.values.astype(np.long))\n",
    "    else:\n",
    "        target = torch.tensor(target.values[:,None].astype(np.float32))\n",
    "    data = torch.tensor(data.values.astype(np.float32)) \n",
    "    data_tensor = TensorDataset(data, target) \n",
    "    data_loader = DataLoader(dataset = data_tensor, batch_size = batch_size, shuffle = True)\n",
    "    return data_loader\n",
    "\n",
    "# 2 Feature Classifier Data\n",
    "classify = True\n",
    "train_data = train_binary[['AppMaleProportion', 'AdmMaleProportion']]\n",
    "train_target = train_binary['binary target']\n",
    "test_data = test_binary[['AppMaleProportion', 'AdmMaleProportion']]\n",
    "test_target = test_binary['binary target']\n",
    "\n",
    "# 4 Feature Classifier Data\n",
    "classify = True\n",
    "# train_data = train_merged[features]\n",
    "# train_target = train_merged['binary target']\n",
    "# test_data = test_merged[features]\n",
    "# test_target = test_merged['binary target']\n",
    "\n",
    "# 4 Feature Regression\n",
    "classify = False\n",
    "train_data = train_ohe.iloc[:, :-1]\n",
    "train_target = train_ohe.iloc[:, -1]\n",
    "test_data = test_ohe.iloc[:, :-1]\n",
    "test_target = test_ohe.iloc[:, -1]\n",
    "\n",
    "train_loader = df_to_torch(train_data, train_target, classify=classify)\n",
    "test_loader = df_to_torch(test_data, test_target, classify=classify)"
   ]
  },
  {
   "cell_type": "code",
   "execution_count": null,
   "metadata": {
    "ExecuteTime": {
     "end_time": "2020-12-16T13:15:27.096058Z",
     "start_time": "2020-12-16T13:15:27.090088Z"
    }
   },
   "outputs": [],
   "source": [
    "num_pos = sum(train_target.values)\n",
    "total = len(train_target.values)\n",
    "num_neg = total-num_pos\n",
    "weights = torch.tensor([num_neg, num_pos]).type(torch.float)/total\n",
    "weights"
   ]
  },
  {
   "cell_type": "code",
   "execution_count": null,
   "metadata": {
    "ExecuteTime": {
     "end_time": "2020-12-16T13:15:32.374119Z",
     "start_time": "2020-12-16T13:15:32.370478Z"
    }
   },
   "outputs": [],
   "source": [
    "# Create NN\n",
    "# net = NNClassifier(2, hidden_dims=(50, 25))\n",
    "# net = NNClassifier(4, hidden_dims=(1000, 500), extra_layer=True)\n",
    "net = NNRegressor(5)"
   ]
  },
  {
   "cell_type": "code",
   "execution_count": null,
   "metadata": {
    "ExecuteTime": {
     "end_time": "2020-12-16T13:15:32.897801Z",
     "start_time": "2020-12-16T13:15:32.893634Z"
    }
   },
   "outputs": [],
   "source": [
    "net"
   ]
  },
  {
   "cell_type": "code",
   "execution_count": null,
   "metadata": {
    "ExecuteTime": {
     "end_time": "2020-12-16T13:15:39.309180Z",
     "start_time": "2020-12-16T13:15:33.780516Z"
    }
   },
   "outputs": [],
   "source": [
    "# Training\n",
    "# criterion = nn.CrossEntropyLoss()\n",
    "# criterion = nn.CrossEntropyLoss(weight=weights)\n",
    "criterion = nn.MSELoss(reduction=\"sum\")\n",
    "# optimizer = optim.SGD(net.parameters(), 0.1)\n",
    "optimizer = optim.Adam(net.parameters(),lr=0.001)\n",
    "n_epochs = 200\n",
    "\n",
    "for epoch in range(n_epochs):\n",
    "    running_loss = 0\n",
    "    for (data, target) in train_loader:\n",
    "        optimizer.zero_grad()\n",
    "        out = net(data)\n",
    "        loss = criterion(out, target)\n",
    "        loss.backward()\n",
    "        optimizer.step()    # Does the update\n",
    "        \n",
    "        running_loss += loss.item()\n",
    "    if epoch % 10 == 0:\n",
    "        print(\"Epoch {}, Loss: {}\".format(epoch+1, running_loss/total))"
   ]
  },
  {
   "cell_type": "code",
   "execution_count": null,
   "metadata": {
    "ExecuteTime": {
     "end_time": "2020-12-16T12:39:25.977579Z",
     "start_time": "2020-12-16T12:39:25.946484Z"
    }
   },
   "outputs": [],
   "source": [
    "# Calculate Training Accuracy\n",
    "with torch.no_grad():\n",
    "        total = 0\n",
    "        correct = 0\n",
    "        for i, (data, target) in enumerate(train_loader):\n",
    "            outputs = net(data)\n",
    "            _, predicted = torch.max(outputs.data, 1)\n",
    "#             print(predicted)\n",
    "            total += target.size(0)\n",
    "            correct += (predicted == target).sum().item()\n",
    "        train_acc = correct/total*100\n",
    "print(\"Training Accuracy: {:.2f}\".format(train_acc))"
   ]
  },
  {
   "cell_type": "code",
   "execution_count": null,
   "metadata": {
    "ExecuteTime": {
     "end_time": "2020-12-16T12:39:27.786470Z",
     "start_time": "2020-12-16T12:39:27.774153Z"
    }
   },
   "outputs": [],
   "source": [
    "# Calculate Testing Accuracy\n",
    "with torch.no_grad():\n",
    "        total = 0\n",
    "        correct = 0\n",
    "        for i, (data, target) in enumerate(test_loader):\n",
    "            outputs = net(data)\n",
    "            _, predicted = torch.max(outputs.data, 1)\n",
    "            total += target.size(0)\n",
    "            correct += (predicted == target).sum().item()\n",
    "        test_acc = correct/total*100\n",
    "print(\"Test Accuracy: {:.2f}\".format(test_acc))"
   ]
  },
  {
   "cell_type": "code",
   "execution_count": null,
   "metadata": {
    "ExecuteTime": {
     "end_time": "2020-12-16T13:18:20.802068Z",
     "start_time": "2020-12-16T13:18:20.796077Z"
    }
   },
   "outputs": [],
   "source": [
    "# Calculate Regression Test MSE\n",
    "with torch.no_grad():\n",
    "    loss = 0\n",
    "    total = 0\n",
    "    for i, (data, target) in enumerate(test_loader):\n",
    "        loss += sum(((net(data)-target)**2))\n",
    "        total += data.size(0)\n",
    "    loss /= total\n",
    "print(\"Test MSE: {:.4f}\".format(loss.data.numpy()[0]))"
   ]
  },
  {
   "cell_type": "code",
   "execution_count": null,
   "metadata": {},
   "outputs": [],
   "source": []
  }
 ],
 "metadata": {
  "kernelspec": {
   "display_name": "Python 3",
   "language": "python",
   "name": "python3"
  },
  "language_info": {
   "codemirror_mode": {
    "name": "ipython",
    "version": 3
   },
   "file_extension": ".py",
   "mimetype": "text/x-python",
   "name": "python",
   "nbconvert_exporter": "python",
   "pygments_lexer": "ipython3",
   "version": "3.7.6"
  }
 },
 "nbformat": 4,
 "nbformat_minor": 4
}
