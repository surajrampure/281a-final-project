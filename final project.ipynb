{
 "cells": [
  {
   "cell_type": "code",
   "execution_count": null,
   "metadata": {},
   "outputs": [],
   "source": [
    "import pandas as pd\n",
    "import numpy as np\n",
    "import sklearn as sk\n",
    "\n",
    "import matplotlib.pyplot as plt\n",
    "import seaborn as sns\n",
    "from matplotlib.colors import ListedColormap\n",
    "import plotly.express as px\n",
    "import plotly.graph_objs as go"
   ]
  },
  {
   "cell_type": "code",
   "execution_count": null,
   "metadata": {
    "scrolled": true
   },
   "outputs": [],
   "source": [
    "gender = pd.read_csv(\"gender.csv\")\n",
    "gender = gender.drop(['Unnamed: 0', 'School'], axis = 1)\n",
    "\n",
    "eth = pd.read_csv(\"race.csv\")\n",
    "eth = eth.drop(['Unnamed: 0', 'School'], axis = 1).rename(columns = {'Uad Uc Ethn 6 Cat': 'Ethnicity'})"
   ]
  },
  {
   "cell_type": "code",
   "execution_count": null,
   "metadata": {},
   "outputs": [],
   "source": [
    "gender"
   ]
  },
  {
   "cell_type": "code",
   "execution_count": null,
   "metadata": {},
   "outputs": [],
   "source": [
    "# features: proportion of applicants that were male\n",
    "# proportion admitted male\n",
    "\n",
    "# target: in state or not AND in state, out of state, international"
   ]
  },
  {
   "cell_type": "code",
   "execution_count": null,
   "metadata": {},
   "outputs": [],
   "source": [
    "# we need schools with both numbers for # of students applied and # of students admitted\n",
    "# so we need to do some wranging to get that"
   ]
  },
  {
   "cell_type": "code",
   "execution_count": null,
   "metadata": {},
   "outputs": [],
   "source": [
    "gender_filtered = gender.groupby('Calculation1').filter(lambda df: len(df.loc[df['Count'] == 'Adm', 'Count']) > 0)"
   ]
  },
  {
   "cell_type": "code",
   "execution_count": null,
   "metadata": {},
   "outputs": [],
   "source": [
    "gender_filtered"
   ]
  },
  {
   "cell_type": "code",
   "execution_count": null,
   "metadata": {},
   "outputs": [],
   "source": [
    "# not all schools have numbers for all categories – we need to interpolate them for consistency"
   ]
  },
  {
   "cell_type": "code",
   "execution_count": null,
   "metadata": {},
   "outputs": [],
   "source": [
    "all_count, male_count, female_count = 0, 0, 0"
   ]
  },
  {
   "cell_type": "code",
   "execution_count": null,
   "metadata": {},
   "outputs": [],
   "source": [
    "for name, df in gender_filtered.groupby('Calculation1'):\n",
    "    app = df.loc[df['Count'] == 'App', 'Gender']\n",
    "    app = sorted(app.tolist())\n",
    "    \n",
    "    if app == ['All']:\n",
    "        # No gender data\n",
    "        pass\n",
    "    \n",
    "    if app == sorted(['All', 'Female', 'Male']):\n",
    "#         print('has all')\n",
    "        all_count += 1\n",
    "\n",
    "    if app == ['All', 'Male']:\n",
    "#         print(name)\n",
    "        male_count += 1\n",
    "    \n",
    "    if app == ['All', 'Female']:\n",
    "        female_count += 1\n",
    "    \n",
    "#     print(df)"
   ]
  },
  {
   "cell_type": "code",
   "execution_count": null,
   "metadata": {},
   "outputs": [],
   "source": [
    "# jk – the majority of schools do have all of that data, let's just work with them"
   ]
  },
  {
   "cell_type": "code",
   "execution_count": null,
   "metadata": {},
   "outputs": [],
   "source": [
    "gender_filtered = gender_filtered.groupby('Calculation1').filter(\n",
    "    lambda df: (sorted(df.loc[df['Count'] == 'App', 'Gender'].tolist()) == ['All', 'Female', 'Male']) &\n",
    "               (sorted(df.loc[df['Count'] == 'Adm', 'Gender'].tolist()) == ['All', 'Female', 'Male'])\n",
    "\n",
    ")"
   ]
  },
  {
   "cell_type": "code",
   "execution_count": null,
   "metadata": {},
   "outputs": [],
   "source": [
    "gender_filtered"
   ]
  },
  {
   "cell_type": "code",
   "execution_count": null,
   "metadata": {},
   "outputs": [],
   "source": [
    "df = pd.pivot_table(gender_filtered,\n",
    "               index = 'Calculation1', \n",
    "               values = 'Pivot Field Values', \n",
    "               columns = ['Count', 'Gender'])[['App', 'Adm']]"
   ]
  },
  {
   "cell_type": "code",
   "execution_count": null,
   "metadata": {},
   "outputs": [],
   "source": [
    "df"
   ]
  },
  {
   "cell_type": "code",
   "execution_count": null,
   "metadata": {},
   "outputs": [],
   "source": [
    "df['AppMaleProportion'] = df[('App', 'Male')] / df[('App', 'All')]\n",
    "df['AdmMaleProportion'] = df[('Adm', 'Male')] / df[('Adm', 'All')]"
   ]
  },
  {
   "cell_type": "code",
   "execution_count": null,
   "metadata": {},
   "outputs": [],
   "source": [
    "# https://stackoverflow.com/questions/14507794/pandas-how-to-flatten-a-hierarchical-index-in-columns\n",
    "df.columns = [''.join(col).strip() for col in df.columns.values]"
   ]
  },
  {
   "cell_type": "code",
   "execution_count": null,
   "metadata": {},
   "outputs": [],
   "source": [
    "df"
   ]
  },
  {
   "cell_type": "code",
   "execution_count": null,
   "metadata": {},
   "outputs": [],
   "source": [
    "# getting whether or not the school is in state"
   ]
  },
  {
   "cell_type": "code",
   "execution_count": null,
   "metadata": {},
   "outputs": [],
   "source": [
    "# international\n",
    "gender_filtered.loc[gender_filtered['County/State/ Territory'].isnull(), 'Location'] = 'INT'\n",
    "gender_filtered.loc[gender_filtered['County/State/ Territory'].str.len() == 2, 'Location'] = 'OOS'\n",
    "gender_filtered.loc[gender_filtered['County/State/ Territory'].str.len() > 2, 'Location'] = 'INS'"
   ]
  },
  {
   "cell_type": "code",
   "execution_count": null,
   "metadata": {
    "scrolled": true
   },
   "outputs": [],
   "source": [
    "df = df.merge(gender_filtered[['Calculation1', 'Location']].groupby('Calculation1').agg(lambda x: x.iloc[0])\n",
    "         , on = 'Calculation1')"
   ]
  },
  {
   "cell_type": "code",
   "execution_count": null,
   "metadata": {},
   "outputs": [],
   "source": [
    "df"
   ]
  },
  {
   "cell_type": "code",
   "execution_count": null,
   "metadata": {},
   "outputs": [],
   "source": [
    "# now we need to repeat the above filtering for ethnicity, join the two, and then start classifying stuff\n",
    "# for simplicity, we just need the 'white' proportion"
   ]
  },
  {
   "cell_type": "code",
   "execution_count": null,
   "metadata": {},
   "outputs": [],
   "source": [
    "eth"
   ]
  },
  {
   "cell_type": "code",
   "execution_count": null,
   "metadata": {},
   "outputs": [],
   "source": [
    "eth_filtered = eth.groupby('Calculation1').filter(lambda df: len(df.loc[df['Count'] == 'Adm', 'Count']) > 0)\n",
    "eth_filtered = eth_filtered.groupby('Calculation1').filter(\n",
    "    lambda df: ('White' in df.loc[df['Count'] == 'App', 'Ethnicity'].tolist()) &\n",
    "               ('All' in df.loc[df['Count'] == 'App', 'Ethnicity'].tolist()) &\n",
    "               ('White' in df.loc[df['Count'] == 'Adm', 'Ethnicity'].tolist()) &\n",
    "               ('All' in df.loc[df['Count'] == 'Adm', 'Ethnicity'].tolist())\n",
    ")\n",
    "\n",
    "eth_filtered.loc[eth_filtered['County/State/ Territory'].isnull(), 'Location'] = 'INT'\n",
    "eth_filtered.loc[eth_filtered['County/State/ Territory'].str.len() == 2, 'Location'] = 'OOS'\n",
    "eth_filtered.loc[eth_filtered['County/State/ Territory'].str.len() > 2, 'Location'] = 'INS'\n",
    "\n",
    "df_eth = pd.pivot_table(eth_filtered,\n",
    "               index = 'Calculation1', \n",
    "               values = 'Pivot Field Values', \n",
    "               columns = ['Count', 'Ethnicity'])[['App', 'Adm']]\n",
    "\n",
    "df_eth['AppWhiteProportion'] = df_eth[('App', 'White')] / df_eth[('App', 'All')]\n",
    "df_eth['AdmWhiteProportion'] = df_eth[('Adm', 'White')] / df_eth[('Adm', 'All')]\n",
    "\n",
    "df_eth.columns = [''.join(col).strip() for col in df_eth.columns.values]\n",
    "\n",
    "df_eth = df_eth[['AppWhiteProportion', 'AdmWhiteProportion']]\n",
    "\n",
    "df_eth = df_eth.merge(eth_filtered[['Calculation1', 'Location']].groupby('Calculation1').agg(lambda x: x.iloc[0])\n",
    "         , on = 'Calculation1')"
   ]
  },
  {
   "cell_type": "code",
   "execution_count": null,
   "metadata": {},
   "outputs": [],
   "source": [
    "# turns out no schools both reported white/all proportions AND male/female/all proportions, so these analyses need to be done separately"
   ]
  },
  {
   "cell_type": "code",
   "execution_count": null,
   "metadata": {},
   "outputs": [],
   "source": [
    "df"
   ]
  },
  {
   "cell_type": "markdown",
   "metadata": {},
   "source": [
    "### actual machine learning"
   ]
  },
  {
   "cell_type": "code",
   "execution_count": null,
   "metadata": {},
   "outputs": [],
   "source": [
    "from sklearn.model_selection import train_test_split\n",
    "from sklearn.linear_model import LogisticRegression\n",
    "from sklearn.tree import DecisionTreeClassifier\n",
    "from sklearn.ensemble import RandomForestClassifier"
   ]
  },
  {
   "cell_type": "code",
   "execution_count": null,
   "metadata": {},
   "outputs": [],
   "source": [
    "df.head()"
   ]
  },
  {
   "cell_type": "code",
   "execution_count": null,
   "metadata": {},
   "outputs": [],
   "source": [
    "df['binary target'] = 1 * (df['Location'] == 'INS')"
   ]
  },
  {
   "cell_type": "code",
   "execution_count": null,
   "metadata": {},
   "outputs": [],
   "source": [
    "df['Location'].value_counts()"
   ]
  },
  {
   "cell_type": "code",
   "execution_count": null,
   "metadata": {},
   "outputs": [],
   "source": [
    "df['binary target'].value_counts()"
   ]
  },
  {
   "cell_type": "code",
   "execution_count": null,
   "metadata": {},
   "outputs": [],
   "source": [
    "train_binary, test_binary = train_test_split(df, test_size = 0.2, random_state = 42)"
   ]
  },
  {
   "cell_type": "code",
   "execution_count": null,
   "metadata": {},
   "outputs": [],
   "source": [
    "binary_models = {\n",
    "    'lr': LogisticRegression(),\n",
    "    'lrb': LogisticRegression(class_weight = \"balanced\"),\n",
    "    'dt': DecisionTreeClassifier(),\n",
    "    'rf': RandomForestClassifier()\n",
    "}"
   ]
  },
  {
   "cell_type": "code",
   "execution_count": null,
   "metadata": {},
   "outputs": [],
   "source": [
    "for m in binary_models:\n",
    "    binary_models[m].fit(train_binary[['AppMaleProportion', 'AdmMaleProportion']], train_binary['binary target'])\n",
    "    train_acc = binary_models[m].score(train_binary[['AppMaleProportion', 'AdmMaleProportion']], train_binary['binary target'])\n",
    "    test_acc = binary_models[m].score(test_binary[['AppMaleProportion', 'AdmMaleProportion']], test_binary['binary target'])\n",
    "    print(m, train_acc, test_acc)\n",
    "    \n",
    "    sns_cmap = ListedColormap(np.array(sns.color_palette())[0:2, :])\n",
    "\n",
    "    xx, yy = np.meshgrid(np.arange(0, 1, 0.01), np.arange(0, 1, 0.01))\n",
    "    Z_string = binary_models[m].predict(np.c_[xx.ravel(), yy.ravel()])\n",
    "    categories, Z_int = np.unique(Z_string, return_inverse = True)\n",
    "    Z_int = Z_int.reshape(xx.shape)\n",
    "    print(categories)\n",
    "    plt.contourf(xx, yy, Z_int, cmap = sns_cmap)\n",
    "    sns.scatterplot(data = train_binary, x = 'AppMaleProportion', y = 'AdmMaleProportion', hue = 'binary target', cmap = sns_cmap)\n",
    "#     plt.title('Logistic Regression on nba_train');\n",
    "#     break\n",
    "    plt.show()\n",
    "    "
   ]
  },
  {
   "cell_type": "code",
   "execution_count": null,
   "metadata": {},
   "outputs": [],
   "source": [
    "binary_models['dt'].predict(train_binary[['AppMaleProportion', 'AdmMaleProportion']])"
   ]
  },
  {
   "cell_type": "code",
   "execution_count": null,
   "metadata": {},
   "outputs": [],
   "source": []
  },
  {
   "cell_type": "code",
   "execution_count": null,
   "metadata": {},
   "outputs": [],
   "source": [
    "# merged data"
   ]
  },
  {
   "cell_type": "code",
   "execution_count": null,
   "metadata": {},
   "outputs": [],
   "source": [
    "df_merged = df.merge(df_eth, left_index = True, right_index = True)[['AppMaleProportion', 'AdmMaleProportion',\n",
    "                                                       'AppWhiteProportion', 'AdmWhiteProportion',\n",
    "                                                       'Location_x', 'binary target']].rename(\n",
    "                                                        columns = {'Location_x': 'Location'})\n",
    "df_merged"
   ]
  },
  {
   "cell_type": "code",
   "execution_count": null,
   "metadata": {},
   "outputs": [],
   "source": [
    "df_merged.corr()"
   ]
  },
  {
   "cell_type": "code",
   "execution_count": null,
   "metadata": {},
   "outputs": [],
   "source": [
    "train_merged, test_merged = train_test_split(df_merged, test_size = 0.2, random_state = 6)"
   ]
  },
  {
   "cell_type": "code",
   "execution_count": null,
   "metadata": {},
   "outputs": [],
   "source": [
    "binary_models_merged = {\n",
    "    'lr': LogisticRegression(),\n",
    "    'lrb': LogisticRegression(class_weight = \"balanced\"),\n",
    "    'dt': DecisionTreeClassifier(),\n",
    "    'rf': RandomForestClassifier()\n",
    "}"
   ]
  },
  {
   "cell_type": "code",
   "execution_count": null,
   "metadata": {},
   "outputs": [],
   "source": [
    "features = ['AppMaleProportion', 'AdmMaleProportion', 'AppWhiteProportion', 'AdmWhiteProportion']"
   ]
  },
  {
   "cell_type": "code",
   "execution_count": null,
   "metadata": {},
   "outputs": [],
   "source": [
    "for m in binary_models_merged:\n",
    "    binary_models_merged[m].fit(train_merged[features], train_merged['binary target'])\n",
    "    train_acc = binary_models_merged[m].score(train_merged[features], train_merged['binary target'])\n",
    "    test_acc = binary_models_merged[m].score(test_merged[features], test_merged['binary target'])\n",
    "    print(m, train_acc, test_acc)\n",
    "    \n",
    "    # could add in precision and recall\n",
    "    "
   ]
  },
  {
   "cell_type": "code",
   "execution_count": null,
   "metadata": {},
   "outputs": [],
   "source": [
    "# roc curve of binary logistic regression model"
   ]
  },
  {
   "cell_type": "code",
   "execution_count": null,
   "metadata": {},
   "outputs": [],
   "source": [
    "from sklearn.metrics import roc_curve"
   ]
  },
  {
   "cell_type": "code",
   "execution_count": null,
   "metadata": {},
   "outputs": [],
   "source": [
    "fpr, tpr, threshold = roc_curve(train_merged['binary target'], \n",
    "                               binary_models_merged['lr'].predict_proba(train_merged[features])[:, 1])"
   ]
  },
  {
   "cell_type": "code",
   "execution_count": null,
   "metadata": {},
   "outputs": [],
   "source": [
    "plt.plot(fpr, tpr);\n",
    "plt.xlabel('FPR')\n",
    "plt.ylabel('TPR')\n",
    "plt.title('ROC curve for unbalanced logistic regression model');"
   ]
  },
  {
   "cell_type": "code",
   "execution_count": null,
   "metadata": {},
   "outputs": [],
   "source": [
    "fpr, tpr, threshold = roc_curve(train_merged['binary target'], \n",
    "                               binary_models_merged['lrb'].predict_proba(train_merged[features])[:, 1])"
   ]
  },
  {
   "cell_type": "code",
   "execution_count": null,
   "metadata": {},
   "outputs": [],
   "source": [
    "plt.plot(fpr, tpr);\n",
    "plt.xlabel('FPR')\n",
    "plt.ylabel('TPR')\n",
    "plt.title('ROC curve for balanced logistic regression model');"
   ]
  },
  {
   "cell_type": "markdown",
   "metadata": {},
   "source": [
    "### fairness criterion"
   ]
  },
  {
   "cell_type": "code",
   "execution_count": null,
   "metadata": {},
   "outputs": [],
   "source": [
    "Y = train_merged['binary target']\n",
    "A = train_merged[features]\n",
    "R = binary_models_merged['lr'].predict_proba(train_merged[features])[:, 1]"
   ]
  },
  {
   "cell_type": "code",
   "execution_count": null,
   "metadata": {},
   "outputs": [],
   "source": [
    "# clearly these are garbage, pretty close to random model (0.5)\n",
    "# only classifying well because of the severe class imbalance"
   ]
  },
  {
   "cell_type": "code",
   "execution_count": null,
   "metadata": {},
   "outputs": [],
   "source": [
    "# plan: make A the category for whether or not a majority of applicants were male (or accepted)\n",
    "# then look at separation and sufficiency"
   ]
  },
  {
   "cell_type": "code",
   "execution_count": null,
   "metadata": {},
   "outputs": [],
   "source": [
    "A = train_merged['AppMaleProportion'] >= 0.5"
   ]
  },
  {
   "cell_type": "code",
   "execution_count": null,
   "metadata": {},
   "outputs": [],
   "source": [
    "plt.scatter(R[A], Y[A], label = 'male majority');\n",
    "plt.scatter(R[~A], Y[~A], label = 'female majority');\n",
    "plt.legend();"
   ]
  },
  {
   "cell_type": "code",
   "execution_count": null,
   "metadata": {},
   "outputs": [],
   "source": [
    "# out of state schools have more female applicants??? "
   ]
  },
  {
   "cell_type": "markdown",
   "metadata": {},
   "source": [
    "## Regression models"
   ]
  },
  {
   "cell_type": "code",
   "execution_count": null,
   "metadata": {},
   "outputs": [],
   "source": [
    "from sklearn.linear_model import LinearRegression, Ridge, RidgeCV, Lasso, LassoCV\n",
    "from sklearn.neighbors import KNeighborsRegressor"
   ]
  },
  {
   "cell_type": "code",
   "execution_count": null,
   "metadata": {},
   "outputs": [],
   "source": [
    "# given all other features, predict AdmWhiteProportion"
   ]
  },
  {
   "cell_type": "code",
   "execution_count": null,
   "metadata": {},
   "outputs": [],
   "source": [
    "df_ohe = pd.get_dummies(df_merged, columns = ['Location']) \\\n",
    ".drop(['binary target', 'Location_INS'], axis = 1) \\\n",
    ".rename(columns = {'AdmWhiteProportion': 'TargetProportion'}) \\\n",
    ".iloc[:, [0, 1, 2, 4, 5, 3]]"
   ]
  },
  {
   "cell_type": "code",
   "execution_count": null,
   "metadata": {},
   "outputs": [],
   "source": [
    "df_ohe"
   ]
  },
  {
   "cell_type": "code",
   "execution_count": null,
   "metadata": {},
   "outputs": [],
   "source": [
    "train_ohe, test_ohe = train_test_split(df_ohe, test_size = 0.2, random_state = 17)"
   ]
  },
  {
   "cell_type": "code",
   "execution_count": null,
   "metadata": {},
   "outputs": [],
   "source": [
    "regression_models = {\n",
    "    'ols': LinearRegression(),\n",
    "    'ridge': Ridge(),\n",
    "    'ridgecv': RidgeCV(),\n",
    "    'lasso': Lasso(),\n",
    "    'lassocv': LassoCV(),\n",
    "    'knn': KNeighborsRegressor()\n",
    "}"
   ]
  },
  {
   "cell_type": "code",
   "execution_count": null,
   "metadata": {},
   "outputs": [],
   "source": [
    "for m in regression_models:\n",
    "    regression_models[m].fit(train_ohe.iloc[:, :-1], train_ohe.iloc[:, -1])\n",
    "    train_rmse = np.mean((regression_models[m].predict(train_ohe.iloc[:, :-1]) - train_ohe.iloc[:, -1])**2)\n",
    "    test_rmse = np.mean((regression_models[m].predict(test_ohe.iloc[:, :-1]) - test_ohe.iloc[:, -1])**2)\n",
    "    if m == 'knn':\n",
    "        print(m, train_rmse, test_rmse)\n",
    "    else:\n",
    "        print(f\"{m}, {np.round(train_rmse, 3)}, {np.round(test_rmse, 3)}, {np.round(regression_models[m].coef_, 3)}, {np.round(regression_models[m].intercept_, 3)}\")\n",
    "    "
   ]
  },
  {
   "cell_type": "code",
   "execution_count": null,
   "metadata": {},
   "outputs": [],
   "source": [
    "train_ohe.iloc[:, -1].mean()"
   ]
  },
  {
   "cell_type": "code",
   "execution_count": null,
   "metadata": {},
   "outputs": [],
   "source": [
    "regression_models['lasso'].predict(train_ohe.iloc[:, :-1])"
   ]
  },
  {
   "cell_type": "code",
   "execution_count": null,
   "metadata": {},
   "outputs": [],
   "source": [
    "df_ohe"
   ]
  },
  {
   "cell_type": "code",
   "execution_count": null,
   "metadata": {},
   "outputs": [],
   "source": [
    "train_merged"
   ]
  },
  {
   "cell_type": "code",
   "execution_count": null,
   "metadata": {},
   "outputs": [],
   "source": []
  }
 ],
 "metadata": {
  "kernelspec": {
   "display_name": "Python 3",
   "language": "python",
   "name": "python3"
  },
  "language_info": {
   "codemirror_mode": {
    "name": "ipython",
    "version": 3
   },
   "file_extension": ".py",
   "mimetype": "text/x-python",
   "name": "python",
   "nbconvert_exporter": "python",
   "pygments_lexer": "ipython3",
   "version": "3.7.4"
  }
 },
 "nbformat": 4,
 "nbformat_minor": 4
}
